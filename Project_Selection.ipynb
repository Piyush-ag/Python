{
 "cells": [
  {
   "cell_type": "code",
   "execution_count": 1,
   "metadata": {
    "id": "rJTRymm77seN"
   },
   "outputs": [
    {
     "name": "stdout",
     "output_type": "stream",
     "text": [
      "Restricted license - for non-production use only - expires 2025-11-24\n",
      "Gurobi Optimizer version 11.0.3 build v11.0.3rc0 (mac64[arm] - Darwin 23.6.0 23G93)\n",
      "\n",
      "CPU model: Apple M3\n",
      "Thread count: 8 physical cores, 8 logical processors, using up to 8 threads\n",
      "\n",
      "Optimize a model with 1 rows, 5 columns and 5 nonzeros\n",
      "Model fingerprint: 0x5f0f5004\n",
      "Variable types: 0 continuous, 5 integer (5 binary)\n",
      "Coefficient statistics:\n",
      "  Matrix range     [3e+01, 1e+02]\n",
      "  Objective range  [8e+00, 2e+01]\n",
      "  Bounds range     [1e+00, 1e+00]\n",
      "  RHS range        [2e+02, 2e+02]\n",
      "Found heuristic solution: objective 35.0000000\n",
      "Presolve removed 1 rows and 5 columns\n",
      "Presolve time: 0.00s\n",
      "Presolve: All rows and columns removed\n",
      "\n",
      "Explored 0 nodes (0 simplex iterations) in 0.01 seconds (0.00 work units)\n",
      "Thread count was 1 (of 8 available processors)\n",
      "\n",
      "Solution count 2: 38 35 \n",
      "\n",
      "Optimal solution found (tolerance 1.00e-04)\n",
      "Best objective 3.800000000000e+01, best bound 3.800000000000e+01, gap 0.0000%\n",
      "\n",
      "Optimization Results:\n",
      "Optimal Total NPV: 38.0\n",
      "\n",
      "All Decision Variables:\n",
      "x1 = 0.0\n",
      "x2 = 0.0\n",
      "x3 = 1.0\n",
      "x4 = 1.0\n",
      "x5 = 1.0\n"
     ]
    }
   ],
   "source": [
    "\n",
    "\n",
    "from gurobipy import Model, GRB\n",
    "import gurobipy as gp\n",
    "\n",
    "# Create a new model\n",
    "m = gp.Model(\"project_selection\")\n",
    "\n",
    "# Create binary variables\n",
    "x = m.addVars(5, vtype=GRB.BINARY, name=\"x\")\n",
    "\n",
    "# Set objective function coefficients\n",
    "obj_coeffs = [10, 17, 16, 8, 14]\n",
    "\n",
    "# Set objective: maximize NPV\n",
    "m.setObjective(10*x[0] + 17*x[1] + 16*x[2] + 8*x[3] + 14*x[4], GRB.MAXIMIZE)\n",
    "\n",
    "# Add resource constraint\n",
    "m.addConstr(48*x[0] + 96*x[1] + 80*x[2] + 32*x[3] + 64*x[4] <= 176, \"budget\")\n",
    "\n",
    "\n",
    "# Optimize model\n",
    "m.optimize()\n",
    "\n",
    "# Print results\n",
    "print('\\nOptimization Results:')\n",
    "print(f'Optimal Total NPV: {m.objVal}')\n",
    "\n",
    "print('\\nAll Decision Variables:')\n",
    "for i in range(5):\n",
    "    print(f'x{i+1} = {x[i].x}')"
   ]
  }
 ],
 "metadata": {
  "colab": {
   "provenance": []
  },
  "kernelspec": {
   "display_name": ".venv",
   "language": "python",
   "name": "python3"
  },
  "language_info": {
   "codemirror_mode": {
    "name": "ipython",
    "version": 3
   },
   "file_extension": ".py",
   "mimetype": "text/x-python",
   "name": "python",
   "nbconvert_exporter": "python",
   "pygments_lexer": "ipython3",
   "version": "3.9.6"
  }
 },
 "nbformat": 4,
 "nbformat_minor": 0
}
