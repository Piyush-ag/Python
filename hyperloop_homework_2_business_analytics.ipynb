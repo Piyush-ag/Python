{
 "cells": [
  {
   "cell_type": "code",
   "execution_count": 2,
   "metadata": {},
   "outputs": [
    {
     "name": "stdout",
     "output_type": "stream",
     "text": [
      "Gurobi Optimizer version 11.0.3 build v11.0.3rc0 (mac64[arm] - Darwin 23.6.0 23G93)\n",
      "\n",
      "CPU model: Apple M3\n",
      "Thread count: 8 physical cores, 8 logical processors, using up to 8 threads\n",
      "\n",
      "Optimize a model with 5 rows, 2 columns and 8 nonzeros\n",
      "Model fingerprint: 0x5f50b525\n",
      "Coefficient statistics:\n",
      "  Matrix range     [1e+00, 2e+02]\n",
      "  Objective range  [5e+00, 8e+00]\n",
      "  Bounds range     [0e+00, 0e+00]\n",
      "  RHS range        [1e+01, 1e+04]\n",
      "Presolve removed 2 rows and 0 columns\n",
      "Presolve time: 0.00s\n",
      "Presolved: 3 rows, 2 columns, 6 nonzeros\n",
      "\n",
      "Iteration    Objective       Primal Inf.    Dual Inf.      Time\n",
      "       0    3.7000000e+02   7.721200e+01   0.000000e+00      0s\n",
      "       2    3.4000000e+02   0.000000e+00   0.000000e+00      0s\n",
      "\n",
      "Solved in 2 iterations and 0.00 seconds (0.00 work units)\n",
      "Optimal objective  3.400000000e+02\n",
      "\n",
      "Optimal Solution:\n",
      "Coach Tickets (x) = 20.00\n",
      "First-Class Tickets (y) = 30.00\n",
      "Objective Value (Max Profit) = $340.00\n",
      "\n",
      "Constraint Details:\n",
      "Min_Coach_Tickets: -10.00 slack\n",
      "Min_First_Class_Tickets: -20.00 slack\n",
      "Max_Total_Tickets: 0.00 slack\n",
      "Seating_Length: 0.00 slack\n",
      "Weight_Capacity: 1000.00 slack\n"
     ]
    }
   ],
   "source": [
    "from gurobipy import Model, GRB\n",
    "\n",
    "# Create a new model\n",
    "m = Model(\"Hyperloop\")\n",
    "\n",
    "# Create variables\n",
    "# x: Number of coach tickets, y: Number of first-class tickets\n",
    "x = m.addVar(name=\"Coach_Tickets\", lb=0)\n",
    "y = m.addVar(name=\"First_Class_Tickets\", lb=0)\n",
    "\n",
    "# Set objective: maximize 5x + 8y\n",
    "m.setObjective(5 * x + 8 * y, GRB.MAXIMIZE)\n",
    "\n",
    "# Add constraints\n",
    "# Minimum ticket sales constraints\n",
    "m.addConstr(x >= 10, \"Min_Coach_Tickets\")\n",
    "m.addConstr(y >= 10, \"Min_First_Class_Tickets\")\n",
    "\n",
    "# Maximum number of tickets constraint\n",
    "m.addConstr(x + y <= 50, \"Max_Total_Tickets\")\n",
    "\n",
    "# Maximum seating length constraint\n",
    "m.addConstr(30 * x + 60 * y <= 2400, \"Seating_Length\")\n",
    "\n",
    "# Maximum weight capacity constraint\n",
    "m.addConstr(150 * x + 200 * y <= 10000, \"Weight_Capacity\")\n",
    "\n",
    "# Optimize model\n",
    "m.optimize()\n",
    "\n",
    "# Print results\n",
    "if m.status == GRB.OPTIMAL:\n",
    "    print('\\nOptimal Solution:')\n",
    "    print(f'Coach Tickets (x) = {x.x:.2f}')\n",
    "    print(f'First-Class Tickets (y) = {y.x:.2f}')\n",
    "    print(f'Objective Value (Max Profit) = ${m.objVal:.2f}')\n",
    "else:\n",
    "    print('No optimal solution found')\n",
    "\n",
    "# Print constraint information\n",
    "print('\\nConstraint Details:')\n",
    "for c in m.getConstrs():\n",
    "    print(f'{c.ConstrName}: {c.slack:.2f} slack')"
   ]
  }
 ],
 "metadata": {
  "kernelspec": {
   "display_name": ".venv",
   "language": "python",
   "name": "python3"
  },
  "language_info": {
   "codemirror_mode": {
    "name": "ipython",
    "version": 3
   },
   "file_extension": ".py",
   "mimetype": "text/x-python",
   "name": "python",
   "nbconvert_exporter": "python",
   "pygments_lexer": "ipython3",
   "version": "3.9.6"
  }
 },
 "nbformat": 4,
 "nbformat_minor": 2
}
