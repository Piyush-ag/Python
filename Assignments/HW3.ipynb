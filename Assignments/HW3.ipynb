{
 "cells": [
  {
   "cell_type": "markdown",
   "metadata": {},
   "source": [
    "# Homework 3\n",
    "\n",
    "\n",
    "Submission format: Once you are done, save your file as: `YourFirstName_YourLastName_HW3_SectionNumber.ipynb`.**\n"
   ]
  },
  {
   "cell_type": "markdown",
   "metadata": {},
   "source": [
    "## Question 1:\n",
    "\n",
    "Write a function that takes a input of a number. If the number is larger or equal to 0, return the string \"Non-negative\"; if the value is less than 0, return \"Negative\".\n",
    "\n",
    "\n",
    "\n"
   ]
  },
  {
   "cell_type": "code",
   "execution_count": 3,
   "metadata": {},
   "outputs": [
    {
     "data": {
      "text/plain": [
       "'Negative'"
      ]
     },
     "execution_count": 3,
     "metadata": {},
     "output_type": "execute_result"
    }
   ],
   "source": [
    "# Write a function that takes a input of a number. If the number is larger or equal to 0, return the string \"Non-negative\"; if the value is less than 0, return \"Negative\".\n",
    "\n",
    "# Answer to Question 1:\n",
    "def fun_q1(number):\n",
    "    if number >= 0:\n",
    "        return \"Non-negative\"\n",
    "    else:\n",
    "        return \"Negative\"\n",
    "\n",
    "fun_q1(-7)"
   ]
  },
  {
   "cell_type": "markdown",
   "metadata": {},
   "source": [
    "## Question 2:\n",
    "\n",
    "Write a function which will take input of a list and output a new list with each value * 2.\n",
    "\n",
    "\n",
    "\n"
   ]
  },
  {
   "cell_type": "code",
   "execution_count": 4,
   "metadata": {},
   "outputs": [
    {
     "name": "stdout",
     "output_type": "stream",
     "text": [
      "[2, 4, 6]\n"
     ]
    }
   ],
   "source": [
    "# Write a function which will take input of a list and output a new list with each value * 2.\n",
    "\n",
    "# Answer to Question 2:\n",
    "\n",
    "def fun_q2(list):\n",
    "    return [i * 2 for i in list]\n",
    "\n",
    "print(fun_q2([1, 2, 3]))"
   ]
  },
  {
   "cell_type": "markdown",
   "metadata": {},
   "source": [
    "## Question 3:\n",
    "\n",
    "Write a function which takes a single string, that will return a list of the words in the string. \n",
    "\n",
    "\n",
    "\n"
   ]
  },
  {
   "cell_type": "code",
   "execution_count": 5,
   "metadata": {},
   "outputs": [
    {
     "name": "stdout",
     "output_type": "stream",
     "text": [
      "['Python', 'for', 'Data', 'Analysis!']\n"
     ]
    }
   ],
   "source": [
    "# Write a function which takes a single string, that will return a list of the words in the string. \n",
    "\n",
    "# Answer to Question 3:\n",
    "def fun_q3(str):\n",
    "    return str.split()\n",
    "\n",
    "\n",
    "print(fun_q3(\"Python for Data Analysis!\"))"
   ]
  },
  {
   "cell_type": "markdown",
   "metadata": {},
   "source": [
    "## Question 4: I33t\n",
    "Write a function to convert a string to **I33t** format. You can read more about I33t here: \n",
    "https://www.urbandictionary.com/define.php?term=l33t\n",
    "\n",
    "We do want to write a function to do basic I33t which is to replace vowels with numbers.\n",
    "- Replace A to 4\n",
    "- Replace E to 3\n",
    "- Replace I with 1\n",
    "- Replace O with 0\n",
    "\n",
    "Name your function `I33t`. Your function should accept a parameter `text`. \n",
    "1. Use the string `upper()` method to convert `text` to all capital letters. \n",
    "2. Use the string `replace()` method 4 times (one for each vowel) to convert the vowels to numbers. If you want to, you can use a `for` loop instead of the `replace` function.\n",
    "3. Return the new `text`\n",
    "4. Call the function with your choice of sentence and print the output of the `I33t` function.\n"
   ]
  },
  {
   "cell_type": "code",
   "execution_count": 6,
   "metadata": {},
   "outputs": [
    {
     "name": "stdout",
     "output_type": "stream",
     "text": [
      "TH1S 1S TH3 PYTH0N F0R D4T4 4N4LYS1S C0URS3!\n"
     ]
    }
   ],
   "source": [
    "# Answer to Question 4:\n",
    "\n",
    "def I33t(text):\n",
    "    text = text.upper()\n",
    "    text = text.replace('A', '4')\n",
    "    text = text.replace('E', '3')\n",
    "    text = text.replace('I', '1')\n",
    "    text = text.replace('O', '0')\n",
    "    return text\n",
    "\n",
    "\n",
    "print(I33t(\"This is the Python for Data Analysis course!\"))"
   ]
  },
  {
   "cell_type": "markdown",
   "metadata": {},
   "source": [
    "## Question 5:\n",
    "\n",
    "Write a function that accepts value `n` and returns `n`th Harmonic number. Here is a link to Harmonic number explanation: https://en.wikipedia.org/wiki/Harmonic_number"
   ]
  },
  {
   "cell_type": "code",
   "execution_count": 7,
   "metadata": {},
   "outputs": [
    {
     "name": "stdout",
     "output_type": "stream",
     "text": [
      "1.8333333333333333\n"
     ]
    }
   ],
   "source": [
    "# Answer to Question 5:\n",
    "\n",
    "def Harmonic(num):\n",
    "    return sum(1/i for i in range(1, num+1))\n",
    "\n",
    "print(Harmonic(3))"
   ]
  },
  {
   "cell_type": "markdown",
   "metadata": {},
   "source": [
    "## Question 6: Learning about `mapping`\n",
    "\n",
    "`map` is a python built-in function that allows you to process and transform all the items in an iterable, such as a `list`, `tuple`, `set`, or a `dictionary`, without using an explicit `for loop`, a technique commonly known as `mapping`.\n",
    "\n",
    "`mapping` is a python feature that comes in handy quite frequently. This is especially true in scenarios where there is a lot of data at play. This question will walk you through one example of mapping first; and then it will provide an opportunity to practice it. \n",
    "\n",
    "`mapping` consists of applying a transformation function to an iterable to produce a new iterable.\n",
    "\n",
    "Most commonly used syntax of `map` is:\n",
    "\n",
    ">```python\n",
    ">map(function_name, iterable)\n",
    ">```\n",
    "\n",
    "\n",
    "The first step in `mapping` is going to be creating a function. Note that map is only going to work with functions that accept one argument. Second step is to define an iterable that you like to apply function to, and finally call `map(function_name, iterable)`.\n",
    "\n",
    ">**Example:** Consider the following list: `data = [5, 10, 15, 20]`\n",
    ">\n",
    ">Assume we want to add 6 to each of its elements. We will quickly create a function to do just that:\n",
    ">\n",
    ">>\n",
    ">>```python\n",
    ">>def add6(x):\n",
    ">>    return(x + 6)\n",
    ">>```\n",
    ">>\n",
    ">\n",
    ">\n",
    ">\n",
    ">Now if we were to try `add6(data)`, we would get an `error` because we cannot add an integer to a list. Our goal is to perform this arithmetic to our entire list, so let us consider utilizing the `map` method. The `map` method will take the function we would like to map as well as an iterable as positional arguments in that order. `newdata = map(add6, data)`.\n",
    "Finally, `list(newdata)` will return the new iterable we are looking for.\n",
    ">\n",
    ">> **Here is the whole snippet**\n",
    ">>>```python\n",
    ">>>def add6(x):\n",
    ">>>    return(x + 6)\n",
    ">>>\n",
    ">>>data = [5, 10, 15, 20]\n",
    ">>>newdata = map(add6, data)\n",
    ">>>list(newdata)\n",
    ">>>```\n",
    ">\n",
    ">\n",
    "Now, let's practice. In the question 5, you have written a function that takes value of `n` and returns `n`th Harmonic number. In this question, \n",
    "- create `list_1`, a list of integer numbers from 1 to 100.\n",
    "- map your defined function and `list_1`. \n",
    "- use `list` function to return the new list, `list_2`.\n"
   ]
  },
  {
   "cell_type": "code",
   "execution_count": 8,
   "metadata": {},
   "outputs": [
    {
     "data": {
      "text/plain": [
       "[1.0,\n",
       " 1.5,\n",
       " 1.8333333333333333,\n",
       " 2.083333333333333,\n",
       " 2.283333333333333,\n",
       " 2.4499999999999997,\n",
       " 2.5928571428571425,\n",
       " 2.7178571428571425,\n",
       " 2.8289682539682537,\n",
       " 2.9289682539682538,\n",
       " 3.0198773448773446,\n",
       " 3.103210678210678,\n",
       " 3.180133755133755,\n",
       " 3.251562326562327,\n",
       " 3.3182289932289937,\n",
       " 3.3807289932289937,\n",
       " 3.439552522640758,\n",
       " 3.4951080781963135,\n",
       " 3.547739657143682,\n",
       " 3.597739657143682,\n",
       " 3.6453587047627294,\n",
       " 3.690813250217275,\n",
       " 3.73429151108684,\n",
       " 3.7759581777535067,\n",
       " 3.8159581777535068,\n",
       " 3.854419716215045,\n",
       " 3.8914567532520823,\n",
       " 3.927171038966368,\n",
       " 3.9616537975870574,\n",
       " 3.9949871309203906,\n",
       " 4.02724519543652,\n",
       " 4.05849519543652,\n",
       " 4.08879822573955,\n",
       " 4.118209990445433,\n",
       " 4.146781419016861,\n",
       " 4.174559196794639,\n",
       " 4.201586223821666,\n",
       " 4.22790201329535,\n",
       " 4.2535430389363755,\n",
       " 4.278543038936376,\n",
       " 4.302933282838815,\n",
       " 4.326742806648339,\n",
       " 4.349998620601827,\n",
       " 4.3727258933290996,\n",
       " 4.394948115551322,\n",
       " 4.416687245986104,\n",
       " 4.4379638417307845,\n",
       " 4.4587971750641175,\n",
       " 4.4792053383294235,\n",
       " 4.499205338329423,\n",
       " 4.518813181466678,\n",
       " 4.538043950697447,\n",
       " 4.556911875225749,\n",
       " 4.575430393744267,\n",
       " 4.593612211926086,\n",
       " 4.611469354783229,\n",
       " 4.6290132144323515,\n",
       " 4.646254593742697,\n",
       " 4.6632037462850695,\n",
       " 4.679870412951736,\n",
       " 4.696263855574687,\n",
       " 4.712392887832752,\n",
       " 4.7282659037057675,\n",
       " 4.7438909037057675,\n",
       " 4.759275519090383,\n",
       " 4.774427034241898,\n",
       " 4.789352407376227,\n",
       " 4.804058289729168,\n",
       " 4.818551043352357,\n",
       " 4.832836757638071,\n",
       " 4.846921264680325,\n",
       " 4.860810153569214,\n",
       " 4.8745087837062,\n",
       " 4.888022297219713,\n",
       " 4.901355630553047,\n",
       " 4.914513525289889,\n",
       " 4.927500538276902,\n",
       " 4.940321051097415,\n",
       " 4.9529792789455165,\n",
       " 4.965479278945517,\n",
       " 4.977824957957862,\n",
       " 4.9900200799090815,\n",
       " 5.002068272680166,\n",
       " 5.013973034584928,\n",
       " 5.025737740467281,\n",
       " 5.037365647444025,\n",
       " 5.048859900317588,\n",
       " 5.0602235366812245,\n",
       " 5.0714594917374045,\n",
       " 5.082570602848516,\n",
       " 5.0935596138375265,\n",
       " 5.104429179054918,\n",
       " 5.115181867226961,\n",
       " 5.125820165099301,\n",
       " 5.136346480888775,\n",
       " 5.146763147555442,\n",
       " 5.157072425905957,\n",
       " 5.1672765075386105,\n",
       " 5.177377517639621,\n",
       " 5.187377517639621]"
      ]
     },
     "execution_count": 8,
     "metadata": {},
     "output_type": "execute_result"
    }
   ],
   "source": [
    "# Answer to Question 6:\n",
    "list_1 = [i for i in range(1, 101)]\n",
    "list(map(Harmonic, list_1))"
   ]
  }
 ],
 "metadata": {
  "kernelspec": {
   "display_name": ".venv",
   "language": "python",
   "name": "python3"
  },
  "language_info": {
   "codemirror_mode": {
    "name": "ipython",
    "version": 3
   },
   "file_extension": ".py",
   "mimetype": "text/x-python",
   "name": "python",
   "nbconvert_exporter": "python",
   "pygments_lexer": "ipython3",
   "version": "3.9.6"
  }
 },
 "nbformat": 4,
 "nbformat_minor": 4
}
