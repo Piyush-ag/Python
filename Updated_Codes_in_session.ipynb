{
 "cells": [
  {
   "cell_type": "markdown",
   "id": "b7fcff4b",
   "metadata": {},
   "source": [
    "### string data type"
   ]
  },
  {
   "cell_type": "code",
   "execution_count": 92,
   "id": "271a513e",
   "metadata": {},
   "outputs": [],
   "source": [
    "name = \"Mohammad\""
   ]
  },
  {
   "cell_type": "code",
   "execution_count": 93,
   "id": "2009b00c",
   "metadata": {},
   "outputs": [
    {
     "data": {
      "text/plain": [
       "'Mohammad'"
      ]
     },
     "execution_count": 93,
     "metadata": {},
     "output_type": "execute_result"
    }
   ],
   "source": [
    "name"
   ]
  },
  {
   "cell_type": "code",
   "execution_count": 94,
   "id": "a3a22f09",
   "metadata": {},
   "outputs": [
    {
     "data": {
      "text/plain": [
       "8"
      ]
     },
     "execution_count": 94,
     "metadata": {},
     "output_type": "execute_result"
    }
   ],
   "source": [
    "a = 5\n",
    "a+3"
   ]
  },
  {
   "cell_type": "code",
   "execution_count": 95,
   "id": "60f3f1dd",
   "metadata": {},
   "outputs": [
    {
     "data": {
      "text/plain": [
       "5"
      ]
     },
     "execution_count": 95,
     "metadata": {},
     "output_type": "execute_result"
    }
   ],
   "source": [
    "a"
   ]
  },
  {
   "cell_type": "code",
   "execution_count": 96,
   "id": "3deb15d9",
   "metadata": {},
   "outputs": [
    {
     "data": {
      "text/plain": [
       "8"
      ]
     },
     "execution_count": 96,
     "metadata": {},
     "output_type": "execute_result"
    }
   ],
   "source": [
    "a = a+3\n",
    "a"
   ]
  },
  {
   "cell_type": "code",
   "execution_count": 97,
   "id": "167f61ab",
   "metadata": {},
   "outputs": [
    {
     "data": {
      "text/plain": [
       "'Ali'"
      ]
     },
     "execution_count": 97,
     "metadata": {},
     "output_type": "execute_result"
    }
   ],
   "source": [
    "name = \"Ali\"\n",
    "name"
   ]
  },
  {
   "cell_type": "code",
   "execution_count": 98,
   "id": "e5080545",
   "metadata": {},
   "outputs": [],
   "source": [
    "name = \"Mohammad\""
   ]
  },
  {
   "cell_type": "code",
   "execution_count": 99,
   "id": "437f2a74",
   "metadata": {},
   "outputs": [
    {
     "data": {
      "text/plain": [
       "'Welcome, Mohammad'"
      ]
     },
     "execution_count": 99,
     "metadata": {},
     "output_type": "execute_result"
    }
   ],
   "source": [
    "text = \"Welcome, \" + name\n",
    "text"
   ]
  },
  {
   "cell_type": "code",
   "execution_count": 100,
   "id": "50dbc2aa",
   "metadata": {},
   "outputs": [
    {
     "data": {
      "text/plain": [
       "'Mohammad34'"
      ]
     },
     "execution_count": 100,
     "metadata": {},
     "output_type": "execute_result"
    }
   ],
   "source": [
    "\"Mohammad\" + str(34)"
   ]
  },
  {
   "cell_type": "code",
   "execution_count": 101,
   "id": "23477c71",
   "metadata": {},
   "outputs": [
    {
     "data": {
      "text/plain": [
       "17"
      ]
     },
     "execution_count": 101,
     "metadata": {},
     "output_type": "execute_result"
    }
   ],
   "source": [
    "len(text)"
   ]
  },
  {
   "cell_type": "code",
   "execution_count": 102,
   "id": "1761290b",
   "metadata": {},
   "outputs": [
    {
     "data": {
      "text/plain": [
       "'W'"
      ]
     },
     "execution_count": 102,
     "metadata": {},
     "output_type": "execute_result"
    }
   ],
   "source": [
    "text[0]"
   ]
  },
  {
   "cell_type": "code",
   "execution_count": 103,
   "id": "1afbd83b",
   "metadata": {},
   "outputs": [
    {
     "data": {
      "text/plain": [
       "'d'"
      ]
     },
     "execution_count": 103,
     "metadata": {},
     "output_type": "execute_result"
    }
   ],
   "source": [
    "# Most common erros: INDEX Error\n",
    "text[len(text)-1]"
   ]
  },
  {
   "cell_type": "code",
   "execution_count": 104,
   "id": "fbbf3912",
   "metadata": {},
   "outputs": [
    {
     "data": {
      "text/plain": [
       "'d'"
      ]
     },
     "execution_count": 104,
     "metadata": {},
     "output_type": "execute_result"
    }
   ],
   "source": [
    "text[-1]"
   ]
  },
  {
   "cell_type": "code",
   "execution_count": 105,
   "id": "5f837146",
   "metadata": {},
   "outputs": [
    {
     "name": "stdout",
     "output_type": "stream",
     "text": [
      "Welcome, Mohammad\n"
     ]
    }
   ],
   "source": [
    "# Most common erros:  NAME Error\n",
    "print(text)"
   ]
  },
  {
   "cell_type": "code",
   "execution_count": 106,
   "id": "6c72ff76",
   "metadata": {},
   "outputs": [
    {
     "name": "stdout",
     "output_type": "stream",
     "text": [
      "John's age is 20\n"
     ]
    }
   ],
   "source": [
    "# Most common erros:  Type Error\n",
    "age = 20\n",
    "name = \"John\"\n",
    "print(name + \"'s age is \" + str(age))"
   ]
  },
  {
   "cell_type": "code",
   "execution_count": 107,
   "id": "d2d483d7",
   "metadata": {},
   "outputs": [
    {
     "name": "stdout",
     "output_type": "stream",
     "text": [
      "<class 'int'>\n",
      "<class 'str'>\n"
     ]
    }
   ],
   "source": [
    "age = 20\n",
    "name = \"John\"\n",
    "print(type(age))\n",
    "print(type(str(age)))"
   ]
  },
  {
   "cell_type": "code",
   "execution_count": 108,
   "id": "48ba654f",
   "metadata": {},
   "outputs": [
    {
     "name": "stdout",
     "output_type": "stream",
     "text": [
      "John's age is 20\n"
     ]
    }
   ],
   "source": [
    "print(name + \"'s age is \" + str(age))"
   ]
  },
  {
   "cell_type": "code",
   "execution_count": 109,
   "id": "8f94418d",
   "metadata": {},
   "outputs": [
    {
     "data": {
      "text/plain": [
       "'https://raw.githubusercontent.com/CSSEGISandData/COVID-19/master/csse_covid_19_data/csse_covid_19_daily_reports_us/01-01-2021.csv'"
      ]
     },
     "execution_count": 109,
     "metadata": {},
     "output_type": "execute_result"
    }
   ],
   "source": [
    "date = \"01-01-2021\"\n",
    "\n",
    "\"https://raw.githubusercontent.com/CSSEGISandData/COVID-19/master/csse_covid_19_data/csse_covid_19_daily_reports_us/\" + date + \".csv\""
   ]
  },
  {
   "cell_type": "code",
   "execution_count": 110,
   "id": "dcab23c0",
   "metadata": {},
   "outputs": [
    {
     "name": "stdout",
     "output_type": "stream",
     "text": [
      "https://raw.githubusercontent.com/CSSEGISandData/COVID-19/master/csse_covid_19_data/csse_covid_19_daily_reports_us/01-01-2021.csv\n"
     ]
    }
   ],
   "source": [
    "date = \"01-01-2021\"\n",
    "\n",
    "url = f\"https://raw.githubusercontent.com/CSSEGISandData/COVID-19/master/csse_covid_19_data/csse_covid_19_daily_reports_us/{date}.csv\"\n",
    "\n",
    "print(url)"
   ]
  },
  {
   "cell_type": "code",
   "execution_count": 111,
   "id": "85739cec",
   "metadata": {},
   "outputs": [
    {
     "name": "stdout",
     "output_type": "stream",
     "text": [
      "Dear Max, Thank you for your email! I hope to see you before 2025 in Baltimore. Best regards, Mohammad\n"
     ]
    }
   ],
   "source": [
    "location = \"Baltimore\"\n",
    "name = \"Max\"\n",
    "year = 2025\n",
    "text =  \"Dear \" + name + \", Thank you for your email! I hope to see you before \"+ str(year) + \" in \" + location + \". Best regards, Mohammad\"\n",
    "\n",
    "print(text)"
   ]
  },
  {
   "cell_type": "code",
   "execution_count": 112,
   "id": "6369f9ab",
   "metadata": {},
   "outputs": [
    {
     "name": "stdout",
     "output_type": "stream",
     "text": [
      "Dear Max,\n",
      " Thank you for your email! I hope to see you before 2025 in Baltimore . \n",
      " Best regards, \n",
      " Mohammad\n"
     ]
    }
   ],
   "source": [
    "location = \"Baltimore\"\n",
    "name = \"Max\"\n",
    "\n",
    "text =  f\"Dear {name},\\n Thank you for your email! I hope to see you before {year} in {location} . \\n Best regards, \\n Mohammad\"\n",
    "\n",
    "print(text)"
   ]
  },
  {
   "cell_type": "code",
   "execution_count": 113,
   "id": "23461964",
   "metadata": {},
   "outputs": [
    {
     "data": {
      "text/plain": [
       "\"Mohammad's book\""
      ]
     },
     "execution_count": 113,
     "metadata": {},
     "output_type": "execute_result"
    }
   ],
   "source": [
    "\"Mohammad's book\""
   ]
  },
  {
   "cell_type": "code",
   "execution_count": 114,
   "id": "23008801",
   "metadata": {},
   "outputs": [
    {
     "name": "stdout",
     "output_type": "stream",
     "text": [
      "Mohammad's book\n",
      " Mohammad's book \n",
      " Mohammad's book \n",
      "Best regards,\n",
      "Mohammad\n",
      "\n",
      "\n"
     ]
    }
   ],
   "source": [
    "# Thetemp = \"Mohammad's book\"\n",
    "temp = 'Mohammad\\'s book'\n",
    "print(temp)\n",
    "temp = \"\"\" Mohammad's book \"\"\"\n",
    "print(temp)\n",
    "temp = ''' Mohammad's book \n",
    "Best regards,\n",
    "Mohammad\n",
    "\n",
    "'''\n",
    "print(temp)"
   ]
  },
  {
   "cell_type": "code",
   "execution_count": 115,
   "id": "62f3f4eb",
   "metadata": {},
   "outputs": [
    {
     "name": "stdout",
     "output_type": "stream",
     "text": [
      "Some quick example to show how to show quotation mark ' \" newline \n",
      " tab \t and backslash \\ in a string\n"
     ]
    }
   ],
   "source": [
    "sentence = 'Some quick example to show how to show quotation mark \\' \\\" newline \\n tab \\t and backslash \\\\ in a string'\n",
    "print(sentence)"
   ]
  },
  {
   "cell_type": "code",
   "execution_count": 116,
   "id": "076242ab",
   "metadata": {},
   "outputs": [
    {
     "name": "stdout",
     "output_type": "stream",
     "text": [
      "You do not need to use backslash if you use three quotation marks. quotation mark ' \" newline \n",
      "tab     backslash \\ \n"
     ]
    }
   ],
   "source": [
    "sentence2 = '''You do not need to use backslash if you use three quotation marks. quotation mark ' \" newline \n",
    "tab     backslash \\ '''\n",
    "print(sentence2)"
   ]
  },
  {
   "cell_type": "code",
   "execution_count": 117,
   "id": "4bab16df",
   "metadata": {},
   "outputs": [],
   "source": [
    "sent = \"My name is Mohammad\""
   ]
  },
  {
   "cell_type": "code",
   "execution_count": 118,
   "id": "20625401",
   "metadata": {},
   "outputs": [
    {
     "data": {
      "text/plain": [
       "['M',\n",
       " 'y',\n",
       " ' ',\n",
       " 'n',\n",
       " 'a',\n",
       " 'm',\n",
       " 'e',\n",
       " ' ',\n",
       " 'i',\n",
       " 's',\n",
       " ' ',\n",
       " 'M',\n",
       " 'o',\n",
       " 'h',\n",
       " 'a',\n",
       " 'm',\n",
       " 'm',\n",
       " 'a',\n",
       " 'd']"
      ]
     },
     "execution_count": 118,
     "metadata": {},
     "output_type": "execute_result"
    }
   ],
   "source": [
    "list(sent)"
   ]
  },
  {
   "cell_type": "code",
   "execution_count": 119,
   "id": "2199ec79",
   "metadata": {},
   "outputs": [
    {
     "data": {
      "text/plain": [
       "['My', 'name', 'is', 'Mohammad']"
      ]
     },
     "execution_count": 119,
     "metadata": {},
     "output_type": "execute_result"
    }
   ],
   "source": [
    "sent.split()"
   ]
  },
  {
   "cell_type": "code",
   "execution_count": 120,
   "id": "a786e35b",
   "metadata": {},
   "outputs": [
    {
     "data": {
      "text/plain": [
       "'mohammad'"
      ]
     },
     "execution_count": 120,
     "metadata": {},
     "output_type": "execute_result"
    }
   ],
   "source": [
    "\"Mohammad\".lower()"
   ]
  },
  {
   "cell_type": "code",
   "execution_count": 121,
   "id": "d978d79e",
   "metadata": {},
   "outputs": [
    {
     "data": {
      "text/plain": [
       "'MOHAMMAD'"
      ]
     },
     "execution_count": 121,
     "metadata": {},
     "output_type": "execute_result"
    }
   ],
   "source": [
    "\"Mohammad\".upper()"
   ]
  },
  {
   "cell_type": "markdown",
   "id": "ca56c5b4",
   "metadata": {},
   "source": [
    "### integer & float Data Types"
   ]
  },
  {
   "cell_type": "code",
   "execution_count": 122,
   "id": "28271660",
   "metadata": {},
   "outputs": [
    {
     "data": {
      "text/plain": [
       "31"
      ]
     },
     "execution_count": 122,
     "metadata": {},
     "output_type": "execute_result"
    }
   ],
   "source": [
    "a = 25\n",
    "b = 6\n",
    "a + b"
   ]
  },
  {
   "cell_type": "code",
   "execution_count": 123,
   "id": "283e627b",
   "metadata": {},
   "outputs": [
    {
     "data": {
      "text/plain": [
       "4.166666666666667"
      ]
     },
     "execution_count": 123,
     "metadata": {},
     "output_type": "execute_result"
    }
   ],
   "source": [
    "a/b"
   ]
  },
  {
   "cell_type": "code",
   "execution_count": 124,
   "id": "b32fc635",
   "metadata": {},
   "outputs": [
    {
     "data": {
      "text/plain": [
       "4"
      ]
     },
     "execution_count": 124,
     "metadata": {},
     "output_type": "execute_result"
    }
   ],
   "source": [
    "a//b"
   ]
  },
  {
   "cell_type": "code",
   "execution_count": 125,
   "id": "e546bbf1",
   "metadata": {},
   "outputs": [
    {
     "data": {
      "text/plain": [
       "1"
      ]
     },
     "execution_count": 125,
     "metadata": {},
     "output_type": "execute_result"
    }
   ],
   "source": [
    "a%b"
   ]
  },
  {
   "cell_type": "code",
   "execution_count": 126,
   "id": "56a2fda7",
   "metadata": {},
   "outputs": [
    {
     "data": {
      "text/plain": [
       "25"
      ]
     },
     "execution_count": 126,
     "metadata": {},
     "output_type": "execute_result"
    }
   ],
   "source": [
    "5**2"
   ]
  },
  {
   "cell_type": "code",
   "execution_count": 127,
   "id": "e5e6a2c5",
   "metadata": {},
   "outputs": [
    {
     "data": {
      "text/plain": [
       "2.5"
      ]
     },
     "execution_count": 127,
     "metadata": {},
     "output_type": "execute_result"
    }
   ],
   "source": [
    "# Most common errors: ZeroDivisionErro\n",
    "25/10"
   ]
  },
  {
   "cell_type": "markdown",
   "id": "eb4759a2",
   "metadata": {},
   "source": [
    "### Importing a module"
   ]
  },
  {
   "cell_type": "code",
   "execution_count": 128,
   "id": "bfe80ca5",
   "metadata": {},
   "outputs": [
    {
     "data": {
      "text/plain": [
       "2"
      ]
     },
     "execution_count": 128,
     "metadata": {},
     "output_type": "execute_result"
    }
   ],
   "source": [
    "import math\n",
    "math.floor(2.3)"
   ]
  },
  {
   "cell_type": "code",
   "execution_count": 129,
   "id": "c32f922e",
   "metadata": {},
   "outputs": [
    {
     "data": {
      "text/plain": [
       "2.23606797749979"
      ]
     },
     "execution_count": 129,
     "metadata": {},
     "output_type": "execute_result"
    }
   ],
   "source": [
    "# Most common errors: ValueError\n",
    "math.sqrt(5)"
   ]
  },
  {
   "cell_type": "markdown",
   "id": "0c692ff2",
   "metadata": {},
   "source": [
    "### Input function"
   ]
  },
  {
   "cell_type": "code",
   "execution_count": 130,
   "id": "46a14ee9",
   "metadata": {},
   "outputs": [
    {
     "name": "stdout",
     "output_type": "stream",
     "text": [
      "1212\n"
     ]
    }
   ],
   "source": [
    "num1 = input(\"Please input your first number\")\n",
    "num2 = input(\"Please input your second number\")\n",
    "print(num1+num2)"
   ]
  },
  {
   "cell_type": "code",
   "execution_count": 132,
   "id": "ba0ea3f7",
   "metadata": {},
   "outputs": [
    {
     "name": "stdout",
     "output_type": "stream",
     "text": [
      "24\n"
     ]
    }
   ],
   "source": [
    "num1 = int(input(\"Please input your first number\"))\n",
    "num2 = int(input(\"Please input your second number\"))\n",
    "print(num1+num2)"
   ]
  },
  {
   "cell_type": "markdown",
   "id": "edb4a8dc",
   "metadata": {},
   "source": [
    "### Invalid variable names"
   ]
  },
  {
   "cell_type": "code",
   "execution_count": 86,
   "id": "d83aaf60",
   "metadata": {},
   "outputs": [],
   "source": [
    "# Syntax Error\n",
    "name = \"Mohammad\""
   ]
  },
  {
   "cell_type": "code",
   "execution_count": 87,
   "id": "35a721f7",
   "metadata": {},
   "outputs": [],
   "source": [
    "# Syntax Error\n",
    "user_name = \"malamda1\""
   ]
  },
  {
   "cell_type": "code",
   "execution_count": 88,
   "id": "d7af3c3d",
   "metadata": {},
   "outputs": [],
   "source": [
    "# Syntax Error\n",
    "# for = 5"
   ]
  },
  {
   "cell_type": "code",
   "execution_count": 89,
   "id": "b0152baa",
   "metadata": {},
   "outputs": [
    {
     "name": "stdout",
     "output_type": "stream",
     "text": [
      "['False', 'None', 'True', '__peg_parser__', 'and', 'as', 'assert', 'async', 'await', 'break', 'class', 'continue', 'def', 'del', 'elif', 'else', 'except', 'finally', 'for', 'from', 'global', 'if', 'import', 'in', 'is', 'lambda', 'nonlocal', 'not', 'or', 'pass', 'raise', 'return', 'try', 'while', 'with', 'yield']\n"
     ]
    }
   ],
   "source": [
    "import keyword\n",
    "print(keyword.kwlist)"
   ]
  },
  {
   "cell_type": "code",
   "execution_count": 91,
   "id": "008a0df1",
   "metadata": {},
   "outputs": [
    {
     "name": "stdout",
     "output_type": "stream",
     "text": [
      "Hey Piyush , Your BMI is 0.1.\n"
     ]
    }
   ],
   "source": [
    "height = float(input(\"Your Height? \"))\n",
    "weight = float(input(\"Your Weight? \"))\n",
    "name = input(\"Your Name? \")\n",
    "\n",
    "bmi = weight/height**2\n",
    "\n",
    "text = f\"Hey {name} , Your BMI is {bmi:.1f}.\"\n",
    "\n",
    "print(text)"
   ]
  },
  {
   "cell_type": "markdown",
   "id": "8a56d181",
   "metadata": {},
   "source": [
    "### boolean data type"
   ]
  },
  {
   "cell_type": "code",
   "execution_count": 50,
   "id": "39fee87d",
   "metadata": {},
   "outputs": [],
   "source": [
    "is_day = True"
   ]
  },
  {
   "cell_type": "code",
   "execution_count": 51,
   "id": "b379aab9",
   "metadata": {},
   "outputs": [
    {
     "name": "stdout",
     "output_type": "stream",
     "text": [
      "True\n"
     ]
    }
   ],
   "source": [
    "hour = 10\n",
    "\n",
    "is_day = hour <= 18\n",
    "\n",
    "print(is_day)"
   ]
  },
  {
   "cell_type": "code",
   "execution_count": 52,
   "id": "4fdbad6c",
   "metadata": {},
   "outputs": [
    {
     "name": "stdout",
     "output_type": "stream",
     "text": [
      "load the light mode\n"
     ]
    }
   ],
   "source": [
    "if is_day:\n",
    "    print(\"load the light mode\")\n",
    "else:\n",
    "    print(\"load the dark mode\")"
   ]
  },
  {
   "cell_type": "code",
   "execution_count": 53,
   "id": "e86d02e5",
   "metadata": {},
   "outputs": [],
   "source": [
    "Password1 = input(\"Input your Password:\")"
   ]
  },
  {
   "cell_type": "code",
   "execution_count": 54,
   "id": "aad7ca5d",
   "metadata": {},
   "outputs": [],
   "source": [
    "Password2 = input(\"Input your Password for the second time\")"
   ]
  },
  {
   "cell_type": "code",
   "execution_count": 55,
   "id": "d07c239e",
   "metadata": {},
   "outputs": [
    {
     "name": "stdout",
     "output_type": "stream",
     "text": [
      "Password accepted!\n"
     ]
    }
   ],
   "source": [
    "if Password1 == Password2:\n",
    "    print(\"Password accepted!\")\n",
    "else:\n",
    "    print(\"Passwords do not match\")"
   ]
  },
  {
   "cell_type": "code",
   "execution_count": 56,
   "id": "191ea201",
   "metadata": {},
   "outputs": [
    {
     "name": "stdout",
     "output_type": "stream",
     "text": [
      "John is middle age\n"
     ]
    }
   ],
   "source": [
    "name = \"John\"\n",
    "age = 65\n",
    "\n",
    "if age<18: #line1\n",
    "    print(f'{name} is an child')  #line2\n",
    "elif age<45: #line3\n",
    "    print(f'{name} is young')  #line4\n",
    "elif age<75: #line5\n",
    "    print(f'{name} is middle age')  #line6\n",
    "else:\n",
    "    print(f'{name} is old') #line7"
   ]
  },
  {
   "cell_type": "code",
   "execution_count": 59,
   "id": "ff9c4b5d",
   "metadata": {},
   "outputs": [
    {
     "name": "stdout",
     "output_type": "stream",
     "text": [
      "Green ring\n"
     ]
    }
   ],
   "source": [
    "# Stories on Instagram \n",
    "is_seen = False\n",
    "is_close_friend = True\n",
    "\n",
    "############################\n",
    "if is_seen:\n",
    "    print(\"No ring\")\n",
    "elif is_close_friend:\n",
    "    print(\"Green ring\")\n",
    "else:\n",
    "    print(\"Red ring\")"
   ]
  },
  {
   "cell_type": "code",
   "execution_count": 58,
   "id": "26101086",
   "metadata": {},
   "outputs": [
    {
     "name": "stdout",
     "output_type": "stream",
     "text": [
      "Green ring\n"
     ]
    }
   ],
   "source": [
    "if is_seen:\n",
    "    print(\"No ring\")\n",
    "else:\n",
    "    if is_close_friend:\n",
    "        print(\"Green ring\")\n",
    "    else:\n",
    "        print(\"Red ring\")"
   ]
  },
  {
   "cell_type": "code",
   "execution_count": 60,
   "id": "330f8977",
   "metadata": {},
   "outputs": [
    {
     "name": "stdout",
     "output_type": "stream",
     "text": [
      "OK! We can finish a little bit earlier today!\n"
     ]
    }
   ],
   "source": [
    "answer = input(\"Do you want to call it a day and leave now?\")\n",
    "if answer.lower()==\"yes\" or answer.lower()==\"y\":\n",
    "    print(\"OK! We can finish a little bit earlier today!\")\n",
    "else:\n",
    "    print(\"GREAT! Let's continue!\")"
   ]
  },
  {
   "cell_type": "markdown",
   "id": "72a5267b",
   "metadata": {},
   "source": [
    "### while loop"
   ]
  },
  {
   "cell_type": "code",
   "execution_count": 61,
   "id": "e2ad3905",
   "metadata": {},
   "outputs": [
    {
     "name": "stdout",
     "output_type": "stream",
     "text": [
      "0\n",
      "1\n",
      "2\n",
      "3\n",
      "4\n",
      "5\n",
      "6\n",
      "7\n",
      "8\n",
      "9\n"
     ]
    }
   ],
   "source": [
    "i=0\n",
    "while i<10:\n",
    "    print(i)\n",
    "    i = i+1\n",
    "    "
   ]
  },
  {
   "cell_type": "code",
   "execution_count": 64,
   "id": "c55df94b",
   "metadata": {},
   "outputs": [
    {
     "name": "stdout",
     "output_type": "stream",
     "text": [
      "Try a smaller number\n",
      "Try a smaller number\n",
      "Try a greater number\n",
      "Try a greater number\n",
      "Game over\n"
     ]
    }
   ],
   "source": [
    "from random import randrange\n",
    "num = randrange(27)\n",
    "\n",
    "my_try = 0\n",
    "while my_try < 5:\n",
    "    guess = int(input(\"What is my number?\"))\n",
    "\n",
    "    my_try = my_try+1\n",
    "    if guess == num:\n",
    "        print(\"That is correct\")\n",
    "        break\n",
    "    elif my_try == 5:\n",
    "        print(\"Game over\") \n",
    "        \n",
    "    elif num > guess:\n",
    "        print(\"Try a greater number\")\n",
    "    else:\n",
    "        print(\"Try a smaller number\")\n",
    "        "
   ]
  },
  {
   "cell_type": "markdown",
   "id": "c3cc9baa",
   "metadata": {},
   "source": [
    "### for loop"
   ]
  },
  {
   "cell_type": "code",
   "execution_count": 62,
   "id": "e5453c7d",
   "metadata": {},
   "outputs": [
    {
     "name": "stdout",
     "output_type": "stream",
     "text": [
      "0\n",
      "1\n",
      "2\n",
      "3\n",
      "4\n"
     ]
    }
   ],
   "source": [
    "for i in range(5):\n",
    "    print(i)"
   ]
  },
  {
   "cell_type": "code",
   "execution_count": 63,
   "id": "54a23cf9",
   "metadata": {},
   "outputs": [
    {
     "name": "stdout",
     "output_type": "stream",
     "text": [
      "12\n",
      "10\n",
      "8\n",
      "6\n"
     ]
    }
   ],
   "source": [
    "for i in range(12,4,-2):\n",
    "    print(i)"
   ]
  },
  {
   "cell_type": "code",
   "execution_count": 65,
   "id": "cbed00b3",
   "metadata": {},
   "outputs": [
    {
     "name": "stdout",
     "output_type": "stream",
     "text": [
      "Name Mohammad was found in the document\n",
      "Name John was found in the document\n",
      "Name Sarah was found in the document\n"
     ]
    }
   ],
   "source": [
    "for name in [\"Mohammad\", \"John\", \"Sarah\"]:\n",
    "    print(f'Name {name} was found in the document')"
   ]
  },
  {
   "cell_type": "code",
   "execution_count": 67,
   "id": "2d752766",
   "metadata": {},
   "outputs": [
    {
     "name": "stdout",
     "output_type": "stream",
     "text": [
      "Try a smaller number\n",
      "Try a smaller number\n",
      "Try a greater number\n",
      "That is correct\n"
     ]
    }
   ],
   "source": [
    "num = randrange(27)\n",
    "\n",
    "for my_try in range(5):    \n",
    "    guess = int(input(\"What is my number?\"))\n",
    "\n",
    "    if(guess==num):\n",
    "        print(\"That is correct\")\n",
    "        break\n",
    "    elif(my_try==4):\n",
    "        print(\"Game over\")\n",
    "    elif(num>guess):\n",
    "        print(\"Try a greater number\")\n",
    "    else:\n",
    "        print(\"Try a smaller number\")"
   ]
  },
  {
   "cell_type": "markdown",
   "id": "aa63f45d",
   "metadata": {},
   "source": [
    "## Header 1\n",
    "## Header 2\n",
    "### Header 3\n",
    "#### Header 4\n",
    "\n",
    "\n",
    "**Bold text**\n",
    "*Italic text*\n",
    "\n",
    "\n",
    "- Item 1\n",
    "- Item 2\n",
    "  - Subitem 2a\n",
    "  - Subitem 2b\n",
    "\n",
    "1. First item\n",
    "2. Second item\n",
    "\n",
    "\n",
    "\n",
    "\n",
    "\n",
    "\n"
   ]
  },
  {
   "cell_type": "code",
   "execution_count": 139,
   "id": "9bb54bbe",
   "metadata": {},
   "outputs": [
    {
     "name": "stdout",
     "output_type": "stream",
     "text": [
      "12\n",
      "6.0\n"
     ]
    }
   ],
   "source": [
    "num1 = int(input(\"Give a number\"))\n",
    "\n",
    "while num1%2==0:\n",
    "    print(num1)\n",
    "    num1=num1/2"
   ]
  }
 ],
 "metadata": {
  "kernelspec": {
   "display_name": ".venv",
   "language": "python",
   "name": "python3"
  },
  "language_info": {
   "codemirror_mode": {
    "name": "ipython",
    "version": 3
   },
   "file_extension": ".py",
   "mimetype": "text/x-python",
   "name": "python",
   "nbconvert_exporter": "python",
   "pygments_lexer": "ipython3",
   "version": "3.9.6"
  }
 },
 "nbformat": 4,
 "nbformat_minor": 5
}
