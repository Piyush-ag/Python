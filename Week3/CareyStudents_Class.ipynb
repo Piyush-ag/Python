{
 "cells": [
  {
   "cell_type": "code",
   "execution_count": 1,
   "id": "10e495b1-5f8f-45a0-98bd-301c8b14e7a8",
   "metadata": {},
   "outputs": [],
   "source": [
    "import statistics"
   ]
  },
  {
   "cell_type": "code",
   "execution_count": 7,
   "id": "ae89cff0-0f34-4f68-8201-bad832d213f3",
   "metadata": {},
   "outputs": [],
   "source": [
    "student_1 = CareyStudents(\"John Smith\", \"02/05/1999\")\n",
    "student_2 = CareyStudents(\"Sarah Smith\", \"12/09/1995\")\n"
   ]
  },
  {
   "cell_type": "code",
   "execution_count": 8,
   "id": "69e9f97e-151e-4bc8-9557-54f29b2b51b8",
   "metadata": {},
   "outputs": [
    {
     "data": {
      "text/plain": [
       "'John Smith'"
      ]
     },
     "execution_count": 8,
     "metadata": {},
     "output_type": "execute_result"
    }
   ],
   "source": [
    "student_1.name"
   ]
  },
  {
   "cell_type": "code",
   "execution_count": 9,
   "id": "0fd878c0-2461-4939-affb-45524df22590",
   "metadata": {},
   "outputs": [
    {
     "data": {
      "text/plain": [
       "[3.3, 4]"
      ]
     },
     "execution_count": 9,
     "metadata": {},
     "output_type": "execute_result"
    }
   ],
   "source": [
    "student_1.grades"
   ]
  },
  {
   "cell_type": "code",
   "execution_count": 10,
   "id": "e91de05c-7322-4a82-af16-26bbde3e6a73",
   "metadata": {},
   "outputs": [],
   "source": [
    "student_1.add_grade(3.3)"
   ]
  },
  {
   "cell_type": "code",
   "execution_count": 11,
   "id": "3886d70e-8fbe-483b-8e7e-313859034ccd",
   "metadata": {},
   "outputs": [
    {
     "data": {
      "text/plain": [
       "[3.3, 4, 3.3]"
      ]
     },
     "execution_count": 11,
     "metadata": {},
     "output_type": "execute_result"
    }
   ],
   "source": [
    "student_1.grades"
   ]
  },
  {
   "cell_type": "code",
   "execution_count": 12,
   "id": "23ae55e6-0219-4a7e-8939-aa56388e3f45",
   "metadata": {},
   "outputs": [
    {
     "data": {
      "text/plain": [
       "3.533333333333333"
      ]
     },
     "execution_count": 12,
     "metadata": {},
     "output_type": "execute_result"
    }
   ],
   "source": [
    "student_1.cal_gpa()"
   ]
  },
  {
   "cell_type": "code",
   "execution_count": 13,
   "id": "b0d06361-0311-4f45-9b9d-8a7a4540859d",
   "metadata": {},
   "outputs": [
    {
     "data": {
      "text/plain": [
       "'not hold'"
      ]
     },
     "execution_count": 13,
     "metadata": {},
     "output_type": "execute_result"
    }
   ],
   "source": [
    "student_1.has_hold()"
   ]
  },
  {
   "cell_type": "code",
   "execution_count": 16,
   "id": "b74323c1-f717-4ac9-83ac-370fcc4aa27d",
   "metadata": {},
   "outputs": [],
   "source": [
    "student_1.register_course(\"BU.520.650\")"
   ]
  },
  {
   "cell_type": "code",
   "execution_count": 17,
   "id": "5d43f494-cd9e-4737-8dd2-7be0aa6c26b0",
   "metadata": {},
   "outputs": [
    {
     "data": {
      "text/plain": [
       "['BU.520.650']"
      ]
     },
     "execution_count": 17,
     "metadata": {},
     "output_type": "execute_result"
    }
   ],
   "source": [
    "student_1.courses"
   ]
  },
  {
   "cell_type": "code",
   "execution_count": 18,
   "id": "31131af3-76b7-44ba-9c1d-2131618e4f2e",
   "metadata": {},
   "outputs": [
    {
     "name": "stdout",
     "output_type": "stream",
     "text": [
      "One of the following courses is not taken: ['BU.510.601', 'BU.914.610']\n"
     ]
    }
   ],
   "source": [
    "student_1.register_course(\"BU.510.650\")"
   ]
  },
  {
   "cell_type": "code",
   "execution_count": 6,
   "id": "89caf3e8-bd60-4a46-83e4-7603d166554e",
   "metadata": {},
   "outputs": [],
   "source": [
    "class CareyStudents:\n",
    "    min_gpa = 2.5\n",
    "        \n",
    "    def __init__(self, name, dob, grades=[], courses=[]):\n",
    "        self.name = name\n",
    "        self.dob = dob\n",
    "        self.grades = grades\n",
    "        self.courses = courses\n",
    "    \n",
    "    def add_grade(self, new_grade):\n",
    "        self.grades.append(new_grade)\n",
    "    \n",
    "    def cal_gpa(self):\n",
    "        return sum(self.grades)/len(self.grades)\n",
    "        \n",
    "    \n",
    "    def has_hold(self):\n",
    "        if self.cal_gpa() > self.min_gpa:\n",
    "            return 'not hold'\n",
    "        else:\n",
    "            return 'hold'\n",
    "\n",
    "    def register_course(self, new_course):\n",
    "        reqs = pre_req.get(new_course,[])\n",
    "        \n",
    "        success = True\n",
    "        \n",
    "        for course in reqs:\n",
    "            if course not in self.courses:\n",
    "                success=False\n",
    "                break\n",
    "                \n",
    "        if success:\n",
    "            self.courses.append(new_course)\n",
    "        else:\n",
    "            print(f\"One of the following courses is not taken: {reqs}\")\n",
    "    \n",
    "    def drop_course(self, course_dropping):\n",
    "        if course_dropping in self.courses:\n",
    "            self.courses.remove(course_dropping)\n",
    "            print(f\"Course'{course_dropping}' dropped successfully.\")\n",
    "        else:\n",
    "            print(f\"Course'{course_dropping}' is not in the cart.\")\n",
    "    \n",
    "        \n",
    "student_1 = CareyStudents(\"John Smith\", \"02/05/1999\")\n",
    "\n",
    "student_1.add_grade(3.3)\n",
    "student_1.add_grade(4)"
   ]
  },
  {
   "cell_type": "code",
   "execution_count": 15,
   "id": "c4222b87-2ceb-4ff5-bd9b-6528dd4694d0",
   "metadata": {},
   "outputs": [],
   "source": [
    "pre_req = {'BU.510.615':['BU.510.601'],\n",
    "           'BU.510.650':['BU.510.601', 'BU.914.610']   \n",
    "          }"
   ]
  },
  {
   "cell_type": "code",
   "execution_count": 19,
   "id": "1df73e90",
   "metadata": {},
   "outputs": [
    {
     "data": {
      "text/plain": [
       "[3.3, 4, 3.3]"
      ]
     },
     "execution_count": 19,
     "metadata": {},
     "output_type": "execute_result"
    }
   ],
   "source": [
    "student_1.grades"
   ]
  },
  {
   "cell_type": "code",
   "execution_count": 20,
   "id": "b6397c57",
   "metadata": {},
   "outputs": [
    {
     "data": {
      "text/plain": [
       "3.533333333333333"
      ]
     },
     "execution_count": 20,
     "metadata": {},
     "output_type": "execute_result"
    }
   ],
   "source": [
    "student_1.cal_gpa()"
   ]
  },
  {
   "cell_type": "code",
   "execution_count": 21,
   "id": "eac4d075",
   "metadata": {},
   "outputs": [
    {
     "data": {
      "text/plain": [
       "'not hold'"
      ]
     },
     "execution_count": 21,
     "metadata": {},
     "output_type": "execute_result"
    }
   ],
   "source": [
    "student_1.has_hold()"
   ]
  },
  {
   "cell_type": "code",
   "execution_count": 22,
   "id": "60257cdf",
   "metadata": {},
   "outputs": [
    {
     "data": {
      "text/plain": [
       "['BU.520.650']"
      ]
     },
     "execution_count": 22,
     "metadata": {},
     "output_type": "execute_result"
    }
   ],
   "source": [
    "student_1.courses"
   ]
  },
  {
   "cell_type": "code",
   "execution_count": 23,
   "id": "ab5d8600",
   "metadata": {},
   "outputs": [
    {
     "name": "stdout",
     "output_type": "stream",
     "text": [
      "One of the following courses is not taken: ['BU.510.601', 'BU.914.610']\n"
     ]
    }
   ],
   "source": [
    "student_1.register_course('BU.510.650')"
   ]
  },
  {
   "cell_type": "code",
   "execution_count": 24,
   "id": "62aa70bd",
   "metadata": {},
   "outputs": [],
   "source": [
    "student_1.register_course('BU.510.601')"
   ]
  },
  {
   "cell_type": "code",
   "execution_count": 25,
   "id": "0f041236",
   "metadata": {},
   "outputs": [
    {
     "data": {
      "text/plain": [
       "['BU.520.650', 'BU.510.601']"
      ]
     },
     "execution_count": 25,
     "metadata": {},
     "output_type": "execute_result"
    }
   ],
   "source": [
    "student_1.courses"
   ]
  },
  {
   "cell_type": "code",
   "execution_count": 26,
   "id": "6dada54a",
   "metadata": {},
   "outputs": [],
   "source": [
    "student_1.register_course('BU.914.610')"
   ]
  },
  {
   "cell_type": "code",
   "execution_count": 27,
   "id": "ec120655",
   "metadata": {},
   "outputs": [],
   "source": [
    "student_1.register_course('BU.510.650')"
   ]
  },
  {
   "cell_type": "code",
   "execution_count": 28,
   "id": "0b92712c",
   "metadata": {},
   "outputs": [
    {
     "data": {
      "text/plain": [
       "['BU.520.650', 'BU.510.601', 'BU.914.610', 'BU.510.650']"
      ]
     },
     "execution_count": 28,
     "metadata": {},
     "output_type": "execute_result"
    }
   ],
   "source": [
    "student_1.courses"
   ]
  }
 ],
 "metadata": {
  "kernelspec": {
   "display_name": ".venv",
   "language": "python",
   "name": "python3"
  },
  "language_info": {
   "codemirror_mode": {
    "name": "ipython",
    "version": 3
   },
   "file_extension": ".py",
   "mimetype": "text/x-python",
   "name": "python",
   "nbconvert_exporter": "python",
   "pygments_lexer": "ipython3",
   "version": "3.9.6"
  }
 },
 "nbformat": 4,
 "nbformat_minor": 5
}
