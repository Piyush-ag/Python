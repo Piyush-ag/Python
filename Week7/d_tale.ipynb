{
 "cells": [
  {
   "cell_type": "markdown",
   "id": "d846edca-0fbe-4ed0-b9eb-d6f424c3a3aa",
   "metadata": {},
   "source": [
    "## Installing `pandas-profiling`\n",
    "\n",
    "In recent years, there has been a huge interest and increase in number of `automated exploratory data analysis` libraries. `pandas-profiling` is one example of that which you will be guided to install. \n",
    "\n",
    "- Step 1: Please type `pip install pandas-profiling` in an empty cell. If it did not work. You can also try `pip install --user pandas-profiling` or `conda install pandas-profiling`\n",
    "- Step 2: Once done, please run the following code in an empty cell. Please note that it may take some time to complete this step; be patient please.\n",
    "If you see a report, you are all set; otherwise, please let me know."
   ]
  },
  {
   "cell_type": "code",
   "execution_count": null,
   "id": "c6e3a775",
   "metadata": {},
   "outputs": [],
   "source": [
    "pip install pandas_profiling"
   ]
  },
  {
   "cell_type": "code",
   "execution_count": null,
   "id": "54bc0d1b-f734-41d2-b8ed-7d482faf2bdf",
   "metadata": {},
   "outputs": [],
   "source": [
    "import numpy as np\n",
    "import pandas as pd\n",
    "from pandas_profiling import ProfileReport\n",
    "\n",
    "df = pd.DataFrame(np.random.rand(100, 5), columns=[\"a\", \"b\", \"c\", \"d\", \"e\"])\n",
    "\n",
    "profile = ProfileReport(df, title=\"Pandas Profiling Report\")\n",
    "profile"
   ]
  },
  {
   "cell_type": "markdown",
   "id": "51f7c3cf-4eb7-4b08-9524-49e852bd2f79",
   "metadata": {},
   "source": [
    "##  Installing `D-tale`\n",
    "\n",
    "`D-Tale` is created recently in February 2020. It works very closely with `pandas` and allows you to visualize a `DataFrame`. It generates an interactive graphical interface for analyzing your data. \n",
    "- Step 1: Please type `pip install --upgrade dtale` in an empty cell. This step will take a while.\n",
    "- Step 2: Once done, please run the following code in an empty cell. Please note that it may take some time to complete this step; be patient please.\n",
    "\n",
    "This will take some time; but eventually, it will open an Excel-like table. If you are getting an error, please contact me asap."
   ]
  },
  {
   "cell_type": "code",
   "execution_count": null,
   "id": "502a333e",
   "metadata": {},
   "outputs": [],
   "source": [
    "pip install --upgrade dtale"
   ]
  },
  {
   "cell_type": "code",
   "execution_count": null,
   "id": "7a02a42d-2b62-4b18-ae06-d554cfc8286c",
   "metadata": {},
   "outputs": [
    {
     "name": "stderr",
     "output_type": "stream",
     "text": [
      "2024-03-05 15:17:53,227 - INFO     - Executing shutdown due to inactivity...\n",
      "2024-03-05 15:17:59,269 - INFO     - Executing shutdown...\n",
      "C:\\Users\\malamda1\\Anaconda3\\lib\\site-packages\\dtale\\app.py:441: UserWarning:\n",
      "\n",
      "The 'environ['werkzeug.server.shutdown']' function is deprecated and will be removed in Werkzeug 2.1.\n",
      "\n"
     ]
    }
   ],
   "source": [
    "import numpy as np\n",
    "import dtale\n",
    "import pandas as pd\n",
    "\n",
    "df = pd.DataFrame(np.random.rand(100, 5), columns=[\"a\", \"b\", \"c\", \"d\", \"e\"])\n",
    "\n",
    "d = dtale.show(df)\n",
    "d.open_browser()"
   ]
  },
  {
   "cell_type": "code",
   "execution_count": null,
   "id": "cc5f89e5",
   "metadata": {},
   "outputs": [],
   "source": []
  }
 ],
 "metadata": {
  "kernelspec": {
   "display_name": "Python 3 (ipykernel)",
   "language": "python",
   "name": "python3"
  },
  "language_info": {
   "codemirror_mode": {
    "name": "ipython",
    "version": 3
   },
   "file_extension": ".py",
   "mimetype": "text/x-python",
   "name": "python",
   "nbconvert_exporter": "python",
   "pygments_lexer": "ipython3",
   "version": "3.9.12"
  }
 },
 "nbformat": 4,
 "nbformat_minor": 5
}
