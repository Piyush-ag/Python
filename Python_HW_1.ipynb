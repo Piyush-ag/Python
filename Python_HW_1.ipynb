{
 "cells": [
  {
   "cell_type": "markdown",
   "id": "5d70a6f9",
   "metadata": {},
   "source": [
    "# Homework Assignment 1"
   ]
  },
  {
   "cell_type": "markdown",
   "id": "df577ac5",
   "metadata": {},
   "source": [
    "Before starting this assignment, please read the handout titled \"1_Python_Fundamentals.\"\n",
    "\n",
    "Choose 10 questions from the 13 questions listed below and write the corresponding code for each.\n",
    "\n",
    "Once you have completed your work, save your file as: YourFirstName_YourLastName_HW1_SectionNumber.ipynb.\n",
    "\n",
    "Sample outputs are provided below each question for your reference.\n",
    "\n"
   ]
  },
  {
   "cell_type": "markdown",
   "id": "280f7ae7",
   "metadata": {},
   "source": [
    "**Question:** Using a For Loop\n",
    "\n",
    "Print all even numbers from 1 to 20 using a for loop."
   ]
  },
  {
   "cell_type": "code",
   "execution_count": 1,
   "id": "648a4f37",
   "metadata": {},
   "outputs": [
    {
     "name": "stdout",
     "output_type": "stream",
     "text": [
      "2\n",
      "4\n",
      "6\n",
      "8\n",
      "10\n",
      "12\n",
      "14\n",
      "16\n",
      "18\n",
      "20\n"
     ]
    }
   ],
   "source": [
    "for i in range(1,21):\n",
    "    if i % 2 == 0:\n",
    "        print(i)"
   ]
  },
  {
   "cell_type": "markdown",
   "id": "a1df6c14",
   "metadata": {},
   "source": [
    "**Question:** While Loop with Multiples\n",
    "\n",
    "Print the first 10 multiples of 3 using a while loop.\n"
   ]
  },
  {
   "cell_type": "code",
   "execution_count": 4,
   "id": "be1bc2f1",
   "metadata": {},
   "outputs": [
    {
     "name": "stdout",
     "output_type": "stream",
     "text": [
      "3\n",
      "6\n",
      "9\n",
      "12\n",
      "15\n",
      "18\n",
      "21\n",
      "24\n",
      "27\n",
      "30\n"
     ]
    }
   ],
   "source": [
    "for i in range(1,11):\n",
    "    print(3 * i)"
   ]
  },
  {
   "cell_type": "markdown",
   "id": "eaee7fca",
   "metadata": {},
   "source": [
    "**Question:** Check Positive, Negative, or Zero\n",
    "    \n",
    "Accept a number from the user and print if it's positive, negative, or zero."
   ]
  },
  {
   "cell_type": "code",
   "execution_count": 2,
   "id": "1a7eba9f",
   "metadata": {},
   "outputs": [
    {
     "name": "stdout",
     "output_type": "stream",
     "text": [
      "Negative\n"
     ]
    }
   ],
   "source": [
    "number = int(input(\"Enter a number\"))\n",
    "\n",
    "if number == 0:\n",
    "    print(\"Zero\")\n",
    "elif number > 0:\n",
    "    print(\"Positive\")\n",
    "else:\n",
    "    print(\"Negative\")"
   ]
  },
  {
   "cell_type": "markdown",
   "id": "b6d91ef2",
   "metadata": {},
   "source": [
    "**Question:** Sum of Even Numbers\n",
    "    \n",
    "Calculate and print the sum of all even numbers from 1 to 50 using a for loop."
   ]
  },
  {
   "cell_type": "code",
   "execution_count": null,
   "id": "fc9871f5",
   "metadata": {},
   "outputs": [
    {
     "name": "stdout",
     "output_type": "stream",
     "text": [
      "Sum of even numbers from 1 to 50: 650\n"
     ]
    }
   ],
   "source": [
    "# Calculate and print the sum of all even numbers from 1 to 50 using a for loop\n",
    "\n",
    "sum = 0\n",
    "for i in range(1, 51):\n",
    "    if i % 2 == 0:\n",
    "        sum += i\n",
    "print('Sum of even numbers from 1 to 50:', sum)"
   ]
  },
  {
   "cell_type": "markdown",
   "id": "0db7768f",
   "metadata": {},
   "source": [
    "**Question:** Random Integer Generation\n",
    "    \n",
    "Generate and print 10 random integers between 1 and 50, each on a new line."
   ]
  },
  {
   "cell_type": "code",
   "execution_count": null,
   "id": "3613f546",
   "metadata": {},
   "outputs": [
    {
     "name": "stdout",
     "output_type": "stream",
     "text": [
      "42\n",
      "27\n",
      "28\n",
      "44\n",
      "1\n",
      "22\n",
      "41\n",
      "46\n",
      "24\n",
      "46\n"
     ]
    }
   ],
   "source": [
    "# Generate and print 10 random integers between 1 and 50, each on a new line.\n",
    "import random\n",
    "for _ in range(10):\n",
    "    print(random.randint(1, 50))\n"
   ]
  },
  {
   "cell_type": "markdown",
   "id": "ebc53c94",
   "metadata": {},
   "source": [
    "**Question:** While Loop with Condition\n",
    "\n",
    "Keep generating random numbers between 0 and 1 until you get a number greater than 0.9.\n"
   ]
  },
  {
   "cell_type": "code",
   "execution_count": 8,
   "id": "7e27837d",
   "metadata": {},
   "outputs": [
    {
     "name": "stdout",
     "output_type": "stream",
     "text": [
      "0.6002919214268689\n",
      "0.7695235389991214\n",
      "0.8907783579352987\n",
      "0.5786245448461267\n",
      "0.6233217197070602\n",
      "0.8095469433495298\n",
      "0.5543601224643524\n"
     ]
    }
   ],
   "source": [
    "# Keep generating random numbers between 0 and 1 until you get a number greater than 0.9.\n",
    "import random\n",
    "while True:\n",
    "    num = random.random()\n",
    "    if num > 0.9:\n",
    "        break\n",
    "    print(num)\n",
    "\n"
   ]
  },
  {
   "cell_type": "markdown",
   "id": "d00dba47",
   "metadata": {},
   "source": [
    "**Question:** Name Character Check\n",
    "\n",
    "Accept a name as input and print if it contains the letter “z” or “Z.”"
   ]
  },
  {
   "cell_type": "code",
   "execution_count": 3,
   "id": "bcf9f30b",
   "metadata": {},
   "outputs": [
    {
     "name": "stdout",
     "output_type": "stream",
     "text": [
      "The name contains 'z' or 'Z'\n"
     ]
    }
   ],
   "source": [
    "# Accept a name as input and print if it contains the letter “z” or “Z.”\n",
    "name = input(\"Enter a name\")\n",
    "\n",
    "if 'z' in name.lower() or 'Z' in name.lower():\n",
    "    print(\"The name contains 'z' or 'Z'\")\n",
    "else:\n",
    "    print(\"TThe name does not contain 'z' or 'Z'\")"
   ]
  },
  {
   "cell_type": "markdown",
   "id": "d120e582",
   "metadata": {},
   "source": [
    "**Question:** Square Calculation for a Range\n",
    "\n",
    "Use a for loop and f formatting to print squares of all odd numbers from 1 to 20.\n"
   ]
  },
  {
   "cell_type": "code",
   "execution_count": null,
   "id": "6cf131e1",
   "metadata": {},
   "outputs": [
    {
     "name": "stdout",
     "output_type": "stream",
     "text": [
      "Square of 1 is 1\n",
      "Square of 3 is 9\n",
      "Square of 5 is 25\n",
      "Square of 7 is 49\n",
      "Square of 9 is 81\n",
      "Square of 11 is 121\n",
      "Square of 13 is 169\n",
      "Square of 15 is 225\n",
      "Square of 17 is 289\n",
      "Square of 19 is 361\n"
     ]
    }
   ],
   "source": [
    "# Use a for loop and f formatting to print squares of all odd numbers from 1 to 20.\n",
    "for i in range(1, 21, 2):\n",
    "    print(f\"Square of {i} is {i**2}\")\n"
   ]
  },
  {
   "cell_type": "markdown",
   "id": "3f5642ca",
   "metadata": {},
   "source": [
    "**Question:** Prime Number Check\n",
    "\n",
    "Write a program that accepts a number from the user and prints whether it's prime or not."
   ]
  },
  {
   "cell_type": "code",
   "execution_count": 12,
   "id": "97d95b8f",
   "metadata": {},
   "outputs": [
    {
     "name": "stdout",
     "output_type": "stream",
     "text": [
      "Prime Number\n"
     ]
    }
   ],
   "source": [
    "\n",
    "def is_prime(number):\n",
    "    if number <= 1:\n",
    "        return False\n",
    "    for i in range(2, int(number ** 0.5) + 1):\n",
    "        if number % i == 0:\n",
    "            return False\n",
    "    return True\n",
    "\n",
    "# Get input from the user\n",
    "try:\n",
    "    num = int(input(\"Enter a number: \"))\n",
    "    if is_prime(num):\n",
    "        print(\"Prime Number\")\n",
    "    else:\n",
    "        print(\"Not prime\")\n",
    "except ValueError:\n",
    "    print(\"Please enter a valid integer.\")"
   ]
  },
  {
   "cell_type": "markdown",
   "id": "425d9f90",
   "metadata": {},
   "source": [
    "**Question:** Sum of Boolean Expressions\n",
    "\n",
    "Using Boolean values, calculate and print the sum of True, False, True, and True."
   ]
  },
  {
   "cell_type": "code",
   "execution_count": null,
   "id": "f013a15f",
   "metadata": {},
   "outputs": [
    {
     "name": "stdout",
     "output_type": "stream",
     "text": [
      "Sum of Boolean expressions:  3\n"
     ]
    }
   ],
   "source": [
    "# Using Boolean values, calculate and print the sum of True, False, True, and True.\n",
    "print('Sum of Boolean expressions:', True + False + True + True)\n"
   ]
  },
  {
   "cell_type": "markdown",
   "id": "50616e18",
   "metadata": {},
   "source": [
    "**Question:** Cumulative Sum with Condition\n",
    "\n",
    "Write a program to accept numbers from the user continuously until they enter a negative number. Print the cumulative sum of all non-negative numbers."
   ]
  },
  {
   "cell_type": "code",
   "execution_count": 20,
   "id": "fb35c688",
   "metadata": {},
   "outputs": [
    {
     "name": "stdout",
     "output_type": "stream",
     "text": [
      "Cumulative sum: 15\n"
     ]
    }
   ],
   "source": [
    "# Write a program to accept numbers from the user continuously until they enter a negative number. Print the cumulative sum of all non-negative numbers.\n",
    "total_sum = 0\n",
    "while True:\n",
    "    num = int(input(\"Enter a number (negative to stop): \"))\n",
    "    if num < 0:\n",
    "        break\n",
    "    total_sum += num\n",
    "\n",
    "print('Cumulative sum:', total_sum)"
   ]
  },
  {
   "cell_type": "markdown",
   "id": "9bcc5529",
   "metadata": {},
   "source": [
    "**Question:** Fahrenheit to Celsius Conversion\n",
    "    \n",
    "Accept a temperature in Fahrenheit from the user and convert it to Celsius.\n"
   ]
  },
  {
   "cell_type": "code",
   "execution_count": 4,
   "id": "ba953f0e",
   "metadata": {},
   "outputs": [
    {
     "name": "stdout",
     "output_type": "stream",
     "text": [
      "Temperature in Celsius: 19.44\n"
     ]
    }
   ],
   "source": [
    "# Accept a temperature in Fahrenheit from the user and convert it to Celsius.\n",
    "fahrenheit = float(input(\"Enter a temperature in Fahrenheit: \"))\n",
    "celsius = (fahrenheit - 32) * 5 / 9\n",
    "print(f\"Temperature in Celsius: {celsius:.2f}\")"
   ]
  },
  {
   "cell_type": "markdown",
   "id": "7b01aa06",
   "metadata": {},
   "source": [
    "**Question:** Number Equality Check\n",
    "    \n",
    "Accept three numbers from the user and check if all three are equal.\n"
   ]
  },
  {
   "cell_type": "code",
   "execution_count": 19,
   "id": "4a430258",
   "metadata": {
    "scrolled": true
   },
   "outputs": [
    {
     "name": "stdout",
     "output_type": "stream",
     "text": [
      "All numbers are equal\n"
     ]
    }
   ],
   "source": [
    "# Accept three numbers from the user and check if all three are equal. \n",
    "num1 = int(input(\"Enter the first number: \"))\n",
    "num2 = int(input(\"Enter the second number: \"))\n",
    "num3 = int(input(\"Enter the third number: \"))\n",
    "\n",
    "if num1 == num2 == num3:\n",
    "    print(\"All numbers are equal\")"
   ]
  }
 ],
 "metadata": {
  "kernelspec": {
   "display_name": ".venv",
   "language": "python",
   "name": "python3"
  },
  "language_info": {
   "codemirror_mode": {
    "name": "ipython",
    "version": 3
   },
   "file_extension": ".py",
   "mimetype": "text/x-python",
   "name": "python",
   "nbconvert_exporter": "python",
   "pygments_lexer": "ipython3",
   "version": "3.9.6"
  }
 },
 "nbformat": 4,
 "nbformat_minor": 5
}
