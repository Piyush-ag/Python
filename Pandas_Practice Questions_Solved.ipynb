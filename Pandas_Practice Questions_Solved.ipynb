{
 "cells": [
  {
   "cell_type": "code",
   "execution_count": 67,
   "id": "a31ffcc3-1908-4fb5-a55b-ef7dc5a78880",
   "metadata": {},
   "outputs": [],
   "source": [
    "import numpy as np\n",
    "import pandas as pd\n",
    "import missingno as msno"
   ]
  },
  {
   "cell_type": "markdown",
   "id": "d07a0250-4634-4fa9-b1af-9b1c4d87f71a",
   "metadata": {},
   "source": [
    "# Practice Questions for Pandas"
   ]
  },
  {
   "cell_type": "markdown",
   "id": "aa6184d9-afc3-4884-bb7b-f5ff0f405645",
   "metadata": {},
   "source": [
    "## Question 1:   COVID Cases on 1/1/2021\n",
    "In this problem, you will work on the covid dataset on 01/01/2021. You can read the description of the data-set here: https://github.com/CSSEGISandData/COVID-19/tree/master/csse_covid_19_data\n",
    "\n",
    "- Use the `read_csv` method of `pandas` to read the data-set `https://raw.githubusercontent.com/CSSEGISandData/COVID-19/master/csse_covid_19_data/csse_covid_19_daily_reports/01-01-2021.csv` to a DataFrame (name it `df`). Use `head` to print it.\n"
   ]
  },
  {
   "cell_type": "code",
   "execution_count": 68,
   "id": "15fd3e49-154b-4220-8073-f59bea3f08d8",
   "metadata": {
    "tags": []
   },
   "outputs": [
    {
     "data": {
      "text/html": [
       "<div>\n",
       "<style scoped>\n",
       "    .dataframe tbody tr th:only-of-type {\n",
       "        vertical-align: middle;\n",
       "    }\n",
       "\n",
       "    .dataframe tbody tr th {\n",
       "        vertical-align: top;\n",
       "    }\n",
       "\n",
       "    .dataframe thead th {\n",
       "        text-align: right;\n",
       "    }\n",
       "</style>\n",
       "<table border=\"1\" class=\"dataframe\">\n",
       "  <thead>\n",
       "    <tr style=\"text-align: right;\">\n",
       "      <th></th>\n",
       "      <th>FIPS</th>\n",
       "      <th>Admin2</th>\n",
       "      <th>Province_State</th>\n",
       "      <th>Country_Region</th>\n",
       "      <th>Last_Update</th>\n",
       "      <th>Lat</th>\n",
       "      <th>Long_</th>\n",
       "      <th>Confirmed</th>\n",
       "      <th>Deaths</th>\n",
       "      <th>Recovered</th>\n",
       "      <th>Active</th>\n",
       "      <th>Combined_Key</th>\n",
       "      <th>Incident_Rate</th>\n",
       "      <th>Case_Fatality_Ratio</th>\n",
       "    </tr>\n",
       "  </thead>\n",
       "  <tbody>\n",
       "    <tr>\n",
       "      <th>0</th>\n",
       "      <td>NaN</td>\n",
       "      <td>NaN</td>\n",
       "      <td>NaN</td>\n",
       "      <td>Afghanistan</td>\n",
       "      <td>2021-01-02 05:22:33</td>\n",
       "      <td>33.93911</td>\n",
       "      <td>67.709953</td>\n",
       "      <td>52513</td>\n",
       "      <td>2201</td>\n",
       "      <td>41727</td>\n",
       "      <td>8585</td>\n",
       "      <td>Afghanistan</td>\n",
       "      <td>134.896578</td>\n",
       "      <td>4.191343</td>\n",
       "    </tr>\n",
       "    <tr>\n",
       "      <th>1</th>\n",
       "      <td>NaN</td>\n",
       "      <td>NaN</td>\n",
       "      <td>NaN</td>\n",
       "      <td>Albania</td>\n",
       "      <td>2021-01-02 05:22:33</td>\n",
       "      <td>41.15330</td>\n",
       "      <td>20.168300</td>\n",
       "      <td>58316</td>\n",
       "      <td>1181</td>\n",
       "      <td>33634</td>\n",
       "      <td>23501</td>\n",
       "      <td>Albania</td>\n",
       "      <td>2026.409062</td>\n",
       "      <td>2.025173</td>\n",
       "    </tr>\n",
       "    <tr>\n",
       "      <th>2</th>\n",
       "      <td>NaN</td>\n",
       "      <td>NaN</td>\n",
       "      <td>NaN</td>\n",
       "      <td>Algeria</td>\n",
       "      <td>2021-01-02 05:22:33</td>\n",
       "      <td>28.03390</td>\n",
       "      <td>1.659600</td>\n",
       "      <td>99897</td>\n",
       "      <td>2762</td>\n",
       "      <td>67395</td>\n",
       "      <td>29740</td>\n",
       "      <td>Algeria</td>\n",
       "      <td>227.809861</td>\n",
       "      <td>2.764848</td>\n",
       "    </tr>\n",
       "    <tr>\n",
       "      <th>3</th>\n",
       "      <td>NaN</td>\n",
       "      <td>NaN</td>\n",
       "      <td>NaN</td>\n",
       "      <td>Andorra</td>\n",
       "      <td>2021-01-02 05:22:33</td>\n",
       "      <td>42.50630</td>\n",
       "      <td>1.521800</td>\n",
       "      <td>8117</td>\n",
       "      <td>84</td>\n",
       "      <td>7463</td>\n",
       "      <td>570</td>\n",
       "      <td>Andorra</td>\n",
       "      <td>10505.403482</td>\n",
       "      <td>1.034865</td>\n",
       "    </tr>\n",
       "    <tr>\n",
       "      <th>4</th>\n",
       "      <td>NaN</td>\n",
       "      <td>NaN</td>\n",
       "      <td>NaN</td>\n",
       "      <td>Angola</td>\n",
       "      <td>2021-01-02 05:22:33</td>\n",
       "      <td>-11.20270</td>\n",
       "      <td>17.873900</td>\n",
       "      <td>17568</td>\n",
       "      <td>405</td>\n",
       "      <td>11146</td>\n",
       "      <td>6017</td>\n",
       "      <td>Angola</td>\n",
       "      <td>53.452981</td>\n",
       "      <td>2.305328</td>\n",
       "    </tr>\n",
       "  </tbody>\n",
       "</table>\n",
       "</div>"
      ],
      "text/plain": [
       "   FIPS Admin2 Province_State Country_Region          Last_Update       Lat  \\\n",
       "0   NaN    NaN            NaN    Afghanistan  2021-01-02 05:22:33  33.93911   \n",
       "1   NaN    NaN            NaN        Albania  2021-01-02 05:22:33  41.15330   \n",
       "2   NaN    NaN            NaN        Algeria  2021-01-02 05:22:33  28.03390   \n",
       "3   NaN    NaN            NaN        Andorra  2021-01-02 05:22:33  42.50630   \n",
       "4   NaN    NaN            NaN         Angola  2021-01-02 05:22:33 -11.20270   \n",
       "\n",
       "       Long_  Confirmed  Deaths  Recovered  Active Combined_Key  \\\n",
       "0  67.709953      52513    2201      41727    8585  Afghanistan   \n",
       "1  20.168300      58316    1181      33634   23501      Albania   \n",
       "2   1.659600      99897    2762      67395   29740      Algeria   \n",
       "3   1.521800       8117      84       7463     570      Andorra   \n",
       "4  17.873900      17568     405      11146    6017       Angola   \n",
       "\n",
       "   Incident_Rate  Case_Fatality_Ratio  \n",
       "0     134.896578             4.191343  \n",
       "1    2026.409062             2.025173  \n",
       "2     227.809861             2.764848  \n",
       "3   10505.403482             1.034865  \n",
       "4      53.452981             2.305328  "
      ]
     },
     "execution_count": 68,
     "metadata": {},
     "output_type": "execute_result"
    }
   ],
   "source": [
    "df = pd.read_csv(\"https://raw.githubusercontent.com/CSSEGISandData/COVID-19/master/csse_covid_19_data/csse_covid_19_daily_reports/01-01-2021.csv\")\n",
    "df.head()"
   ]
  },
  {
   "cell_type": "markdown",
   "id": "96fb23af",
   "metadata": {},
   "source": [
    "- What is the `shape` of this dataset?"
   ]
  },
  {
   "cell_type": "code",
   "execution_count": 69,
   "id": "845fece7",
   "metadata": {},
   "outputs": [
    {
     "data": {
      "text/plain": [
       "(4011, 14)"
      ]
     },
     "execution_count": 69,
     "metadata": {},
     "output_type": "execute_result"
    }
   ],
   "source": [
    "df.shape"
   ]
  },
  {
   "cell_type": "markdown",
   "id": "01acd692",
   "metadata": {},
   "source": [
    "- Get to know your data-set using `info()` and `describe()` methods."
   ]
  },
  {
   "cell_type": "code",
   "execution_count": 70,
   "id": "6c810629-a146-4f61-ad09-7344f75799a4",
   "metadata": {
    "tags": []
   },
   "outputs": [
    {
     "name": "stdout",
     "output_type": "stream",
     "text": [
      "<class 'pandas.core.frame.DataFrame'>\n",
      "RangeIndex: 4011 entries, 0 to 4010\n",
      "Data columns (total 14 columns):\n",
      " #   Column               Non-Null Count  Dtype  \n",
      "---  ------               --------------  -----  \n",
      " 0   FIPS                 3265 non-null   float64\n",
      " 1   Admin2               3270 non-null   object \n",
      " 2   Province_State       3833 non-null   object \n",
      " 3   Country_Region       4011 non-null   object \n",
      " 4   Last_Update          4011 non-null   object \n",
      " 5   Lat                  3922 non-null   float64\n",
      " 6   Long_                3922 non-null   float64\n",
      " 7   Confirmed            4011 non-null   int64  \n",
      " 8   Deaths               4011 non-null   int64  \n",
      " 9   Recovered            4011 non-null   int64  \n",
      " 10  Active               4011 non-null   int64  \n",
      " 11  Combined_Key         4011 non-null   object \n",
      " 12  Incident_Rate        3922 non-null   float64\n",
      " 13  Case_Fatality_Ratio  3963 non-null   float64\n",
      "dtypes: float64(5), int64(4), object(5)\n",
      "memory usage: 438.8+ KB\n"
     ]
    }
   ],
   "source": [
    "df.info()"
   ]
  },
  {
   "cell_type": "code",
   "execution_count": 71,
   "id": "6f3c05cf-de13-4824-a6e3-c7d65f9b03e0",
   "metadata": {
    "tags": []
   },
   "outputs": [
    {
     "data": {
      "text/html": [
       "<div>\n",
       "<style scoped>\n",
       "    .dataframe tbody tr th:only-of-type {\n",
       "        vertical-align: middle;\n",
       "    }\n",
       "\n",
       "    .dataframe tbody tr th {\n",
       "        vertical-align: top;\n",
       "    }\n",
       "\n",
       "    .dataframe thead th {\n",
       "        text-align: right;\n",
       "    }\n",
       "</style>\n",
       "<table border=\"1\" class=\"dataframe\">\n",
       "  <thead>\n",
       "    <tr style=\"text-align: right;\">\n",
       "      <th></th>\n",
       "      <th>FIPS</th>\n",
       "      <th>Lat</th>\n",
       "      <th>Long_</th>\n",
       "      <th>Confirmed</th>\n",
       "      <th>Deaths</th>\n",
       "      <th>Recovered</th>\n",
       "      <th>Active</th>\n",
       "      <th>Incident_Rate</th>\n",
       "      <th>Case_Fatality_Ratio</th>\n",
       "    </tr>\n",
       "  </thead>\n",
       "  <tbody>\n",
       "    <tr>\n",
       "      <th>count</th>\n",
       "      <td>3265.000000</td>\n",
       "      <td>3922.000000</td>\n",
       "      <td>3922.000000</td>\n",
       "      <td>4.011000e+03</td>\n",
       "      <td>4011.000000</td>\n",
       "      <td>4.011000e+03</td>\n",
       "      <td>4.011000e+03</td>\n",
       "      <td>3922.000000</td>\n",
       "      <td>3963.000000</td>\n",
       "    </tr>\n",
       "    <tr>\n",
       "      <th>mean</th>\n",
       "      <td>32386.688208</td>\n",
       "      <td>35.768908</td>\n",
       "      <td>-71.113714</td>\n",
       "      <td>2.102613e+04</td>\n",
       "      <td>476.518823</td>\n",
       "      <td>1.180731e+04</td>\n",
       "      <td>9.259591e+03</td>\n",
       "      <td>5738.940929</td>\n",
       "      <td>2.228699</td>\n",
       "    </tr>\n",
       "    <tr>\n",
       "      <th>std</th>\n",
       "      <td>18017.294540</td>\n",
       "      <td>13.391261</td>\n",
       "      <td>55.220345</td>\n",
       "      <td>1.055172e+05</td>\n",
       "      <td>2833.090464</td>\n",
       "      <td>8.193885e+04</td>\n",
       "      <td>5.719777e+04</td>\n",
       "      <td>3227.374130</td>\n",
       "      <td>17.174874</td>\n",
       "    </tr>\n",
       "    <tr>\n",
       "      <th>min</th>\n",
       "      <td>66.000000</td>\n",
       "      <td>-71.949900</td>\n",
       "      <td>-175.198200</td>\n",
       "      <td>0.000000e+00</td>\n",
       "      <td>0.000000</td>\n",
       "      <td>0.000000e+00</td>\n",
       "      <td>0.000000e+00</td>\n",
       "      <td>0.000000</td>\n",
       "      <td>0.000000</td>\n",
       "    </tr>\n",
       "    <tr>\n",
       "      <th>25%</th>\n",
       "      <td>19049.000000</td>\n",
       "      <td>33.202974</td>\n",
       "      <td>-96.580090</td>\n",
       "      <td>7.010000e+02</td>\n",
       "      <td>9.000000</td>\n",
       "      <td>0.000000e+00</td>\n",
       "      <td>5.780000e+02</td>\n",
       "      <td>3536.967442</td>\n",
       "      <td>0.969239</td>\n",
       "    </tr>\n",
       "    <tr>\n",
       "      <th>50%</th>\n",
       "      <td>30067.000000</td>\n",
       "      <td>37.910342</td>\n",
       "      <td>-86.708116</td>\n",
       "      <td>1.968000e+03</td>\n",
       "      <td>31.000000</td>\n",
       "      <td>0.000000e+00</td>\n",
       "      <td>1.657000e+03</td>\n",
       "      <td>5840.344304</td>\n",
       "      <td>1.551567</td>\n",
       "    </tr>\n",
       "    <tr>\n",
       "      <th>75%</th>\n",
       "      <td>47039.000000</td>\n",
       "      <td>42.181730</td>\n",
       "      <td>-77.358102</td>\n",
       "      <td>7.693500e+03</td>\n",
       "      <td>112.000000</td>\n",
       "      <td>0.000000e+00</td>\n",
       "      <td>4.915500e+03</td>\n",
       "      <td>7752.568815</td>\n",
       "      <td>2.341350</td>\n",
       "    </tr>\n",
       "    <tr>\n",
       "      <th>max</th>\n",
       "      <td>99999.000000</td>\n",
       "      <td>71.706900</td>\n",
       "      <td>178.065000</td>\n",
       "      <td>2.636045e+06</td>\n",
       "      <td>81593.000000</td>\n",
       "      <td>2.114760e+06</td>\n",
       "      <td>2.400750e+06</td>\n",
       "      <td>27388.219766</td>\n",
       "      <td>1026.206897</td>\n",
       "    </tr>\n",
       "  </tbody>\n",
       "</table>\n",
       "</div>"
      ],
      "text/plain": [
       "               FIPS          Lat        Long_     Confirmed        Deaths  \\\n",
       "count   3265.000000  3922.000000  3922.000000  4.011000e+03   4011.000000   \n",
       "mean   32386.688208    35.768908   -71.113714  2.102613e+04    476.518823   \n",
       "std    18017.294540    13.391261    55.220345  1.055172e+05   2833.090464   \n",
       "min       66.000000   -71.949900  -175.198200  0.000000e+00      0.000000   \n",
       "25%    19049.000000    33.202974   -96.580090  7.010000e+02      9.000000   \n",
       "50%    30067.000000    37.910342   -86.708116  1.968000e+03     31.000000   \n",
       "75%    47039.000000    42.181730   -77.358102  7.693500e+03    112.000000   \n",
       "max    99999.000000    71.706900   178.065000  2.636045e+06  81593.000000   \n",
       "\n",
       "          Recovered        Active  Incident_Rate  Case_Fatality_Ratio  \n",
       "count  4.011000e+03  4.011000e+03    3922.000000          3963.000000  \n",
       "mean   1.180731e+04  9.259591e+03    5738.940929             2.228699  \n",
       "std    8.193885e+04  5.719777e+04    3227.374130            17.174874  \n",
       "min    0.000000e+00  0.000000e+00       0.000000             0.000000  \n",
       "25%    0.000000e+00  5.780000e+02    3536.967442             0.969239  \n",
       "50%    0.000000e+00  1.657000e+03    5840.344304             1.551567  \n",
       "75%    0.000000e+00  4.915500e+03    7752.568815             2.341350  \n",
       "max    2.114760e+06  2.400750e+06   27388.219766          1026.206897  "
      ]
     },
     "execution_count": 71,
     "metadata": {},
     "output_type": "execute_result"
    }
   ],
   "source": [
    "df.describe()"
   ]
  },
  {
   "cell_type": "markdown",
   "id": "e97db897",
   "metadata": {},
   "source": [
    "You will see that the range of `Case_Fatality_Ratio` is from `0` to `1026.20`. Based on the data-set's description `Case-Fatality Ratio = Number of recorded deaths / Number of cases * 100`. Since the recorded deaths cannot be greater than the number of confirmed cases, any values greater than 100 are not acceptable for the `Case_Fatality_Ratio` column. \n",
    "- Only keep the rows which `df.Case_Fatality_Ratio <= 100`and remove the ones that are greater than 100. Don't forget to save the results back on `df`. \n",
    "- Use `shape` to see how many rows are removed when compared to the previouse time we run `shape`."
   ]
  },
  {
   "cell_type": "code",
   "execution_count": 72,
   "id": "b57fb880-6a60-41ca-9f58-46e56c704758",
   "metadata": {},
   "outputs": [
    {
     "data": {
      "text/plain": [
       "(3960, 14)"
      ]
     },
     "execution_count": 72,
     "metadata": {},
     "output_type": "execute_result"
    }
   ],
   "source": [
    "df = df[df.Case_Fatality_Ratio <= 100]\n",
    "df.shape"
   ]
  },
  {
   "cell_type": "markdown",
   "id": "92f66ce9",
   "metadata": {},
   "source": [
    "- Create a subset of the data-set (name it `df_obj`) which only includes the text type(`object`) columns and use `describe()` method to answer the following questions:  \n"
   ]
  },
  {
   "cell_type": "code",
   "execution_count": 73,
   "id": "e42f68aa-986e-4a30-aa57-67e41c202650",
   "metadata": {
    "tags": []
   },
   "outputs": [
    {
     "data": {
      "text/html": [
       "<div>\n",
       "<style scoped>\n",
       "    .dataframe tbody tr th:only-of-type {\n",
       "        vertical-align: middle;\n",
       "    }\n",
       "\n",
       "    .dataframe tbody tr th {\n",
       "        vertical-align: top;\n",
       "    }\n",
       "\n",
       "    .dataframe thead th {\n",
       "        text-align: right;\n",
       "    }\n",
       "</style>\n",
       "<table border=\"1\" class=\"dataframe\">\n",
       "  <thead>\n",
       "    <tr style=\"text-align: right;\">\n",
       "      <th></th>\n",
       "      <th>Admin2</th>\n",
       "      <th>Province_State</th>\n",
       "      <th>Country_Region</th>\n",
       "      <th>Last_Update</th>\n",
       "      <th>Combined_Key</th>\n",
       "    </tr>\n",
       "  </thead>\n",
       "  <tbody>\n",
       "    <tr>\n",
       "      <th>count</th>\n",
       "      <td>3236</td>\n",
       "      <td>3786</td>\n",
       "      <td>3960</td>\n",
       "      <td>3960</td>\n",
       "      <td>3960</td>\n",
       "    </tr>\n",
       "    <tr>\n",
       "      <th>unique</th>\n",
       "      <td>1916</td>\n",
       "      <td>593</td>\n",
       "      <td>196</td>\n",
       "      <td>5</td>\n",
       "      <td>3960</td>\n",
       "    </tr>\n",
       "    <tr>\n",
       "      <th>top</th>\n",
       "      <td>Washington</td>\n",
       "      <td>Texas</td>\n",
       "      <td>US</td>\n",
       "      <td>2021-01-02 05:22:33</td>\n",
       "      <td>Afghanistan</td>\n",
       "    </tr>\n",
       "    <tr>\n",
       "      <th>freq</th>\n",
       "      <td>30</td>\n",
       "      <td>254</td>\n",
       "      <td>3241</td>\n",
       "      <td>3953</td>\n",
       "      <td>1</td>\n",
       "    </tr>\n",
       "  </tbody>\n",
       "</table>\n",
       "</div>"
      ],
      "text/plain": [
       "            Admin2 Province_State Country_Region          Last_Update  \\\n",
       "count         3236           3786           3960                 3960   \n",
       "unique        1916            593            196                    5   \n",
       "top     Washington          Texas             US  2021-01-02 05:22:33   \n",
       "freq            30            254           3241                 3953   \n",
       "\n",
       "       Combined_Key  \n",
       "count          3960  \n",
       "unique         3960  \n",
       "top     Afghanistan  \n",
       "freq              1  "
      ]
     },
     "execution_count": 73,
     "metadata": {},
     "output_type": "execute_result"
    }
   ],
   "source": [
    "df_obj = df.select_dtypes(include=\"object\")\n",
    "df_obj.describe()"
   ]
  },
  {
   "cell_type": "markdown",
   "id": "34cc9930",
   "metadata": {},
   "source": [
    "It looks like there are a few unique values of `Last_Update`. Let's explore more. \n",
    "- Apply `value_counts()` method on the `Last_Update` column. \n",
    "\n",
    "\n"
   ]
  },
  {
   "cell_type": "code",
   "execution_count": 74,
   "id": "ab086f71-1f58-4e52-960a-7797ac22f790",
   "metadata": {
    "tags": []
   },
   "outputs": [
    {
     "data": {
      "text/plain": [
       "Last_Update\n",
       "2021-01-02 05:22:33    3953\n",
       "2020-12-21 13:27:30       2\n",
       "2020-08-04 02:27:56       2\n",
       "2021-04-02 15:13:53       2\n",
       "2020-12-29 23:22:37       1\n",
       "Name: count, dtype: int64"
      ]
     },
     "execution_count": 74,
     "metadata": {},
     "output_type": "execute_result"
    }
   ],
   "source": [
    "df.Last_Update.value_counts()"
   ]
  },
  {
   "cell_type": "markdown",
   "id": "b28a51a8",
   "metadata": {},
   "source": [
    "- As you can see there are a few rows with unreasonable updating dates. Use `groupby()` and `get_group()` methods to get only the rows with `2021-01-02 05:22:33` value. Don't forget to save the filtered dataframe back on `df`. \n",
    "- Now, Apply `value_counts()` method on the `Last_Update` column to make sure that those 7 rows are deleted. "
   ]
  },
  {
   "cell_type": "code",
   "execution_count": 75,
   "id": "cc0c4a45-2715-4ce5-9339-2cbb01bd5a36",
   "metadata": {},
   "outputs": [
    {
     "data": {
      "text/plain": [
       "Last_Update\n",
       "2021-01-02 05:22:33    3953\n",
       "Name: count, dtype: int64"
      ]
     },
     "execution_count": 75,
     "metadata": {},
     "output_type": "execute_result"
    }
   ],
   "source": [
    "df = df.groupby(\"Last_Update\").get_group(\"2021-01-02 05:22:33\")\n",
    "df.Last_Update.value_counts()"
   ]
  },
  {
   "cell_type": "markdown",
   "id": "6a23f287",
   "metadata": {},
   "source": [
    "- For some countries such as US and Japan, the dataset provided the detailed county/state stats and not the total stats. Find the total number of `Confirmed`, `Deaths`, `Recovered`, `Active` cases for each `Country_Region` using the `groupby()` method. Name the results  `df_all_countries` and print it. \n"
   ]
  },
  {
   "cell_type": "code",
   "execution_count": 76,
   "id": "f156a6f8-980f-47d6-add0-f7282d1c6393",
   "metadata": {},
   "outputs": [
    {
     "data": {
      "text/html": [
       "<div>\n",
       "<style scoped>\n",
       "    .dataframe tbody tr th:only-of-type {\n",
       "        vertical-align: middle;\n",
       "    }\n",
       "\n",
       "    .dataframe tbody tr th {\n",
       "        vertical-align: top;\n",
       "    }\n",
       "\n",
       "    .dataframe thead th {\n",
       "        text-align: right;\n",
       "    }\n",
       "</style>\n",
       "<table border=\"1\" class=\"dataframe\">\n",
       "  <thead>\n",
       "    <tr style=\"text-align: right;\">\n",
       "      <th></th>\n",
       "      <th>Confirmed</th>\n",
       "      <th>Deaths</th>\n",
       "      <th>Recovered</th>\n",
       "      <th>Active</th>\n",
       "    </tr>\n",
       "    <tr>\n",
       "      <th>Country_Region</th>\n",
       "      <th></th>\n",
       "      <th></th>\n",
       "      <th></th>\n",
       "      <th></th>\n",
       "    </tr>\n",
       "  </thead>\n",
       "  <tbody>\n",
       "    <tr>\n",
       "      <th>Afghanistan</th>\n",
       "      <td>52513</td>\n",
       "      <td>2201</td>\n",
       "      <td>41727</td>\n",
       "      <td>8585</td>\n",
       "    </tr>\n",
       "    <tr>\n",
       "      <th>Albania</th>\n",
       "      <td>58316</td>\n",
       "      <td>1181</td>\n",
       "      <td>33634</td>\n",
       "      <td>23501</td>\n",
       "    </tr>\n",
       "    <tr>\n",
       "      <th>Algeria</th>\n",
       "      <td>99897</td>\n",
       "      <td>2762</td>\n",
       "      <td>67395</td>\n",
       "      <td>29740</td>\n",
       "    </tr>\n",
       "    <tr>\n",
       "      <th>Andorra</th>\n",
       "      <td>8117</td>\n",
       "      <td>84</td>\n",
       "      <td>7463</td>\n",
       "      <td>570</td>\n",
       "    </tr>\n",
       "    <tr>\n",
       "      <th>Angola</th>\n",
       "      <td>17568</td>\n",
       "      <td>405</td>\n",
       "      <td>11146</td>\n",
       "      <td>6017</td>\n",
       "    </tr>\n",
       "    <tr>\n",
       "      <th>...</th>\n",
       "      <td>...</td>\n",
       "      <td>...</td>\n",
       "      <td>...</td>\n",
       "      <td>...</td>\n",
       "    </tr>\n",
       "    <tr>\n",
       "      <th>West Bank and Gaza</th>\n",
       "      <td>139223</td>\n",
       "      <td>1418</td>\n",
       "      <td>118926</td>\n",
       "      <td>18879</td>\n",
       "    </tr>\n",
       "    <tr>\n",
       "      <th>Winter Olympics 2022</th>\n",
       "      <td>0</td>\n",
       "      <td>0</td>\n",
       "      <td>0</td>\n",
       "      <td>0</td>\n",
       "    </tr>\n",
       "    <tr>\n",
       "      <th>Yemen</th>\n",
       "      <td>2101</td>\n",
       "      <td>610</td>\n",
       "      <td>1396</td>\n",
       "      <td>95</td>\n",
       "    </tr>\n",
       "    <tr>\n",
       "      <th>Zambia</th>\n",
       "      <td>20997</td>\n",
       "      <td>390</td>\n",
       "      <td>18773</td>\n",
       "      <td>1834</td>\n",
       "    </tr>\n",
       "    <tr>\n",
       "      <th>Zimbabwe</th>\n",
       "      <td>14084</td>\n",
       "      <td>369</td>\n",
       "      <td>11347</td>\n",
       "      <td>2368</td>\n",
       "    </tr>\n",
       "  </tbody>\n",
       "</table>\n",
       "<p>196 rows × 4 columns</p>\n",
       "</div>"
      ],
      "text/plain": [
       "                      Confirmed  Deaths  Recovered  Active\n",
       "Country_Region                                            \n",
       "Afghanistan               52513    2201      41727    8585\n",
       "Albania                   58316    1181      33634   23501\n",
       "Algeria                   99897    2762      67395   29740\n",
       "Andorra                    8117      84       7463     570\n",
       "Angola                    17568     405      11146    6017\n",
       "...                         ...     ...        ...     ...\n",
       "West Bank and Gaza       139223    1418     118926   18879\n",
       "Winter Olympics 2022          0       0          0       0\n",
       "Yemen                      2101     610       1396      95\n",
       "Zambia                    20997     390      18773    1834\n",
       "Zimbabwe                  14084     369      11347    2368\n",
       "\n",
       "[196 rows x 4 columns]"
      ]
     },
     "execution_count": 76,
     "metadata": {},
     "output_type": "execute_result"
    }
   ],
   "source": [
    "df_all_countries = df.groupby(\"Country_Region\")[[\"Confirmed\", \"Deaths\", \"Recovered\", \"Active\"]].sum()\n",
    "df_all_countries"
   ]
  },
  {
   "cell_type": "markdown",
   "id": "e4d463a3",
   "metadata": {},
   "source": [
    "- Add a column `Case_Fatality_Ratio` to `df_all_countries`. Based on the data-set desscription, `Case_Fatality_Ratio` is `the number of deaths / number of confirmed cases*100` and print `df_all_countries` using `head` method to see what the new column looks like. "
   ]
  },
  {
   "cell_type": "code",
   "execution_count": 77,
   "id": "35e8d06a-d48b-4b60-9639-f877b443d09c",
   "metadata": {
    "tags": []
   },
   "outputs": [
    {
     "data": {
      "text/html": [
       "<div>\n",
       "<style scoped>\n",
       "    .dataframe tbody tr th:only-of-type {\n",
       "        vertical-align: middle;\n",
       "    }\n",
       "\n",
       "    .dataframe tbody tr th {\n",
       "        vertical-align: top;\n",
       "    }\n",
       "\n",
       "    .dataframe thead th {\n",
       "        text-align: right;\n",
       "    }\n",
       "</style>\n",
       "<table border=\"1\" class=\"dataframe\">\n",
       "  <thead>\n",
       "    <tr style=\"text-align: right;\">\n",
       "      <th></th>\n",
       "      <th>Confirmed</th>\n",
       "      <th>Deaths</th>\n",
       "      <th>Recovered</th>\n",
       "      <th>Active</th>\n",
       "      <th>Case_Fatality_Ratio</th>\n",
       "    </tr>\n",
       "    <tr>\n",
       "      <th>Country_Region</th>\n",
       "      <th></th>\n",
       "      <th></th>\n",
       "      <th></th>\n",
       "      <th></th>\n",
       "      <th></th>\n",
       "    </tr>\n",
       "  </thead>\n",
       "  <tbody>\n",
       "    <tr>\n",
       "      <th>Yemen</th>\n",
       "      <td>2101</td>\n",
       "      <td>610</td>\n",
       "      <td>1396</td>\n",
       "      <td>95</td>\n",
       "      <td>29.033793</td>\n",
       "    </tr>\n",
       "    <tr>\n",
       "      <th>MS Zaandam</th>\n",
       "      <td>9</td>\n",
       "      <td>2</td>\n",
       "      <td>7</td>\n",
       "      <td>0</td>\n",
       "      <td>22.222222</td>\n",
       "    </tr>\n",
       "    <tr>\n",
       "      <th>Peru</th>\n",
       "      <td>1015137</td>\n",
       "      <td>93231</td>\n",
       "      <td>0</td>\n",
       "      <td>921906</td>\n",
       "      <td>9.184081</td>\n",
       "    </tr>\n",
       "    <tr>\n",
       "      <th>Mexico</th>\n",
       "      <td>1437185</td>\n",
       "      <td>126507</td>\n",
       "      <td>0</td>\n",
       "      <td>1310678</td>\n",
       "      <td>8.802416</td>\n",
       "    </tr>\n",
       "    <tr>\n",
       "      <th>Ecuador</th>\n",
       "      <td>213378</td>\n",
       "      <td>14051</td>\n",
       "      <td>184507</td>\n",
       "      <td>14820</td>\n",
       "      <td>6.585028</td>\n",
       "    </tr>\n",
       "    <tr>\n",
       "      <th>...</th>\n",
       "      <td>...</td>\n",
       "      <td>...</td>\n",
       "      <td>...</td>\n",
       "      <td>...</td>\n",
       "      <td>...</td>\n",
       "    </tr>\n",
       "    <tr>\n",
       "      <th>Antarctica</th>\n",
       "      <td>0</td>\n",
       "      <td>0</td>\n",
       "      <td>0</td>\n",
       "      <td>0</td>\n",
       "      <td>NaN</td>\n",
       "    </tr>\n",
       "    <tr>\n",
       "      <th>Korea, North</th>\n",
       "      <td>0</td>\n",
       "      <td>0</td>\n",
       "      <td>0</td>\n",
       "      <td>0</td>\n",
       "      <td>NaN</td>\n",
       "    </tr>\n",
       "    <tr>\n",
       "      <th>Nauru</th>\n",
       "      <td>0</td>\n",
       "      <td>0</td>\n",
       "      <td>0</td>\n",
       "      <td>0</td>\n",
       "      <td>NaN</td>\n",
       "    </tr>\n",
       "    <tr>\n",
       "      <th>Tuvalu</th>\n",
       "      <td>0</td>\n",
       "      <td>0</td>\n",
       "      <td>0</td>\n",
       "      <td>0</td>\n",
       "      <td>NaN</td>\n",
       "    </tr>\n",
       "    <tr>\n",
       "      <th>Winter Olympics 2022</th>\n",
       "      <td>0</td>\n",
       "      <td>0</td>\n",
       "      <td>0</td>\n",
       "      <td>0</td>\n",
       "      <td>NaN</td>\n",
       "    </tr>\n",
       "  </tbody>\n",
       "</table>\n",
       "<p>196 rows × 5 columns</p>\n",
       "</div>"
      ],
      "text/plain": [
       "                      Confirmed  Deaths  Recovered   Active  \\\n",
       "Country_Region                                                \n",
       "Yemen                      2101     610       1396       95   \n",
       "MS Zaandam                    9       2          7        0   \n",
       "Peru                    1015137   93231          0   921906   \n",
       "Mexico                  1437185  126507          0  1310678   \n",
       "Ecuador                  213378   14051     184507    14820   \n",
       "...                         ...     ...        ...      ...   \n",
       "Antarctica                    0       0          0        0   \n",
       "Korea, North                  0       0          0        0   \n",
       "Nauru                         0       0          0        0   \n",
       "Tuvalu                        0       0          0        0   \n",
       "Winter Olympics 2022          0       0          0        0   \n",
       "\n",
       "                      Case_Fatality_Ratio  \n",
       "Country_Region                             \n",
       "Yemen                           29.033793  \n",
       "MS Zaandam                      22.222222  \n",
       "Peru                             9.184081  \n",
       "Mexico                           8.802416  \n",
       "Ecuador                          6.585028  \n",
       "...                                   ...  \n",
       "Antarctica                            NaN  \n",
       "Korea, North                          NaN  \n",
       "Nauru                                 NaN  \n",
       "Tuvalu                                NaN  \n",
       "Winter Olympics 2022                  NaN  \n",
       "\n",
       "[196 rows x 5 columns]"
      ]
     },
     "execution_count": 77,
     "metadata": {},
     "output_type": "execute_result"
    }
   ],
   "source": [
    "df_all_countries[\"Case_Fatality_Ratio\"] = df_all_countries[\"Deaths\"] / df_all_countries[\"Confirmed\"] * 100\n",
    "df_all_countries.head()\n",
    "\n",
    "\n",
    "df_all_countries.sort_values(by=\"Case_Fatality_Ratio\", ascending = False)"
   ]
  },
  {
   "cell_type": "markdown",
   "id": "3fd6e9bd",
   "metadata": {},
   "source": [
    "- It was expected that if the number of confirmed cases for a country is zero, Case_Fatality_Ratio will be NaN, right? Try `.isna().sum()` method on the column `df_all_countries` to see how many `NaN`s there are. \n"
   ]
  },
  {
   "cell_type": "code",
   "execution_count": 78,
   "id": "6a00e908-bb24-4242-a6aa-ef57a81bfec7",
   "metadata": {},
   "outputs": [
    {
     "data": {
      "text/plain": [
       "np.int64(5)"
      ]
     },
     "execution_count": 78,
     "metadata": {},
     "output_type": "execute_result"
    }
   ],
   "source": [
    "df_all_countries.Case_Fatality_Ratio.isna().sum()"
   ]
  },
  {
   "cell_type": "markdown",
   "id": "c082a951",
   "metadata": {},
   "source": [
    "- Apply the `fillna()` method to replace NaN values with `0`. Don't forget to use the argument `inplace=True` to change the original data-set of `df_all_countries`. Run a `.isna().sum()` code similar to the previous part again to make sure the number of `NaN`s is now zero.\n"
   ]
  },
  {
   "cell_type": "code",
   "execution_count": 79,
   "id": "b72ea66e-fa2d-4113-ada6-5710e51216e3",
   "metadata": {},
   "outputs": [
    {
     "name": "stderr",
     "output_type": "stream",
     "text": [
      "/var/folders/4w/zz44xt0x4yx19mn8x1c1qzcr0000gn/T/ipykernel_50617/3400901781.py:1: FutureWarning: A value is trying to be set on a copy of a DataFrame or Series through chained assignment using an inplace method.\n",
      "The behavior will change in pandas 3.0. This inplace method will never work because the intermediate object on which we are setting values always behaves as a copy.\n",
      "\n",
      "For example, when doing 'df[col].method(value, inplace=True)', try using 'df.method({col: value}, inplace=True)' or df[col] = df[col].method(value) instead, to perform the operation inplace on the original object.\n",
      "\n",
      "\n",
      "  df_all_countries.Case_Fatality_Ratio.fillna(0, inplace=True)\n"
     ]
    },
    {
     "data": {
      "text/plain": [
       "np.int64(0)"
      ]
     },
     "execution_count": 79,
     "metadata": {},
     "output_type": "execute_result"
    }
   ],
   "source": [
    "df_all_countries.Case_Fatality_Ratio.fillna(0, inplace=True)\n",
    "df_all_countries.Case_Fatality_Ratio.isna().sum()"
   ]
  },
  {
   "cell_type": "markdown",
   "id": "e9e32744",
   "metadata": {},
   "source": [
    "- Apply `sort_values()` method on `df_all_countries` and slice the results to print a dataframe containing the stats of the top 5 countries based on \n",
    "    - the total number of `Deaths`.\n",
    "    - the total number of `Confirmed`.\n",
    "    - the `Case_Fatality_Ratio`.\n"
   ]
  },
  {
   "cell_type": "code",
   "execution_count": 80,
   "id": "6343e20a-480f-4faf-8c7f-c129911ac1fa",
   "metadata": {},
   "outputs": [
    {
     "data": {
      "text/html": [
       "<div>\n",
       "<style scoped>\n",
       "    .dataframe tbody tr th:only-of-type {\n",
       "        vertical-align: middle;\n",
       "    }\n",
       "\n",
       "    .dataframe tbody tr th {\n",
       "        vertical-align: top;\n",
       "    }\n",
       "\n",
       "    .dataframe thead th {\n",
       "        text-align: right;\n",
       "    }\n",
       "</style>\n",
       "<table border=\"1\" class=\"dataframe\">\n",
       "  <thead>\n",
       "    <tr style=\"text-align: right;\">\n",
       "      <th></th>\n",
       "      <th>Confirmed</th>\n",
       "      <th>Deaths</th>\n",
       "      <th>Recovered</th>\n",
       "      <th>Active</th>\n",
       "      <th>Case_Fatality_Ratio</th>\n",
       "    </tr>\n",
       "    <tr>\n",
       "      <th>Country_Region</th>\n",
       "      <th></th>\n",
       "      <th></th>\n",
       "      <th></th>\n",
       "      <th></th>\n",
       "      <th></th>\n",
       "    </tr>\n",
       "  </thead>\n",
       "  <tbody>\n",
       "    <tr>\n",
       "      <th>US</th>\n",
       "      <td>20380197</td>\n",
       "      <td>350702</td>\n",
       "      <td>0</td>\n",
       "      <td>19974884</td>\n",
       "      <td>1.720798</td>\n",
       "    </tr>\n",
       "    <tr>\n",
       "      <th>Brazil</th>\n",
       "      <td>7703971</td>\n",
       "      <td>195541</td>\n",
       "      <td>6855372</td>\n",
       "      <td>649795</td>\n",
       "      <td>2.538185</td>\n",
       "    </tr>\n",
       "    <tr>\n",
       "      <th>India</th>\n",
       "      <td>10305788</td>\n",
       "      <td>149218</td>\n",
       "      <td>9883461</td>\n",
       "      <td>273109</td>\n",
       "      <td>1.447905</td>\n",
       "    </tr>\n",
       "    <tr>\n",
       "      <th>Mexico</th>\n",
       "      <td>1437185</td>\n",
       "      <td>126507</td>\n",
       "      <td>0</td>\n",
       "      <td>1310678</td>\n",
       "      <td>8.802416</td>\n",
       "    </tr>\n",
       "    <tr>\n",
       "      <th>United Kingdom</th>\n",
       "      <td>2549671</td>\n",
       "      <td>95816</td>\n",
       "      <td>5682</td>\n",
       "      <td>2469774</td>\n",
       "      <td>3.757975</td>\n",
       "    </tr>\n",
       "  </tbody>\n",
       "</table>\n",
       "</div>"
      ],
      "text/plain": [
       "                Confirmed  Deaths  Recovered    Active  Case_Fatality_Ratio\n",
       "Country_Region                                                             \n",
       "US               20380197  350702          0  19974884             1.720798\n",
       "Brazil            7703971  195541    6855372    649795             2.538185\n",
       "India            10305788  149218    9883461    273109             1.447905\n",
       "Mexico            1437185  126507          0   1310678             8.802416\n",
       "United Kingdom    2549671   95816       5682   2469774             3.757975"
      ]
     },
     "execution_count": 80,
     "metadata": {},
     "output_type": "execute_result"
    }
   ],
   "source": [
    "df_all_countries.sort_values(by=\"Deaths\", ascending=False)[:5]"
   ]
  },
  {
   "cell_type": "code",
   "execution_count": 81,
   "id": "56e481ec-2103-44c7-826f-6ff10675948d",
   "metadata": {},
   "outputs": [
    {
     "data": {
      "text/html": [
       "<div>\n",
       "<style scoped>\n",
       "    .dataframe tbody tr th:only-of-type {\n",
       "        vertical-align: middle;\n",
       "    }\n",
       "\n",
       "    .dataframe tbody tr th {\n",
       "        vertical-align: top;\n",
       "    }\n",
       "\n",
       "    .dataframe thead th {\n",
       "        text-align: right;\n",
       "    }\n",
       "</style>\n",
       "<table border=\"1\" class=\"dataframe\">\n",
       "  <thead>\n",
       "    <tr style=\"text-align: right;\">\n",
       "      <th></th>\n",
       "      <th>Confirmed</th>\n",
       "      <th>Deaths</th>\n",
       "      <th>Recovered</th>\n",
       "      <th>Active</th>\n",
       "      <th>Case_Fatality_Ratio</th>\n",
       "    </tr>\n",
       "    <tr>\n",
       "      <th>Country_Region</th>\n",
       "      <th></th>\n",
       "      <th></th>\n",
       "      <th></th>\n",
       "      <th></th>\n",
       "      <th></th>\n",
       "    </tr>\n",
       "  </thead>\n",
       "  <tbody>\n",
       "    <tr>\n",
       "      <th>US</th>\n",
       "      <td>20380197</td>\n",
       "      <td>350702</td>\n",
       "      <td>0</td>\n",
       "      <td>19974884</td>\n",
       "      <td>1.720798</td>\n",
       "    </tr>\n",
       "    <tr>\n",
       "      <th>India</th>\n",
       "      <td>10305788</td>\n",
       "      <td>149218</td>\n",
       "      <td>9883461</td>\n",
       "      <td>273109</td>\n",
       "      <td>1.447905</td>\n",
       "    </tr>\n",
       "    <tr>\n",
       "      <th>Brazil</th>\n",
       "      <td>7703971</td>\n",
       "      <td>195541</td>\n",
       "      <td>6855372</td>\n",
       "      <td>649795</td>\n",
       "      <td>2.538185</td>\n",
       "    </tr>\n",
       "    <tr>\n",
       "      <th>Russia</th>\n",
       "      <td>3153960</td>\n",
       "      <td>56798</td>\n",
       "      <td>2553467</td>\n",
       "      <td>543695</td>\n",
       "      <td>1.800847</td>\n",
       "    </tr>\n",
       "    <tr>\n",
       "      <th>France</th>\n",
       "      <td>2697014</td>\n",
       "      <td>64891</td>\n",
       "      <td>200822</td>\n",
       "      <td>2431301</td>\n",
       "      <td>2.406031</td>\n",
       "    </tr>\n",
       "  </tbody>\n",
       "</table>\n",
       "</div>"
      ],
      "text/plain": [
       "                Confirmed  Deaths  Recovered    Active  Case_Fatality_Ratio\n",
       "Country_Region                                                             \n",
       "US               20380197  350702          0  19974884             1.720798\n",
       "India            10305788  149218    9883461    273109             1.447905\n",
       "Brazil            7703971  195541    6855372    649795             2.538185\n",
       "Russia            3153960   56798    2553467    543695             1.800847\n",
       "France            2697014   64891     200822   2431301             2.406031"
      ]
     },
     "execution_count": 81,
     "metadata": {},
     "output_type": "execute_result"
    }
   ],
   "source": [
    "df_all_countries.sort_values(by=\"Confirmed\", ascending=False)[:5]"
   ]
  },
  {
   "cell_type": "code",
   "execution_count": 82,
   "id": "4c8aa917-c3f5-4e6c-b3a7-df35247c7dad",
   "metadata": {},
   "outputs": [
    {
     "data": {
      "text/html": [
       "<div>\n",
       "<style scoped>\n",
       "    .dataframe tbody tr th:only-of-type {\n",
       "        vertical-align: middle;\n",
       "    }\n",
       "\n",
       "    .dataframe tbody tr th {\n",
       "        vertical-align: top;\n",
       "    }\n",
       "\n",
       "    .dataframe thead th {\n",
       "        text-align: right;\n",
       "    }\n",
       "</style>\n",
       "<table border=\"1\" class=\"dataframe\">\n",
       "  <thead>\n",
       "    <tr style=\"text-align: right;\">\n",
       "      <th></th>\n",
       "      <th>Confirmed</th>\n",
       "      <th>Deaths</th>\n",
       "      <th>Recovered</th>\n",
       "      <th>Active</th>\n",
       "      <th>Case_Fatality_Ratio</th>\n",
       "    </tr>\n",
       "    <tr>\n",
       "      <th>Country_Region</th>\n",
       "      <th></th>\n",
       "      <th></th>\n",
       "      <th></th>\n",
       "      <th></th>\n",
       "      <th></th>\n",
       "    </tr>\n",
       "  </thead>\n",
       "  <tbody>\n",
       "    <tr>\n",
       "      <th>Yemen</th>\n",
       "      <td>2101</td>\n",
       "      <td>610</td>\n",
       "      <td>1396</td>\n",
       "      <td>95</td>\n",
       "      <td>29.033793</td>\n",
       "    </tr>\n",
       "    <tr>\n",
       "      <th>MS Zaandam</th>\n",
       "      <td>9</td>\n",
       "      <td>2</td>\n",
       "      <td>7</td>\n",
       "      <td>0</td>\n",
       "      <td>22.222222</td>\n",
       "    </tr>\n",
       "    <tr>\n",
       "      <th>Peru</th>\n",
       "      <td>1015137</td>\n",
       "      <td>93231</td>\n",
       "      <td>0</td>\n",
       "      <td>921906</td>\n",
       "      <td>9.184081</td>\n",
       "    </tr>\n",
       "    <tr>\n",
       "      <th>Mexico</th>\n",
       "      <td>1437185</td>\n",
       "      <td>126507</td>\n",
       "      <td>0</td>\n",
       "      <td>1310678</td>\n",
       "      <td>8.802416</td>\n",
       "    </tr>\n",
       "    <tr>\n",
       "      <th>Ecuador</th>\n",
       "      <td>213378</td>\n",
       "      <td>14051</td>\n",
       "      <td>184507</td>\n",
       "      <td>14820</td>\n",
       "      <td>6.585028</td>\n",
       "    </tr>\n",
       "  </tbody>\n",
       "</table>\n",
       "</div>"
      ],
      "text/plain": [
       "                Confirmed  Deaths  Recovered   Active  Case_Fatality_Ratio\n",
       "Country_Region                                                            \n",
       "Yemen                2101     610       1396       95            29.033793\n",
       "MS Zaandam              9       2          7        0            22.222222\n",
       "Peru              1015137   93231          0   921906             9.184081\n",
       "Mexico            1437185  126507          0  1310678             8.802416\n",
       "Ecuador            213378   14051     184507    14820             6.585028"
      ]
     },
     "execution_count": 82,
     "metadata": {},
     "output_type": "execute_result"
    }
   ],
   "source": [
    "df_all_countries.sort_values(by=\"Case_Fatality_Ratio\", ascending=False)[:5]"
   ]
  },
  {
   "cell_type": "markdown",
   "id": "612d4cc9",
   "metadata": {},
   "source": [
    "- One can replicate the previous task on the `Province_State` column to find the top 5 US states with the highest number of covid cases. But first, you need to split the `df` data-set into two smaller parts `df_US` and `df_Non_US`:\n",
    "    - `df_US` a subset of `df` containing the rows which `Country_Region` is the `US`. Use `head` method to print `df_US`.\n",
    "    - `df_Non_US` a subset of `df` containing the rows which `Country_Region` is not the `US`. Use `head` method to print `df_Non_US`.\n"
   ]
  },
  {
   "cell_type": "code",
   "execution_count": 83,
   "id": "dfd0e323",
   "metadata": {},
   "outputs": [
    {
     "data": {
      "text/plain": [
       "(3953, 14)"
      ]
     },
     "execution_count": 83,
     "metadata": {},
     "output_type": "execute_result"
    }
   ],
   "source": [
    "df.shape"
   ]
  },
  {
   "cell_type": "code",
   "execution_count": 84,
   "id": "068c1685-6491-4311-b613-4290544d1555",
   "metadata": {},
   "outputs": [
    {
     "data": {
      "text/html": [
       "<div>\n",
       "<style scoped>\n",
       "    .dataframe tbody tr th:only-of-type {\n",
       "        vertical-align: middle;\n",
       "    }\n",
       "\n",
       "    .dataframe tbody tr th {\n",
       "        vertical-align: top;\n",
       "    }\n",
       "\n",
       "    .dataframe thead th {\n",
       "        text-align: right;\n",
       "    }\n",
       "</style>\n",
       "<table border=\"1\" class=\"dataframe\">\n",
       "  <thead>\n",
       "    <tr style=\"text-align: right;\">\n",
       "      <th></th>\n",
       "      <th>FIPS</th>\n",
       "      <th>Admin2</th>\n",
       "      <th>Province_State</th>\n",
       "      <th>Country_Region</th>\n",
       "      <th>Last_Update</th>\n",
       "      <th>Lat</th>\n",
       "      <th>Long_</th>\n",
       "      <th>Confirmed</th>\n",
       "      <th>Deaths</th>\n",
       "      <th>Recovered</th>\n",
       "      <th>Active</th>\n",
       "      <th>Combined_Key</th>\n",
       "      <th>Incident_Rate</th>\n",
       "      <th>Case_Fatality_Ratio</th>\n",
       "    </tr>\n",
       "  </thead>\n",
       "  <tbody>\n",
       "    <tr>\n",
       "      <th>648</th>\n",
       "      <td>1001.0</td>\n",
       "      <td>Autauga</td>\n",
       "      <td>Alabama</td>\n",
       "      <td>US</td>\n",
       "      <td>2021-01-02 05:22:33</td>\n",
       "      <td>32.539527</td>\n",
       "      <td>-86.644082</td>\n",
       "      <td>4239</td>\n",
       "      <td>50</td>\n",
       "      <td>0</td>\n",
       "      <td>4189</td>\n",
       "      <td>Autauga, Alabama, US</td>\n",
       "      <td>7587.391935</td>\n",
       "      <td>1.179523</td>\n",
       "    </tr>\n",
       "    <tr>\n",
       "      <th>649</th>\n",
       "      <td>1003.0</td>\n",
       "      <td>Baldwin</td>\n",
       "      <td>Alabama</td>\n",
       "      <td>US</td>\n",
       "      <td>2021-01-02 05:22:33</td>\n",
       "      <td>30.727750</td>\n",
       "      <td>-87.722071</td>\n",
       "      <td>13823</td>\n",
       "      <td>169</td>\n",
       "      <td>0</td>\n",
       "      <td>13654</td>\n",
       "      <td>Baldwin, Alabama, US</td>\n",
       "      <td>6192.157109</td>\n",
       "      <td>1.222600</td>\n",
       "    </tr>\n",
       "    <tr>\n",
       "      <th>650</th>\n",
       "      <td>1005.0</td>\n",
       "      <td>Barbour</td>\n",
       "      <td>Alabama</td>\n",
       "      <td>US</td>\n",
       "      <td>2021-01-02 05:22:33</td>\n",
       "      <td>31.868263</td>\n",
       "      <td>-85.387129</td>\n",
       "      <td>1517</td>\n",
       "      <td>33</td>\n",
       "      <td>0</td>\n",
       "      <td>1484</td>\n",
       "      <td>Barbour, Alabama, US</td>\n",
       "      <td>6145.183505</td>\n",
       "      <td>2.175346</td>\n",
       "    </tr>\n",
       "    <tr>\n",
       "      <th>651</th>\n",
       "      <td>1007.0</td>\n",
       "      <td>Bibb</td>\n",
       "      <td>Alabama</td>\n",
       "      <td>US</td>\n",
       "      <td>2021-01-02 05:22:33</td>\n",
       "      <td>32.996421</td>\n",
       "      <td>-87.125115</td>\n",
       "      <td>1854</td>\n",
       "      <td>46</td>\n",
       "      <td>0</td>\n",
       "      <td>1808</td>\n",
       "      <td>Bibb, Alabama, US</td>\n",
       "      <td>8279.003304</td>\n",
       "      <td>2.481122</td>\n",
       "    </tr>\n",
       "    <tr>\n",
       "      <th>652</th>\n",
       "      <td>1009.0</td>\n",
       "      <td>Blount</td>\n",
       "      <td>Alabama</td>\n",
       "      <td>US</td>\n",
       "      <td>2021-01-02 05:22:33</td>\n",
       "      <td>33.982109</td>\n",
       "      <td>-86.567906</td>\n",
       "      <td>4693</td>\n",
       "      <td>63</td>\n",
       "      <td>0</td>\n",
       "      <td>4630</td>\n",
       "      <td>Blount, Alabama, US</td>\n",
       "      <td>8115.726490</td>\n",
       "      <td>1.342425</td>\n",
       "    </tr>\n",
       "  </tbody>\n",
       "</table>\n",
       "</div>"
      ],
      "text/plain": [
       "       FIPS   Admin2 Province_State Country_Region          Last_Update  \\\n",
       "648  1001.0  Autauga        Alabama             US  2021-01-02 05:22:33   \n",
       "649  1003.0  Baldwin        Alabama             US  2021-01-02 05:22:33   \n",
       "650  1005.0  Barbour        Alabama             US  2021-01-02 05:22:33   \n",
       "651  1007.0     Bibb        Alabama             US  2021-01-02 05:22:33   \n",
       "652  1009.0   Blount        Alabama             US  2021-01-02 05:22:33   \n",
       "\n",
       "           Lat      Long_  Confirmed  Deaths  Recovered  Active  \\\n",
       "648  32.539527 -86.644082       4239      50          0    4189   \n",
       "649  30.727750 -87.722071      13823     169          0   13654   \n",
       "650  31.868263 -85.387129       1517      33          0    1484   \n",
       "651  32.996421 -87.125115       1854      46          0    1808   \n",
       "652  33.982109 -86.567906       4693      63          0    4630   \n",
       "\n",
       "             Combined_Key  Incident_Rate  Case_Fatality_Ratio  \n",
       "648  Autauga, Alabama, US    7587.391935             1.179523  \n",
       "649  Baldwin, Alabama, US    6192.157109             1.222600  \n",
       "650  Barbour, Alabama, US    6145.183505             2.175346  \n",
       "651     Bibb, Alabama, US    8279.003304             2.481122  \n",
       "652   Blount, Alabama, US    8115.726490             1.342425  "
      ]
     },
     "execution_count": 84,
     "metadata": {},
     "output_type": "execute_result"
    }
   ],
   "source": [
    "df_US = df[df.Country_Region == \"US\"]\n",
    "df_US.head()"
   ]
  },
  {
   "cell_type": "code",
   "execution_count": 85,
   "id": "c475d013",
   "metadata": {},
   "outputs": [
    {
     "data": {
      "text/html": [
       "<div>\n",
       "<style scoped>\n",
       "    .dataframe tbody tr th:only-of-type {\n",
       "        vertical-align: middle;\n",
       "    }\n",
       "\n",
       "    .dataframe tbody tr th {\n",
       "        vertical-align: top;\n",
       "    }\n",
       "\n",
       "    .dataframe thead th {\n",
       "        text-align: right;\n",
       "    }\n",
       "</style>\n",
       "<table border=\"1\" class=\"dataframe\">\n",
       "  <thead>\n",
       "    <tr style=\"text-align: right;\">\n",
       "      <th></th>\n",
       "      <th>FIPS</th>\n",
       "      <th>Admin2</th>\n",
       "      <th>Province_State</th>\n",
       "      <th>Country_Region</th>\n",
       "      <th>Last_Update</th>\n",
       "      <th>Lat</th>\n",
       "      <th>Long_</th>\n",
       "      <th>Confirmed</th>\n",
       "      <th>Deaths</th>\n",
       "      <th>Recovered</th>\n",
       "      <th>Active</th>\n",
       "      <th>Combined_Key</th>\n",
       "      <th>Incident_Rate</th>\n",
       "      <th>Case_Fatality_Ratio</th>\n",
       "    </tr>\n",
       "  </thead>\n",
       "  <tbody>\n",
       "    <tr>\n",
       "      <th>0</th>\n",
       "      <td>NaN</td>\n",
       "      <td>NaN</td>\n",
       "      <td>NaN</td>\n",
       "      <td>Afghanistan</td>\n",
       "      <td>2021-01-02 05:22:33</td>\n",
       "      <td>33.93911</td>\n",
       "      <td>67.709953</td>\n",
       "      <td>52513</td>\n",
       "      <td>2201</td>\n",
       "      <td>41727</td>\n",
       "      <td>8585</td>\n",
       "      <td>Afghanistan</td>\n",
       "      <td>134.896578</td>\n",
       "      <td>4.191343</td>\n",
       "    </tr>\n",
       "    <tr>\n",
       "      <th>1</th>\n",
       "      <td>NaN</td>\n",
       "      <td>NaN</td>\n",
       "      <td>NaN</td>\n",
       "      <td>Albania</td>\n",
       "      <td>2021-01-02 05:22:33</td>\n",
       "      <td>41.15330</td>\n",
       "      <td>20.168300</td>\n",
       "      <td>58316</td>\n",
       "      <td>1181</td>\n",
       "      <td>33634</td>\n",
       "      <td>23501</td>\n",
       "      <td>Albania</td>\n",
       "      <td>2026.409062</td>\n",
       "      <td>2.025173</td>\n",
       "    </tr>\n",
       "    <tr>\n",
       "      <th>2</th>\n",
       "      <td>NaN</td>\n",
       "      <td>NaN</td>\n",
       "      <td>NaN</td>\n",
       "      <td>Algeria</td>\n",
       "      <td>2021-01-02 05:22:33</td>\n",
       "      <td>28.03390</td>\n",
       "      <td>1.659600</td>\n",
       "      <td>99897</td>\n",
       "      <td>2762</td>\n",
       "      <td>67395</td>\n",
       "      <td>29740</td>\n",
       "      <td>Algeria</td>\n",
       "      <td>227.809861</td>\n",
       "      <td>2.764848</td>\n",
       "    </tr>\n",
       "    <tr>\n",
       "      <th>3</th>\n",
       "      <td>NaN</td>\n",
       "      <td>NaN</td>\n",
       "      <td>NaN</td>\n",
       "      <td>Andorra</td>\n",
       "      <td>2021-01-02 05:22:33</td>\n",
       "      <td>42.50630</td>\n",
       "      <td>1.521800</td>\n",
       "      <td>8117</td>\n",
       "      <td>84</td>\n",
       "      <td>7463</td>\n",
       "      <td>570</td>\n",
       "      <td>Andorra</td>\n",
       "      <td>10505.403482</td>\n",
       "      <td>1.034865</td>\n",
       "    </tr>\n",
       "    <tr>\n",
       "      <th>4</th>\n",
       "      <td>NaN</td>\n",
       "      <td>NaN</td>\n",
       "      <td>NaN</td>\n",
       "      <td>Angola</td>\n",
       "      <td>2021-01-02 05:22:33</td>\n",
       "      <td>-11.20270</td>\n",
       "      <td>17.873900</td>\n",
       "      <td>17568</td>\n",
       "      <td>405</td>\n",
       "      <td>11146</td>\n",
       "      <td>6017</td>\n",
       "      <td>Angola</td>\n",
       "      <td>53.452981</td>\n",
       "      <td>2.305328</td>\n",
       "    </tr>\n",
       "  </tbody>\n",
       "</table>\n",
       "</div>"
      ],
      "text/plain": [
       "   FIPS Admin2 Province_State Country_Region          Last_Update       Lat  \\\n",
       "0   NaN    NaN            NaN    Afghanistan  2021-01-02 05:22:33  33.93911   \n",
       "1   NaN    NaN            NaN        Albania  2021-01-02 05:22:33  41.15330   \n",
       "2   NaN    NaN            NaN        Algeria  2021-01-02 05:22:33  28.03390   \n",
       "3   NaN    NaN            NaN        Andorra  2021-01-02 05:22:33  42.50630   \n",
       "4   NaN    NaN            NaN         Angola  2021-01-02 05:22:33 -11.20270   \n",
       "\n",
       "       Long_  Confirmed  Deaths  Recovered  Active Combined_Key  \\\n",
       "0  67.709953      52513    2201      41727    8585  Afghanistan   \n",
       "1  20.168300      58316    1181      33634   23501      Albania   \n",
       "2   1.659600      99897    2762      67395   29740      Algeria   \n",
       "3   1.521800       8117      84       7463     570      Andorra   \n",
       "4  17.873900      17568     405      11146    6017       Angola   \n",
       "\n",
       "   Incident_Rate  Case_Fatality_Ratio  \n",
       "0     134.896578             4.191343  \n",
       "1    2026.409062             2.025173  \n",
       "2     227.809861             2.764848  \n",
       "3   10505.403482             1.034865  \n",
       "4      53.452981             2.305328  "
      ]
     },
     "execution_count": 85,
     "metadata": {},
     "output_type": "execute_result"
    }
   ],
   "source": [
    "df_Non_US = df[df.Country_Region != \"US\"]\n",
    "df_Non_US.head()"
   ]
  },
  {
   "cell_type": "markdown",
   "id": "866363ac",
   "metadata": {},
   "source": [
    "- Use the `bar()` method from the `missingno` module to visualize the frequency of `NaN`s in `df_Non_US`.\n"
   ]
  },
  {
   "cell_type": "code",
   "execution_count": 86,
   "id": "7cef56e4-bded-488f-9749-7262bda2e847",
   "metadata": {},
   "outputs": [
    {
     "data": {
      "text/plain": [
       "<Axes: >"
      ]
     },
     "execution_count": 86,
     "metadata": {},
     "output_type": "execute_result"
    },
    {
     "data": {
      "image/png": "[encoded data removed]",
      "text/plain": [
       "<Figure size 2500x1000 with 3 Axes>"
      ]
     },
     "metadata": {},
     "output_type": "display_data"
    }
   ],
   "source": [
    "msno.bar(df_Non_US)"
   ]
  },
  {
   "cell_type": "markdown",
   "id": "24e5d1fb",
   "metadata": {},
   "source": [
    "As you can see, the first two columns have no non-NaN values. This matches with the description of the data-set. These two columns are for US only. \n",
    "- Use the `drop()` method to remove these two columns. Don't forget to save the filtered dataframe back on `df_Non_US`.\n",
    "- Try `bar()` method one more time to see if your changes were applied on `df_Non_US`."
   ]
  },
  {
   "cell_type": "code",
   "execution_count": 87,
   "id": "99d4d35e-1667-4124-9ebf-9e887680372f",
   "metadata": {
    "scrolled": true
   },
   "outputs": [
    {
     "data": {
      "text/plain": [
       "<Axes: >"
      ]
     },
     "execution_count": 87,
     "metadata": {},
     "output_type": "execute_result"
    },
    {
     "data": {
      "image/png": "[encoded data removed]",
      "text/plain": [
       "<Figure size 2500x1000 with 3 Axes>"
      ]
     },
     "metadata": {},
     "output_type": "display_data"
    }
   ],
   "source": [
    "df_Non_US = df_Non_US.drop(columns=[\"FIPS\", \"Admin2\"])\n",
    "msno.bar(df_Non_US)"
   ]
  },
  {
   "cell_type": "markdown",
   "id": "55ad5369",
   "metadata": {},
   "source": [
    " As you can see, there are still some NaNs in other columns but that is enough for now. Let's move to `df_US`.\n",
    " - Use the `bar()` method from the `missingno` module to visualize the frequency of `NaN`s in `df_US`.\n"
   ]
  },
  {
   "cell_type": "code",
   "execution_count": 88,
   "id": "107c0f33-ec0a-41df-b089-357b927d3916",
   "metadata": {},
   "outputs": [
    {
     "data": {
      "text/plain": [
       "<Axes: >"
      ]
     },
     "execution_count": 88,
     "metadata": {},
     "output_type": "execute_result"
    },
    {
     "data": {
      "image/png": "[encoded data removed]",
      "text/plain": [
       "<Figure size 2500x1000 with 3 Axes>"
      ]
     },
     "metadata": {},
     "output_type": "display_data"
    }
   ],
   "source": [
    "msno.bar(df_US)"
   ]
  },
  {
   "cell_type": "markdown",
   "id": "c427dd81",
   "metadata": {},
   "source": [
    "- What is the `shape` of `df_US`?\n"
   ]
  },
  {
   "cell_type": "code",
   "execution_count": 89,
   "id": "bab7fa87",
   "metadata": {},
   "outputs": [
    {
     "data": {
      "text/plain": [
       "(3235, 14)"
      ]
     },
     "execution_count": 89,
     "metadata": {},
     "output_type": "execute_result"
    }
   ],
   "source": [
    "df_US.shape"
   ]
  },
  {
   "cell_type": "markdown",
   "id": "2afeb1f8",
   "metadata": {},
   "source": [
    "- As you can see, there are very few NaN values. It seems okay to use the `dropna()` method to remove all rows with at least one NaN and save the results back on `df_US`. \n",
    "- Print the `shape` of `df_Us` one more time to see how many rows are deleted. "
   ]
  },
  {
   "cell_type": "code",
   "execution_count": 90,
   "id": "d441e7aa-89ff-4909-8c99-5f6219417678",
   "metadata": {},
   "outputs": [
    {
     "data": {
      "text/plain": [
       "(3191, 14)"
      ]
     },
     "execution_count": 90,
     "metadata": {},
     "output_type": "execute_result"
    }
   ],
   "source": [
    "df_US = df_US.dropna()\n",
    "df_US.shape"
   ]
  },
  {
   "cell_type": "markdown",
   "id": "fc71a8be-15d9-41ac-8629-0a003f3a549e",
   "metadata": {},
   "source": [
    "## Question 2: JHU SIS"
   ]
  },
  {
   "cell_type": "markdown",
   "id": "b35faa46-a1be-4926-bfae-73e43e216e5b",
   "metadata": {},
   "source": [
    "In this problem, you are going to work on the `SIS` data-set for the years of 2021 and 2022.\n",
    "\n",
    "The methods that you need to know before doing this assignment are as follows:\n",
    "\n",
    "**pd Methods:**\n",
    " - `.read_csv()`\n",
    " \n",
    "**dataframe methods:** \n",
    " - `.head()`\n",
    " - `.info()`\n",
    " - `.describe()`\n",
    " - `.drop()`\n",
    " - `.value_counts()`\n",
    " - `.isin()`\n",
    " - `.replace()`\n",
    " - `.crosstab()`\n",
    " - `.groupby()`\n",
    " \n",
    "**str methods:** \n",
    " - `.split()`\n",
    " \n",
    "**attributes:**\n",
    " - `.shape()`\n",
    " - `.iat()`\n",
    " \n",
    "**Others:**\n",
    " - `for` loop\n",
    " - `range()`\n",
    " \n",
    " Before starting to work on this assignment, read the handouts Pandas Parts A and B. Also practice `Week 4_class file.ipynb` and the **latest** version of `Updated_Week-5_Classwork.ipynb` and let me know if you have any questions. I have office hours on Fridays 12-1pm and 5-6 pm. Feel free to join the office hours with all your questions\n",
    " "
   ]
  },
  {
   "cell_type": "markdown",
   "id": "464be449-a3e8-44d6-86a7-f5d1445c8632",
   "metadata": {},
   "source": [
    "### Reading Data:\n",
    "- Import numpy and pandas"
   ]
  },
  {
   "cell_type": "code",
   "execution_count": 91,
   "id": "9bfcacfb-1025-4641-885e-fe6adaef3c8c",
   "metadata": {},
   "outputs": [],
   "source": [
    "import numpy as np\n",
    "import pandas as pd"
   ]
  },
  {
   "cell_type": "markdown",
   "id": "081120df-0aae-45f5-a7d9-6c0defb6e881",
   "metadata": {},
   "source": [
    "- Please download the data-set `SIS.csv`from Canvas and read the csv file to a DataFrame.\n",
    "- Use the `head` methods to see the first few rows of data."
   ]
  },
  {
   "cell_type": "code",
   "execution_count": 92,
   "id": "c4528578-3ebc-4b8a-9cbe-94990d70d743",
   "metadata": {},
   "outputs": [
    {
     "data": {
      "text/html": [
       "<div>\n",
       "<style scoped>\n",
       "    .dataframe tbody tr th:only-of-type {\n",
       "        vertical-align: middle;\n",
       "    }\n",
       "\n",
       "    .dataframe tbody tr th {\n",
       "        vertical-align: top;\n",
       "    }\n",
       "\n",
       "    .dataframe thead th {\n",
       "        text-align: right;\n",
       "    }\n",
       "</style>\n",
       "<table border=\"1\" class=\"dataframe\">\n",
       "  <thead>\n",
       "    <tr style=\"text-align: right;\">\n",
       "      <th></th>\n",
       "      <th>code</th>\n",
       "      <th>course</th>\n",
       "      <th>semester</th>\n",
       "      <th>campus</th>\n",
       "      <th>days</th>\n",
       "      <th>type</th>\n",
       "      <th>instructor</th>\n",
       "    </tr>\n",
       "  </thead>\n",
       "  <tbody>\n",
       "    <tr>\n",
       "      <th>0</th>\n",
       "      <td>BU.210.620 (81)</td>\n",
       "      <td>Accounting and Financial Reporting</td>\n",
       "      <td>Fall 2021</td>\n",
       "      <td>Downtown Baltimore</td>\n",
       "      <td>W 6:00PM - 9:00PM</td>\n",
       "      <td>Open</td>\n",
       "      <td>C. Freitag</td>\n",
       "    </tr>\n",
       "    <tr>\n",
       "      <th>1</th>\n",
       "      <td>BU.210.620 (1F)</td>\n",
       "      <td>Accounting and Financial Reporting</td>\n",
       "      <td>Fall 2021</td>\n",
       "      <td>Downtown Baltimore</td>\n",
       "      <td>M 1:30PM - 4:30PM</td>\n",
       "      <td>Open</td>\n",
       "      <td>D. Tong</td>\n",
       "    </tr>\n",
       "    <tr>\n",
       "      <th>2</th>\n",
       "      <td>BU.210.620 (F1)</td>\n",
       "      <td>Accounting and Financial Reporting</td>\n",
       "      <td>Fall 2021</td>\n",
       "      <td>Downtown Baltimore</td>\n",
       "      <td>M 8:30AM - 11:30AM</td>\n",
       "      <td>Open</td>\n",
       "      <td>D. Tong</td>\n",
       "    </tr>\n",
       "    <tr>\n",
       "      <th>3</th>\n",
       "      <td>BU.210.620 (X1)</td>\n",
       "      <td>Accounting and Financial Reporting</td>\n",
       "      <td>Fall 2021</td>\n",
       "      <td>Washington DC Center</td>\n",
       "      <td>F 8:30AM - 11:30AM</td>\n",
       "      <td>Open</td>\n",
       "      <td>G. Bai</td>\n",
       "    </tr>\n",
       "    <tr>\n",
       "      <th>4</th>\n",
       "      <td>BU.210.620 (1W)</td>\n",
       "      <td>Accounting and Financial Reporting</td>\n",
       "      <td>Fall 2021</td>\n",
       "      <td>Washington DC Center</td>\n",
       "      <td>F 1:30PM - 4:30PM</td>\n",
       "      <td>Open</td>\n",
       "      <td>J. Rippy</td>\n",
       "    </tr>\n",
       "  </tbody>\n",
       "</table>\n",
       "</div>"
      ],
      "text/plain": [
       "              code                              course   semester  \\\n",
       "0  BU.210.620 (81)  Accounting and Financial Reporting  Fall 2021   \n",
       "1  BU.210.620 (1F)  Accounting and Financial Reporting  Fall 2021   \n",
       "2  BU.210.620 (F1)  Accounting and Financial Reporting  Fall 2021   \n",
       "3  BU.210.620 (X1)  Accounting and Financial Reporting  Fall 2021   \n",
       "4  BU.210.620 (1W)  Accounting and Financial Reporting  Fall 2021   \n",
       "\n",
       "                 campus                days  type  instructor  \n",
       "0    Downtown Baltimore   W 6:00PM - 9:00PM  Open  C. Freitag  \n",
       "1    Downtown Baltimore   M 1:30PM - 4:30PM  Open     D. Tong  \n",
       "2    Downtown Baltimore  M 8:30AM - 11:30AM  Open     D. Tong  \n",
       "3  Washington DC Center  F 8:30AM - 11:30AM  Open      G. Bai  \n",
       "4  Washington DC Center   F 1:30PM - 4:30PM  Open    J. Rippy  "
      ]
     },
     "execution_count": 92,
     "metadata": {},
     "output_type": "execute_result"
    }
   ],
   "source": [
    "sis = pd.read_csv(\"SIS.csv\")\n",
    "sis.head()"
   ]
  },
  {
   "cell_type": "markdown",
   "id": "344462e9-5fa4-41b1-99ac-d70e4e38f9bc",
   "metadata": {},
   "source": [
    "- Use the `info` and `describe` methods to explore the data."
   ]
  },
  {
   "cell_type": "code",
   "execution_count": 93,
   "id": "794faca1-97c4-4aaa-b944-4d29fd7996e5",
   "metadata": {
    "scrolled": true
   },
   "outputs": [
    {
     "name": "stdout",
     "output_type": "stream",
     "text": [
      "<class 'pandas.core.frame.DataFrame'>\n",
      "RangeIndex: 1542 entries, 0 to 1541\n",
      "Data columns (total 7 columns):\n",
      " #   Column      Non-Null Count  Dtype \n",
      "---  ------      --------------  ----- \n",
      " 0   code        1542 non-null   object\n",
      " 1   course      1542 non-null   object\n",
      " 2   semester    1542 non-null   object\n",
      " 3   campus      1542 non-null   object\n",
      " 4   days        1037 non-null   object\n",
      " 5   type        1542 non-null   object\n",
      " 6   instructor  1502 non-null   object\n",
      "dtypes: object(7)\n",
      "memory usage: 84.5+ KB\n"
     ]
    }
   ],
   "source": [
    "sis.info()"
   ]
  },
  {
   "cell_type": "code",
   "execution_count": 94,
   "id": "67c3057f-dd0d-4946-b13a-e67a8b7a9026",
   "metadata": {},
   "outputs": [
    {
     "data": {
      "text/html": [
       "<div>\n",
       "<style scoped>\n",
       "    .dataframe tbody tr th:only-of-type {\n",
       "        vertical-align: middle;\n",
       "    }\n",
       "\n",
       "    .dataframe tbody tr th {\n",
       "        vertical-align: top;\n",
       "    }\n",
       "\n",
       "    .dataframe thead th {\n",
       "        text-align: right;\n",
       "    }\n",
       "</style>\n",
       "<table border=\"1\" class=\"dataframe\">\n",
       "  <thead>\n",
       "    <tr style=\"text-align: right;\">\n",
       "      <th></th>\n",
       "      <th>code</th>\n",
       "      <th>course</th>\n",
       "      <th>semester</th>\n",
       "      <th>campus</th>\n",
       "      <th>days</th>\n",
       "      <th>type</th>\n",
       "      <th>instructor</th>\n",
       "    </tr>\n",
       "  </thead>\n",
       "  <tbody>\n",
       "    <tr>\n",
       "      <th>count</th>\n",
       "      <td>1542</td>\n",
       "      <td>1542</td>\n",
       "      <td>1542</td>\n",
       "      <td>1542</td>\n",
       "      <td>1037</td>\n",
       "      <td>1542</td>\n",
       "      <td>1502</td>\n",
       "    </tr>\n",
       "    <tr>\n",
       "      <th>unique</th>\n",
       "      <td>1049</td>\n",
       "      <td>168</td>\n",
       "      <td>5</td>\n",
       "      <td>7</td>\n",
       "      <td>49</td>\n",
       "      <td>4</td>\n",
       "      <td>200</td>\n",
       "    </tr>\n",
       "    <tr>\n",
       "      <th>top</th>\n",
       "      <td>BU.610.705 (31)</td>\n",
       "      <td>Business Communication</td>\n",
       "      <td>Fall 2021</td>\n",
       "      <td>Online</td>\n",
       "      <td>T 8:30AM - 11:30AM</td>\n",
       "      <td>Open</td>\n",
       "      <td>R. Milter</td>\n",
       "    </tr>\n",
       "    <tr>\n",
       "      <th>freq</th>\n",
       "      <td>6</td>\n",
       "      <td>81</td>\n",
       "      <td>489</td>\n",
       "      <td>564</td>\n",
       "      <td>99</td>\n",
       "      <td>1199</td>\n",
       "      <td>35</td>\n",
       "    </tr>\n",
       "  </tbody>\n",
       "</table>\n",
       "</div>"
      ],
      "text/plain": [
       "                   code                  course   semester  campus  \\\n",
       "count              1542                    1542       1542    1542   \n",
       "unique             1049                     168          5       7   \n",
       "top     BU.610.705 (31)  Business Communication  Fall 2021  Online   \n",
       "freq                  6                      81        489     564   \n",
       "\n",
       "                      days  type instructor  \n",
       "count                 1037  1542       1502  \n",
       "unique                  49     4        200  \n",
       "top     T 8:30AM - 11:30AM  Open  R. Milter  \n",
       "freq                    99  1199         35  "
      ]
     },
     "execution_count": 94,
     "metadata": {},
     "output_type": "execute_result"
    }
   ],
   "source": [
    "sis.describe()"
   ]
  },
  {
   "cell_type": "markdown",
   "id": "662db7a7-28f8-40bf-9fbc-284863724703",
   "metadata": {},
   "source": [
    "- What is the shape of the dataset?"
   ]
  },
  {
   "cell_type": "code",
   "execution_count": 95,
   "id": "f4f220fe-3134-4ab8-b013-3392efebff47",
   "metadata": {},
   "outputs": [
    {
     "data": {
      "text/plain": [
       "(1542, 7)"
      ]
     },
     "execution_count": 95,
     "metadata": {},
     "output_type": "execute_result"
    }
   ],
   "source": [
    "sis.shape"
   ]
  },
  {
   "cell_type": "markdown",
   "id": "74b813a7-c68e-4150-b6d9-6bdd040bf761",
   "metadata": {},
   "source": [
    "### Data Cleaning:\n",
    "- Drop the column `type`. Make sure to use `inplace=True` argument to save it on itself.\n",
    "- Use the `head` methods to see how the dataset changed."
   ]
  },
  {
   "cell_type": "code",
   "execution_count": 96,
   "id": "07af517e-554c-4689-8714-9c499e885b43",
   "metadata": {},
   "outputs": [
    {
     "data": {
      "text/html": [
       "<div>\n",
       "<style scoped>\n",
       "    .dataframe tbody tr th:only-of-type {\n",
       "        vertical-align: middle;\n",
       "    }\n",
       "\n",
       "    .dataframe tbody tr th {\n",
       "        vertical-align: top;\n",
       "    }\n",
       "\n",
       "    .dataframe thead th {\n",
       "        text-align: right;\n",
       "    }\n",
       "</style>\n",
       "<table border=\"1\" class=\"dataframe\">\n",
       "  <thead>\n",
       "    <tr style=\"text-align: right;\">\n",
       "      <th></th>\n",
       "      <th>code</th>\n",
       "      <th>course</th>\n",
       "      <th>semester</th>\n",
       "      <th>campus</th>\n",
       "      <th>days</th>\n",
       "      <th>instructor</th>\n",
       "    </tr>\n",
       "  </thead>\n",
       "  <tbody>\n",
       "    <tr>\n",
       "      <th>0</th>\n",
       "      <td>BU.210.620 (81)</td>\n",
       "      <td>Accounting and Financial Reporting</td>\n",
       "      <td>Fall 2021</td>\n",
       "      <td>Downtown Baltimore</td>\n",
       "      <td>W 6:00PM - 9:00PM</td>\n",
       "      <td>C. Freitag</td>\n",
       "    </tr>\n",
       "    <tr>\n",
       "      <th>1</th>\n",
       "      <td>BU.210.620 (1F)</td>\n",
       "      <td>Accounting and Financial Reporting</td>\n",
       "      <td>Fall 2021</td>\n",
       "      <td>Downtown Baltimore</td>\n",
       "      <td>M 1:30PM - 4:30PM</td>\n",
       "      <td>D. Tong</td>\n",
       "    </tr>\n",
       "    <tr>\n",
       "      <th>2</th>\n",
       "      <td>BU.210.620 (F1)</td>\n",
       "      <td>Accounting and Financial Reporting</td>\n",
       "      <td>Fall 2021</td>\n",
       "      <td>Downtown Baltimore</td>\n",
       "      <td>M 8:30AM - 11:30AM</td>\n",
       "      <td>D. Tong</td>\n",
       "    </tr>\n",
       "    <tr>\n",
       "      <th>3</th>\n",
       "      <td>BU.210.620 (X1)</td>\n",
       "      <td>Accounting and Financial Reporting</td>\n",
       "      <td>Fall 2021</td>\n",
       "      <td>Washington DC Center</td>\n",
       "      <td>F 8:30AM - 11:30AM</td>\n",
       "      <td>G. Bai</td>\n",
       "    </tr>\n",
       "    <tr>\n",
       "      <th>4</th>\n",
       "      <td>BU.210.620 (1W)</td>\n",
       "      <td>Accounting and Financial Reporting</td>\n",
       "      <td>Fall 2021</td>\n",
       "      <td>Washington DC Center</td>\n",
       "      <td>F 1:30PM - 4:30PM</td>\n",
       "      <td>J. Rippy</td>\n",
       "    </tr>\n",
       "  </tbody>\n",
       "</table>\n",
       "</div>"
      ],
      "text/plain": [
       "              code                              course   semester  \\\n",
       "0  BU.210.620 (81)  Accounting and Financial Reporting  Fall 2021   \n",
       "1  BU.210.620 (1F)  Accounting and Financial Reporting  Fall 2021   \n",
       "2  BU.210.620 (F1)  Accounting and Financial Reporting  Fall 2021   \n",
       "3  BU.210.620 (X1)  Accounting and Financial Reporting  Fall 2021   \n",
       "4  BU.210.620 (1W)  Accounting and Financial Reporting  Fall 2021   \n",
       "\n",
       "                 campus                days  instructor  \n",
       "0    Downtown Baltimore   W 6:00PM - 9:00PM  C. Freitag  \n",
       "1    Downtown Baltimore   M 1:30PM - 4:30PM     D. Tong  \n",
       "2    Downtown Baltimore  M 8:30AM - 11:30AM     D. Tong  \n",
       "3  Washington DC Center  F 8:30AM - 11:30AM      G. Bai  \n",
       "4  Washington DC Center   F 1:30PM - 4:30PM    J. Rippy  "
      ]
     },
     "execution_count": 96,
     "metadata": {},
     "output_type": "execute_result"
    }
   ],
   "source": [
    "sis.drop('type', axis = 1, inplace = True)\n",
    "sis.head()"
   ]
  },
  {
   "cell_type": "markdown",
   "id": "b36ecc1a-717a-4cba-af57-198ecb3b8628",
   "metadata": {},
   "source": [
    "- Apply `value_counts()` method on the `campus` column. As you can see, Carey mostly teaches in one of the three campuses of `Downtown Baltimore`, `Washington DC Center`, `Online`. There are a few rows with different values of `campus`. "
   ]
  },
  {
   "cell_type": "code",
   "execution_count": 97,
   "id": "8467d7d5-e9ba-4ade-b088-402f747efd45",
   "metadata": {},
   "outputs": [
    {
     "data": {
      "text/plain": [
       "campus\n",
       "Online                                       564\n",
       "Downtown Baltimore                           505\n",
       "Washington DC Center                         446\n",
       "Off site (Not JHU)                            20\n",
       "Homewood Campus                                5\n",
       "Downtown Baltimore and Online                  1\n",
       "Downtown Baltimore and Off site (Not JHU)      1\n",
       "Name: count, dtype: int64"
      ]
     },
     "execution_count": 97,
     "metadata": {},
     "output_type": "execute_result"
    }
   ],
   "source": [
    "sis.campus.value_counts()"
   ]
  },
  {
   "cell_type": "markdown",
   "id": "0a972e4c-5c7d-4ae9-8330-214e7f12fe0d",
   "metadata": {},
   "source": [
    "- Use the `isin` method to get only the rows with `Downtown Baltimore`, `Washington DC Center`, `Online` values. Don't forget to save the filtered dataframe back on itself.\n",
    "- Print the results of `value_counts()` to make sure that you successfully deleted those 27 rows."
   ]
  },
  {
   "cell_type": "code",
   "execution_count": 98,
   "id": "bcd358ff-ecc1-4f24-a8de-874a3d2fa354",
   "metadata": {},
   "outputs": [
    {
     "data": {
      "text/plain": [
       "campus\n",
       "Online                  564\n",
       "Downtown Baltimore      505\n",
       "Washington DC Center    446\n",
       "Name: count, dtype: int64"
      ]
     },
     "execution_count": 98,
     "metadata": {},
     "output_type": "execute_result"
    }
   ],
   "source": [
    "sis = sis[sis.campus.isin(['Online','Downtown Baltimore','Washington DC Center'])]\n",
    "sis.campus.value_counts()"
   ]
  },
  {
   "cell_type": "markdown",
   "id": "46fe7b96-9566-4922-9d60-22499b1b66c9",
   "metadata": {},
   "source": [
    "### Data Transforming:\n",
    "\n",
    "Column `code` has the code of each course. As you know each Carey's course has the following format: `__.p__.___ (s_)`. In other words, `program_code(p)` will be the **4th** character of the `code`, and `section_code(s)` will be the **13th** character of the `code`.  For example, if the code is `BU.210.650 (34)`, program_code will be `2` and section_code will be `3`.\n",
    "\n",
    "- Add two columns to the dataframe and name them `program_code` and `section_code`.  \n",
    "- Hints: \n",
    "    - You can first add those two columns with the initial values `\"-\"`. Then using a `for` loop, iterate through rows and revise the values of these two columns for each row.\n",
    "\n",
    "Column `semester` contains both term and the year. \n",
    "- Separate these two values into two different columns. `term` and `year`. Then drop the column `semester` from the dataframe. \n",
    "- Hint: \n",
    "    - You can use the strings' `split` method to split the term and year with the space delimiter.\n",
    "    - You can still use a `for` loop or `map` function to apply the task on each row.\n",
    "    \n",
    "Do the last two steps in one for loop.\n",
    "\n",
    "Below is how you can get program_code. You should use the code below and do the same for the next 3 course_code, term, and year as well.\n",
    "\n",
    "```python \n",
    "sis['program_code'] = '-'\n",
    "\n",
    "for i in range(sis.shape[0]):\n",
    "    course_code = sis.iat[i,0]\n",
    "    # 6 refers to column 6(program_code)\n",
    "    sis.iat[i, 6] = course_code[3]\n",
    "```\n",
    "\n",
    "- Use the `head` methods to see how the dataset changed."
   ]
  },
  {
   "cell_type": "code",
   "execution_count": 99,
   "id": "0e1b9273-4f38-49f2-8619-08d830b2ef48",
   "metadata": {},
   "outputs": [
    {
     "data": {
      "text/html": [
       "<div>\n",
       "<style scoped>\n",
       "    .dataframe tbody tr th:only-of-type {\n",
       "        vertical-align: middle;\n",
       "    }\n",
       "\n",
       "    .dataframe tbody tr th {\n",
       "        vertical-align: top;\n",
       "    }\n",
       "\n",
       "    .dataframe thead th {\n",
       "        text-align: right;\n",
       "    }\n",
       "</style>\n",
       "<table border=\"1\" class=\"dataframe\">\n",
       "  <thead>\n",
       "    <tr style=\"text-align: right;\">\n",
       "      <th></th>\n",
       "      <th>code</th>\n",
       "      <th>course</th>\n",
       "      <th>semester</th>\n",
       "      <th>campus</th>\n",
       "      <th>days</th>\n",
       "      <th>instructor</th>\n",
       "      <th>program_code</th>\n",
       "      <th>section_code</th>\n",
       "      <th>term</th>\n",
       "      <th>year</th>\n",
       "    </tr>\n",
       "  </thead>\n",
       "  <tbody>\n",
       "    <tr>\n",
       "      <th>0</th>\n",
       "      <td>BU.210.620 (81)</td>\n",
       "      <td>Accounting and Financial Reporting</td>\n",
       "      <td>Fall 2021</td>\n",
       "      <td>Downtown Baltimore</td>\n",
       "      <td>W 6:00PM - 9:00PM</td>\n",
       "      <td>C. Freitag</td>\n",
       "      <td>2</td>\n",
       "      <td>8</td>\n",
       "      <td>Fall</td>\n",
       "      <td>2021</td>\n",
       "    </tr>\n",
       "    <tr>\n",
       "      <th>1</th>\n",
       "      <td>BU.210.620 (1F)</td>\n",
       "      <td>Accounting and Financial Reporting</td>\n",
       "      <td>Fall 2021</td>\n",
       "      <td>Downtown Baltimore</td>\n",
       "      <td>M 1:30PM - 4:30PM</td>\n",
       "      <td>D. Tong</td>\n",
       "      <td>2</td>\n",
       "      <td>1</td>\n",
       "      <td>Fall</td>\n",
       "      <td>2021</td>\n",
       "    </tr>\n",
       "    <tr>\n",
       "      <th>2</th>\n",
       "      <td>BU.210.620 (F1)</td>\n",
       "      <td>Accounting and Financial Reporting</td>\n",
       "      <td>Fall 2021</td>\n",
       "      <td>Downtown Baltimore</td>\n",
       "      <td>M 8:30AM - 11:30AM</td>\n",
       "      <td>D. Tong</td>\n",
       "      <td>2</td>\n",
       "      <td>F</td>\n",
       "      <td>Fall</td>\n",
       "      <td>2021</td>\n",
       "    </tr>\n",
       "    <tr>\n",
       "      <th>3</th>\n",
       "      <td>BU.210.620 (X1)</td>\n",
       "      <td>Accounting and Financial Reporting</td>\n",
       "      <td>Fall 2021</td>\n",
       "      <td>Washington DC Center</td>\n",
       "      <td>F 8:30AM - 11:30AM</td>\n",
       "      <td>G. Bai</td>\n",
       "      <td>2</td>\n",
       "      <td>X</td>\n",
       "      <td>Fall</td>\n",
       "      <td>2021</td>\n",
       "    </tr>\n",
       "    <tr>\n",
       "      <th>4</th>\n",
       "      <td>BU.210.620 (1W)</td>\n",
       "      <td>Accounting and Financial Reporting</td>\n",
       "      <td>Fall 2021</td>\n",
       "      <td>Washington DC Center</td>\n",
       "      <td>F 1:30PM - 4:30PM</td>\n",
       "      <td>J. Rippy</td>\n",
       "      <td>2</td>\n",
       "      <td>1</td>\n",
       "      <td>Fall</td>\n",
       "      <td>2021</td>\n",
       "    </tr>\n",
       "  </tbody>\n",
       "</table>\n",
       "</div>"
      ],
      "text/plain": [
       "              code                              course   semester  \\\n",
       "0  BU.210.620 (81)  Accounting and Financial Reporting  Fall 2021   \n",
       "1  BU.210.620 (1F)  Accounting and Financial Reporting  Fall 2021   \n",
       "2  BU.210.620 (F1)  Accounting and Financial Reporting  Fall 2021   \n",
       "3  BU.210.620 (X1)  Accounting and Financial Reporting  Fall 2021   \n",
       "4  BU.210.620 (1W)  Accounting and Financial Reporting  Fall 2021   \n",
       "\n",
       "                 campus                days  instructor program_code  \\\n",
       "0    Downtown Baltimore   W 6:00PM - 9:00PM  C. Freitag            2   \n",
       "1    Downtown Baltimore   M 1:30PM - 4:30PM     D. Tong            2   \n",
       "2    Downtown Baltimore  M 8:30AM - 11:30AM     D. Tong            2   \n",
       "3  Washington DC Center  F 8:30AM - 11:30AM      G. Bai            2   \n",
       "4  Washington DC Center   F 1:30PM - 4:30PM    J. Rippy            2   \n",
       "\n",
       "  section_code  term  year  \n",
       "0            8  Fall  2021  \n",
       "1            1  Fall  2021  \n",
       "2            F  Fall  2021  \n",
       "3            X  Fall  2021  \n",
       "4            1  Fall  2021  "
      ]
     },
     "execution_count": 99,
     "metadata": {},
     "output_type": "execute_result"
    }
   ],
   "source": [
    "sis['program_code'] = '-'\n",
    "sis['section_code'] = '-'\n",
    "sis['term'] = '-'\n",
    "sis['year'] = '-'\n",
    "\n",
    "for i in range(sis.shape[0]):\n",
    "    course_code = sis.iat[i,0]\n",
    "    sis.iat[i, 6] = course_code[3]\n",
    "    sis.iat[i, 7] = course_code[12]\n",
    "    \n",
    "    semester = sis.iat[i,2]\n",
    "    term, year = semester.split(' ')\n",
    "    sis.iat[i, 8] = term\n",
    "    sis.iat[i, 9] = year\n",
    "\n",
    "sis.head()"
   ]
  },
  {
   "cell_type": "markdown",
   "id": "4c3963fe-0e6d-4039-a3e7-ec1be28e6877",
   "metadata": {},
   "source": [
    "- Add a new column and name it `status`. This column should indicate whether a course is `online` or `onsite`. If the `campus` column has the value \"Online\" it means it is an `Online` course otherwise it is an `Onsite`. Hint: first set all the values of `status` column to `Onsite` and then change the `status` value of the rows that `sis.campus` is Online to `online`. You should NOT use a for loop for this question.\n",
    "- What percentage of courses were offered in the onsite format? (use `value_counts` method and `normalize=True` argument.)"
   ]
  },
  {
   "cell_type": "code",
   "execution_count": 100,
   "id": "cf8709bb-c60e-447a-922a-8764252b40d1",
   "metadata": {},
   "outputs": [
    {
     "data": {
      "text/plain": [
       "status\n",
       "onsite    0.627723\n",
       "online    0.372277\n",
       "Name: proportion, dtype: float64"
      ]
     },
     "execution_count": 100,
     "metadata": {},
     "output_type": "execute_result"
    }
   ],
   "source": [
    "sis['status'] = 'onsite'\n",
    "# sis['status'][sis.campus == \"Online\"]= \"online\"\n",
    "sis.loc[sis.campus == \"Online\", 'status'] = \"online\"\n",
    "\n",
    "sis['status'].value_counts(normalize=True)"
   ]
  },
  {
   "cell_type": "markdown",
   "id": "6ff5f078-1125-4e15-83ad-f2639387f69a",
   "metadata": {},
   "source": [
    "- Now that you have the `program_code` and `section_code` columns, use the `pandas` `replace` method to convert the codes to  real names. I have created the required dictionary for you below. \n",
    "- Use the `head` methods to see how the dataset changed."
   ]
  },
  {
   "cell_type": "code",
   "execution_count": 101,
   "id": "8a166758-9508-4a51-9f13-9f08b62a038a",
   "metadata": {},
   "outputs": [],
   "source": [
    "encoding_dict = {\n",
    "    \"program_code\": {\n",
    "        \"0\": \"Others\",\n",
    "        \"1\": \"Management\",\n",
    "        \"2\": \"Finance/Real_Estate\",\n",
    "        \"3\": \"Information_Systems\",\n",
    "        \"4\": \"Marketing\",\n",
    "        \"5\": \"Quantitative_Methods\",\n",
    "        \"6\": \"Operations_Management\",\n",
    "        \"7\": \"-\",\n",
    "        \"8\": \"Business_of_Health\",\n",
    "        \"9\": \"MBA\",\n",
    "    },\n",
    "    \"section_code\": {\n",
    "        \"C\": \"Internship\",\n",
    "        \"F\": \"FT_FI_HE\",\n",
    "        \"H\": \"FT_HCM\",\n",
    "        \"I\": \"Independent\",\n",
    "        \"K\": \"FT_MK\",\n",
    "        \"M\": \"FT_MBA\",\n",
    "        \"R\": \"FT_RE\",\n",
    "        \"S\": \"Shadow\",\n",
    "        \"T\": \"FT_IS\",\n",
    "        \"U\": \"Minor\",\n",
    "        \"W\": \"FT_DC\",\n",
    "        \"X\": \"FT_BARM\",\n",
    "        \"3\": \"Online\",\n",
    "        \"5\": \"DC\",\n",
    "        \"8\": \"HE\",\n",
    "        \"9\": \"International\",\n",
    "        \"0\": \"-\",\n",
    "        \"1\": \"-\",\n",
    "        \"2\": \"-\",\n",
    "        \"4\": \"-\",\n",
    "        \"6\": \"-\",\n",
    "        \"G\": \"-\",\n",
    "    },\n",
    "}"
   ]
  },
  {
   "cell_type": "code",
   "execution_count": 102,
   "id": "436ec5a6-f82a-4622-b02c-f81808ff3aa2",
   "metadata": {},
   "outputs": [
    {
     "data": {
      "text/html": [
       "<div>\n",
       "<style scoped>\n",
       "    .dataframe tbody tr th:only-of-type {\n",
       "        vertical-align: middle;\n",
       "    }\n",
       "\n",
       "    .dataframe tbody tr th {\n",
       "        vertical-align: top;\n",
       "    }\n",
       "\n",
       "    .dataframe thead th {\n",
       "        text-align: right;\n",
       "    }\n",
       "</style>\n",
       "<table border=\"1\" class=\"dataframe\">\n",
       "  <thead>\n",
       "    <tr style=\"text-align: right;\">\n",
       "      <th></th>\n",
       "      <th>code</th>\n",
       "      <th>course</th>\n",
       "      <th>semester</th>\n",
       "      <th>campus</th>\n",
       "      <th>days</th>\n",
       "      <th>instructor</th>\n",
       "      <th>program_code</th>\n",
       "      <th>section_code</th>\n",
       "      <th>term</th>\n",
       "      <th>year</th>\n",
       "      <th>status</th>\n",
       "    </tr>\n",
       "  </thead>\n",
       "  <tbody>\n",
       "    <tr>\n",
       "      <th>0</th>\n",
       "      <td>BU.210.620 (81)</td>\n",
       "      <td>Accounting and Financial Reporting</td>\n",
       "      <td>Fall 2021</td>\n",
       "      <td>Downtown Baltimore</td>\n",
       "      <td>W 6:00PM - 9:00PM</td>\n",
       "      <td>C. Freitag</td>\n",
       "      <td>Finance/Real_Estate</td>\n",
       "      <td>HE</td>\n",
       "      <td>Fall</td>\n",
       "      <td>2021</td>\n",
       "      <td>onsite</td>\n",
       "    </tr>\n",
       "    <tr>\n",
       "      <th>1</th>\n",
       "      <td>BU.210.620 (1F)</td>\n",
       "      <td>Accounting and Financial Reporting</td>\n",
       "      <td>Fall 2021</td>\n",
       "      <td>Downtown Baltimore</td>\n",
       "      <td>M 1:30PM - 4:30PM</td>\n",
       "      <td>D. Tong</td>\n",
       "      <td>Finance/Real_Estate</td>\n",
       "      <td>-</td>\n",
       "      <td>Fall</td>\n",
       "      <td>2021</td>\n",
       "      <td>onsite</td>\n",
       "    </tr>\n",
       "    <tr>\n",
       "      <th>2</th>\n",
       "      <td>BU.210.620 (F1)</td>\n",
       "      <td>Accounting and Financial Reporting</td>\n",
       "      <td>Fall 2021</td>\n",
       "      <td>Downtown Baltimore</td>\n",
       "      <td>M 8:30AM - 11:30AM</td>\n",
       "      <td>D. Tong</td>\n",
       "      <td>Finance/Real_Estate</td>\n",
       "      <td>FT_FI_HE</td>\n",
       "      <td>Fall</td>\n",
       "      <td>2021</td>\n",
       "      <td>onsite</td>\n",
       "    </tr>\n",
       "    <tr>\n",
       "      <th>3</th>\n",
       "      <td>BU.210.620 (X1)</td>\n",
       "      <td>Accounting and Financial Reporting</td>\n",
       "      <td>Fall 2021</td>\n",
       "      <td>Washington DC Center</td>\n",
       "      <td>F 8:30AM - 11:30AM</td>\n",
       "      <td>G. Bai</td>\n",
       "      <td>Finance/Real_Estate</td>\n",
       "      <td>FT_BARM</td>\n",
       "      <td>Fall</td>\n",
       "      <td>2021</td>\n",
       "      <td>onsite</td>\n",
       "    </tr>\n",
       "    <tr>\n",
       "      <th>4</th>\n",
       "      <td>BU.210.620 (1W)</td>\n",
       "      <td>Accounting and Financial Reporting</td>\n",
       "      <td>Fall 2021</td>\n",
       "      <td>Washington DC Center</td>\n",
       "      <td>F 1:30PM - 4:30PM</td>\n",
       "      <td>J. Rippy</td>\n",
       "      <td>Finance/Real_Estate</td>\n",
       "      <td>-</td>\n",
       "      <td>Fall</td>\n",
       "      <td>2021</td>\n",
       "      <td>onsite</td>\n",
       "    </tr>\n",
       "  </tbody>\n",
       "</table>\n",
       "</div>"
      ],
      "text/plain": [
       "              code                              course   semester  \\\n",
       "0  BU.210.620 (81)  Accounting and Financial Reporting  Fall 2021   \n",
       "1  BU.210.620 (1F)  Accounting and Financial Reporting  Fall 2021   \n",
       "2  BU.210.620 (F1)  Accounting and Financial Reporting  Fall 2021   \n",
       "3  BU.210.620 (X1)  Accounting and Financial Reporting  Fall 2021   \n",
       "4  BU.210.620 (1W)  Accounting and Financial Reporting  Fall 2021   \n",
       "\n",
       "                 campus                days  instructor         program_code  \\\n",
       "0    Downtown Baltimore   W 6:00PM - 9:00PM  C. Freitag  Finance/Real_Estate   \n",
       "1    Downtown Baltimore   M 1:30PM - 4:30PM     D. Tong  Finance/Real_Estate   \n",
       "2    Downtown Baltimore  M 8:30AM - 11:30AM     D. Tong  Finance/Real_Estate   \n",
       "3  Washington DC Center  F 8:30AM - 11:30AM      G. Bai  Finance/Real_Estate   \n",
       "4  Washington DC Center   F 1:30PM - 4:30PM    J. Rippy  Finance/Real_Estate   \n",
       "\n",
       "  section_code  term  year  status  \n",
       "0           HE  Fall  2021  onsite  \n",
       "1            -  Fall  2021  onsite  \n",
       "2     FT_FI_HE  Fall  2021  onsite  \n",
       "3      FT_BARM  Fall  2021  onsite  \n",
       "4            -  Fall  2021  onsite  "
      ]
     },
     "execution_count": 102,
     "metadata": {},
     "output_type": "execute_result"
    }
   ],
   "source": [
    "sis.replace(encoding_dict, inplace=True)\n",
    "sis.head()"
   ]
  },
  {
   "cell_type": "markdown",
   "id": "29c7f534-3a74-4495-9810-6e9d15cd2723",
   "metadata": {},
   "source": [
    "**Exploratory Data Analysis**\n",
    "\n",
    "- Use the `crosstab()` method to find the joint frequency of `program_code` and `section_code`. Make sure to include the margins (subtotals) in the crosstab as well.\n"
   ]
  },
  {
   "cell_type": "code",
   "execution_count": 103,
   "id": "f854e8a6-2794-465b-a9c5-2e76bf21cabc",
   "metadata": {},
   "outputs": [
    {
     "name": "stdout",
     "output_type": "stream",
     "text": [
      "section_code            -   DC  FT_BARM  FT_DC  FT_FI_HE  FT_HCM  FT_IS  \\\n",
      "program_code                                                              \n",
      "Business_of_Health      0    0        0      0         0      17      0   \n",
      "Finance/Real_Estate    29   86       14     61        74       0      0   \n",
      "Information_Systems     2   19       10      0         0       0     27   \n",
      "MBA                     2    0        0      0         0       0      0   \n",
      "Management             20   19       15     19        22       2      5   \n",
      "Marketing               2    9        9      0         0       0      0   \n",
      "Operations_Management   0    8       24      0         0       0      1   \n",
      "Others                  0    0        0      0         0       0      0   \n",
      "Quantitative_Methods   13   17       30      5         9       1      6   \n",
      "All                    68  158      102     85       105      20     39   \n",
      "\n",
      "section_code           FT_MBA  FT_MK  FT_RE   HE  International  Online   All  \n",
      "program_code                                                                   \n",
      "Business_of_Health          0      0      0   16              0      59    92  \n",
      "Finance/Real_Estate         0      1     16   88              0     157   526  \n",
      "Information_Systems         0      0      0    3              0      28    89  \n",
      "MBA                        59      0      0    0              0       0    61  \n",
      "Management                  0      6      5   35              0     158   306  \n",
      "Marketing                   0     68      0   40              0      48   176  \n",
      "Operations_Management       0      0      0    7              0      24    64  \n",
      "Others                      1      0      0    0              1      15    17  \n",
      "Quantitative_Methods        0     17      1   17              0      68   184  \n",
      "All                        60     92     22  206              1     557  1515  \n"
     ]
    }
   ],
   "source": [
    "joint_frequency = pd.crosstab(index = sis.program_code, columns = sis.section_code, margins=True)\n",
    "\n",
    "print(joint_frequency)"
   ]
  },
  {
   "cell_type": "markdown",
   "id": "5f0c7612-d0a7-47ab-8d07-3b10894c12a1",
   "metadata": {},
   "source": [
    "- Using `groupby` method, find the frequency of courses in each year and each term."
   ]
  },
  {
   "cell_type": "code",
   "execution_count": 104,
   "id": "23c57901-f579-4743-8728-6efe34794f8b",
   "metadata": {},
   "outputs": [
    {
     "data": {
      "text/plain": [
       "year  term  \n",
       "2021  Fall      487\n",
       "      Spring    365\n",
       "      Summer    123\n",
       "2022  Spring    429\n",
       "      Summer    111\n",
       "Name: course, dtype: int64"
      ]
     },
     "execution_count": 104,
     "metadata": {},
     "output_type": "execute_result"
    }
   ],
   "source": [
    "sis.groupby([\"year\", \"term\"]).course.count()"
   ]
  },
  {
   "cell_type": "markdown",
   "id": "966139ab-0918-4d8f-b579-4c92e9ff7eb8",
   "metadata": {},
   "source": [
    "- Find out the 5 instructors with the highest number of sections in the year 2022. You can ignore the fact that some courses have more than one instructor."
   ]
  },
  {
   "cell_type": "code",
   "execution_count": 105,
   "id": "10e37ecb-f61a-4cf0-b9ae-c6ac7ffe259b",
   "metadata": {
    "scrolled": true
   },
   "outputs": [
    {
     "data": {
      "text/plain": [
       "instructor\n",
       "R. Milter          15\n",
       "J. Rippy           13\n",
       "B. Robeson         11\n",
       "J. Ganzermiller    11\n",
       "C. Jung            11\n",
       "Name: count, dtype: int64"
      ]
     },
     "execution_count": 105,
     "metadata": {},
     "output_type": "execute_result"
    }
   ],
   "source": [
    "sis_2022 = sis[sis.year == '2022']\n",
    "\n",
    "instructor_sections = sis_2022.instructor.value_counts()\n",
    "\n",
    "instructor_sections[0:5]"
   ]
  }
 ],
 "metadata": {
  "kernelspec": {
   "display_name": ".venv",
   "language": "python",
   "name": "python3"
  },
  "language_info": {
   "codemirror_mode": {
    "name": "ipython",
    "version": 3
   },
   "file_extension": ".py",
   "mimetype": "text/x-python",
   "name": "python",
   "nbconvert_exporter": "python",
   "pygments_lexer": "ipython3",
   "version": "3.9.6"
  },
  "toc-autonumbering": false
 },
 "nbformat": 4,
 "nbformat_minor": 5
}
