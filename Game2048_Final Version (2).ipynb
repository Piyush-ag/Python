{
 "cells": [
  {
   "cell_type": "code",
   "execution_count": 6,
   "id": "8aa719c2",
   "metadata": {},
   "outputs": [],
   "source": [
    "import random"
   ]
  },
  {
   "cell_type": "code",
   "execution_count": 4,
   "id": "932f7bda",
   "metadata": {},
   "outputs": [],
   "source": [
    "def sum_2048(a):\n",
    "    a = [v for v in a if v!=0]\n",
    "    i=0\n",
    "    while i < len(a)-1:\n",
    "        if a[i]==a[i+1]:\n",
    "            a[i] =2*a[i]\n",
    "            a[i+1] = 0\n",
    "            a = [v for v in a if v!=0]\n",
    "        i +=1\n",
    "        \n",
    "    while len(a)<4:\n",
    "        a.append(0)\n",
    "        \n",
    "    return(a)\n",
    "    "
   ]
  },
  {
   "cell_type": "code",
   "execution_count": 2,
   "id": "42a59d15",
   "metadata": {},
   "outputs": [],
   "source": [
    "def print_board():\n",
    "    for i, v in enumerate(board):\n",
    "        if i % 4 == 3:\n",
    "            print(v)\n",
    "        else:\n",
    "            print(v, end = \"\\t\")"
   ]
  },
  {
   "cell_type": "code",
   "execution_count": 3,
   "id": "39085cbc",
   "metadata": {},
   "outputs": [],
   "source": [
    "def add_number():\n",
    "    new_v = random.sample([2,4], 1)[0]\n",
    "    available_seats = [i for i,v in enumerate(board) if v==0]\n",
    "    new_i = random.sample(available_seats, 1)[0]\n",
    "    board[new_i] = new_v"
   ]
  },
  {
   "cell_type": "code",
   "execution_count": null,
   "id": "c207e2fe",
   "metadata": {},
   "outputs": [
    {
     "name": "stdout",
     "output_type": "stream",
     "text": [
      "4\t0\t0\t0\n",
      "0\t0\t0\t0\n",
      "0\t0\t0\t0\n",
      "4\t0\t0\t0\n"
     ]
    }
   ],
   "source": [
    "board = [0]*16\n",
    "add_number()\n",
    "add_number()\n",
    "print_board()\n",
    "\n",
    "while True:\n",
    "    board1 = board.copy()\n",
    "    input_text = \"What is your move?\"\n",
    "\n",
    "    move = input(\"Input your key\").lower()\n",
    "    while not move in ['w','s','a','d','q']:\n",
    "        move = input(\"Try again\").lower()\n",
    "\n",
    "    if move == \"q\":\n",
    "        print(\"You exited\") \n",
    "        break\n",
    "\n",
    "    if move in [\"w\", \"s\"]:\n",
    "        for i in range(4):\n",
    "            a = [board[0+i],board[4+i],board[8+i],board[12+i]]\n",
    "\n",
    "            if move == \"w\":\n",
    "                a = sum_2048(a) \n",
    "            else:\n",
    "                a = a[::-1] # reverse input\n",
    "                a = sum_2048(a)\n",
    "                a = a[::-1] # reverse output\n",
    "\n",
    "            board[0+i],board[4+i],board[8+i],board[12+i] = a \n",
    "        \n",
    "    elif move in [\"a\", \"d\"]:\n",
    "        for i in range(4):\n",
    "            a = [board[0+4*i],board[1+4*i],board[2+4*i],board[3+4*i]]\n",
    "                   \n",
    "            if move == \"a\":\n",
    "                a = sum_2048(a) \n",
    "            else:\n",
    "                a = a[::-1] # reverse input\n",
    "                a = sum_2048(a)\n",
    "                a = a[::-1] # reverse output\n",
    "            \n",
    "            board[0+4*i],board[1+4*i],board[2+4*i],board[3+4*i] = a \n",
    "    \n",
    "    if 2048 in board:\n",
    "        print(\"You Won\")\n",
    "        break\n",
    "    elif not 0 in board:\n",
    "        print(\"Game Over!\")\n",
    "        break\n",
    "        \n",
    "    if board != board1:\n",
    "        add_number()\n",
    "    print_board()"
   ]
  },
  {
   "cell_type": "code",
   "execution_count": null,
   "id": "91f6dca5",
   "metadata": {},
   "outputs": [],
   "source": []
  }
 ],
 "metadata": {
  "kernelspec": {
   "display_name": ".venv",
   "language": "python",
   "name": "python3"
  },
  "language_info": {
   "codemirror_mode": {
    "name": "ipython",
    "version": 3
   },
   "file_extension": ".py",
   "mimetype": "text/x-python",
   "name": "python",
   "nbconvert_exporter": "python",
   "pygments_lexer": "ipython3",
   "version": "3.9.6"
  }
 },
 "nbformat": 4,
 "nbformat_minor": 5
}
