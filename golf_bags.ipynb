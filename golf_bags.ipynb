{
 "cells": [
  {
   "cell_type": "code",
   "execution_count": 4,
   "metadata": {
    "id": "yvXzDXIb6aKW"
   },
   "outputs": [
    {
     "name": "stdout",
     "output_type": "stream",
     "text": [
      "Restricted license - for non-production use only - expires 2025-11-24\n",
      "Gurobi Optimizer version 11.0.3 build v11.0.3rc0 (mac64[arm] - Darwin 23.6.0 23G93)\n",
      "\n",
      "CPU model: Apple M3\n",
      "Thread count: 8 physical cores, 8 logical processors, using up to 8 threads\n",
      "\n",
      "Optimize a model with 4 rows, 2 columns and 8 nonzeros\n",
      "Model fingerprint: 0xb394f55f\n",
      "Coefficient statistics:\n",
      "  Matrix range     [1e-01, 1e+00]\n",
      "  Objective range  [9e+00, 1e+01]\n",
      "  Bounds range     [0e+00, 0e+00]\n",
      "  RHS range        [1e+02, 7e+02]\n",
      "Presolve time: 0.00s\n",
      "Presolved: 4 rows, 2 columns, 8 nonzeros\n",
      "\n",
      "Iteration    Objective       Primal Inf.    Dual Inf.      Time\n",
      "       0    1.9000000e+31   6.100000e+30   1.900000e+01      0s\n",
      "       2    7.6680000e+03   0.000000e+00   0.000000e+00      0s\n",
      "\n",
      "Solved in 2 iterations and 0.01 seconds (0.00 work units)\n",
      "Optimal objective  7.668000000e+03\n",
      "\n",
      "Optimal Solution:\n",
      "S = 540.00\n",
      "D = 252.00\n",
      "Objective Value = $7668.00\n",
      "\n",
      "Constraint Details:\n",
      "constraint1: 0.00 slack\n",
      "constraint2: 120.00 slack\n",
      "constraint3: 0.00 slack\n",
      "constraint4: 18.00 slack\n"
     ]
    }
   ],
   "source": [
    "\n",
    "\n",
    "from gurobipy import Model, GRB\n",
    "\n",
    "# Create a new model\n",
    "m = Model(\"golf bags\")\n",
    "\n",
    "# Create variables\n",
    "# S and D are non-negative by default\n",
    "S = m.addVar(name=\"S\", lb=0)\n",
    "D = m.addVar(name=\"D\", lb=0)\n",
    "\n",
    "# Set objective: maximize 10S + 9D\n",
    "# Note: Gurobi can handle MAX directly, no need to convert to MIN\n",
    "m.setObjective(10 * S + 9 * D, GRB.MAXIMIZE)\n",
    "\n",
    "# Add constraints\n",
    "m.addConstr(0.7 * S + 1.0 * D <= 630, \"constraint1\")\n",
    "m.addConstr(0.5 * S + 5/6 * D <= 600, \"constraint2\")\n",
    "m.addConstr(1.0 * S + 2/3 * D <= 708, \"constraint3\")\n",
    "m.addConstr(0.1 * S + 0.25 * D <= 135, \"constraint4\")\n",
    "\n",
    "# Optimize model\n",
    "m.optimize()\n",
    "\n",
    "# Print results\n",
    "if m.status == GRB.OPTIMAL:\n",
    "    print('\\nOptimal Solution:')\n",
    "    print(f'S = {S.x:.2f}')\n",
    "    print(f'D = {D.x:.2f}')\n",
    "    print(f'Objective Value = ${m.objVal:.2f}')\n",
    "else:\n",
    "    print('No optimal solution found')\n",
    "\n",
    "# Print constraint information\n",
    "print('\\nConstraint Details:')\n",
    "for c in m.getConstrs():\n",
    "    print(f'{c.ConstrName}: {c.slack:.2f} slack')"
   ]
  }
 ],
 "metadata": {
  "colab": {
   "provenance": []
  },
  "kernelspec": {
   "display_name": ".venv",
   "language": "python",
   "name": "python3"
  },
  "language_info": {
   "codemirror_mode": {
    "name": "ipython",
    "version": 3
   },
   "file_extension": ".py",
   "mimetype": "text/x-python",
   "name": "python",
   "nbconvert_exporter": "python",
   "pygments_lexer": "ipython3",
   "version": "3.9.6"
  }
 },
 "nbformat": 4,
 "nbformat_minor": 0
}
