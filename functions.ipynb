{
 "cells": [
  {
   "cell_type": "code",
   "execution_count": 4,
   "id": "cfb41957-87c2-41c1-b679-99d05598e927",
   "metadata": {},
   "outputs": [
    {
     "name": "stdout",
     "output_type": "stream",
     "text": [
      "\u001b[0;31mDocstring:\u001b[0m\n",
      "min(iterable, *[, default=obj, key=func]) -> value\n",
      "min(arg1, arg2, *args, *[, key=func]) -> value\n",
      "\n",
      "With a single iterable argument, return its smallest item. The\n",
      "default keyword-only argument specifies an object to return if\n",
      "the provided iterable is empty.\n",
      "With two or more arguments, return the smallest argument.\n",
      "\u001b[0;31mType:\u001b[0m      builtin_function_or_method"
     ]
    }
   ],
   "source": [
    "?min"
   ]
  },
  {
   "cell_type": "code",
   "execution_count": 5,
   "id": "0a40cb36-7ee9-4b3d-96b1-93950f90bc63",
   "metadata": {},
   "outputs": [
    {
     "data": {
      "text/plain": [
       "'Mohammad_Ali'"
      ]
     },
     "execution_count": 5,
     "metadata": {},
     "output_type": "execute_result"
    }
   ],
   "source": [
    "\n",
    "def concat(fname, lname):\n",
    "    output = fname+\"_\"+lname\n",
    "    return(output)\n",
    "\n",
    "concat(\"Mohammad\", \"Ali\")\n",
    "\n",
    "concat(fname = \"Mohammad\", lname = \"Ali\")\n",
    "\n",
    "concat(\"Ali\", \"Mohammad\") # wrong\n",
    "\n",
    "concat(lname=\"Ali\", fname=\"Mohammad\")\n",
    "\n"
   ]
  },
  {
   "cell_type": "code",
   "execution_count": 8,
   "id": "779a91c6-58fb-40d6-b299-86db515e0b3a",
   "metadata": {},
   "outputs": [
    {
     "name": "stdout",
     "output_type": "stream",
     "text": [
      "Welcome User\n",
      "None\n"
     ]
    }
   ],
   "source": [
    "def welcome():\n",
    "    print(\"Welcome User\")\n",
    "    \n",
    "\n",
    "a = welcome()\n",
    "print(a)"
   ]
  },
  {
   "cell_type": "code",
   "execution_count": 9,
   "id": "4c93abcb-fa72-42c2-9133-1f733e163dfd",
   "metadata": {},
   "outputs": [
    {
     "name": "stdout",
     "output_type": "stream",
     "text": [
      "Success\n"
     ]
    }
   ],
   "source": [
    "def create_account(name, has_hold=False):\n",
    "    msg = \"Success\"\n",
    "    \n",
    "    return(msg)\n",
    "\n",
    "tmp = create_account(name=\"Mohammad\", has_hold=True)\n",
    "print(tmp)"
   ]
  },
  {
   "cell_type": "code",
   "execution_count": 18,
   "id": "acbabe94-27cc-4978-88c7-0753b8d846aa",
   "metadata": {},
   "outputs": [
    {
     "name": "stdout",
     "output_type": "stream",
     "text": [
      "Mohammad\n",
      "Welcome, Mohammad Ali\n",
      "Mohammad\n"
     ]
    }
   ],
   "source": [
    "name = \"Mohammad\"\n",
    "\n",
    "print(name)\n",
    "\n",
    "def welcome_user():\n",
    "    name = \"Mohammad Ali\"\n",
    "    print(f'Welcome, {name}')\n",
    "    \n",
    "welcome_user()\n",
    "\n",
    "print(name)"
   ]
  },
  {
   "cell_type": "code",
   "execution_count": 9,
   "id": "430d3be6-e88c-4e6a-a41b-12261a34c4b6",
   "metadata": {},
   "outputs": [
    {
     "name": "stdout",
     "output_type": "stream",
     "text": [
      "step 1: Mohammad\n",
      "step 2: Mohammad Ali\n",
      "step 4: Mohammad Ali\n"
     ]
    }
   ],
   "source": [
    "name = \"Mohammad\"\n",
    "\n",
    "print(f'step 1: {name}')\n",
    "\n",
    "def change_name():\n",
    "    \"\"\"This is a function to explain local vs global variables\"\"\"\n",
    "    name = \"Mohammad Ali\"\n",
    "    print(f'step 2: {name}')\n",
    "    return(name)\n",
    "    \n",
    "name  = change_name()\n",
    "\n",
    "print(f'step 4: {name}')"
   ]
  },
  {
   "cell_type": "code",
   "execution_count": 14,
   "id": "3bfa4654-c964-4377-9b28-0ff12632f970",
   "metadata": {},
   "outputs": [
    {
     "name": "stdout",
     "output_type": "stream",
     "text": [
      "\u001b[0;31mSignature:\u001b[0m \u001b[0mchange_name\u001b[0m\u001b[0;34m(\u001b[0m\u001b[0;34m)\u001b[0m\u001b[0;34m\u001b[0m\u001b[0;34m\u001b[0m\u001b[0m\n",
      "\u001b[0;31mDocstring:\u001b[0m This is a function to explain local vs global variables\n",
      "\u001b[0;31mFile:\u001b[0m      /var/folders/4w/zz44xt0x4yx19mn8x1c1qzcr0000gn/T/ipykernel_80739/168009331.py\n",
      "\u001b[0;31mType:\u001b[0m      function"
     ]
    }
   ],
   "source": [
    "?change_name"
   ]
  },
  {
   "cell_type": "code",
   "execution_count": 15,
   "id": "909cd2c7-c088-4d38-826a-ddeb024447ff",
   "metadata": {},
   "outputs": [
    {
     "name": "stdout",
     "output_type": "stream",
     "text": [
      "\u001b[0;31mSignature:\u001b[0m \u001b[0mchange_name\u001b[0m\u001b[0;34m(\u001b[0m\u001b[0;34m)\u001b[0m\u001b[0;34m\u001b[0m\u001b[0;34m\u001b[0m\u001b[0m\n",
      "\u001b[0;31mSource:\u001b[0m   \n",
      "\u001b[0;32mdef\u001b[0m \u001b[0mchange_name\u001b[0m\u001b[0;34m(\u001b[0m\u001b[0;34m)\u001b[0m\u001b[0;34m:\u001b[0m\u001b[0;34m\u001b[0m\n",
      "\u001b[0;34m\u001b[0m    \u001b[0;34m\"\"\"This is a function to explain local vs global variables\"\"\"\u001b[0m\u001b[0;34m\u001b[0m\n",
      "\u001b[0;34m\u001b[0m    \u001b[0mname\u001b[0m \u001b[0;34m=\u001b[0m \u001b[0;34m\"Mohammad Ali\"\u001b[0m\u001b[0;34m\u001b[0m\n",
      "\u001b[0;34m\u001b[0m    \u001b[0mprint\u001b[0m\u001b[0;34m(\u001b[0m\u001b[0;34mf'step 2: {name}'\u001b[0m\u001b[0;34m)\u001b[0m\u001b[0;34m\u001b[0m\n",
      "\u001b[0;34m\u001b[0m    \u001b[0;32mreturn\u001b[0m\u001b[0;34m(\u001b[0m\u001b[0mname\u001b[0m\u001b[0;34m)\u001b[0m\u001b[0;34m\u001b[0m\u001b[0;34m\u001b[0m\u001b[0m\n",
      "\u001b[0;31mFile:\u001b[0m      /var/folders/4w/zz44xt0x4yx19mn8x1c1qzcr0000gn/T/ipykernel_80739/168009331.py\n",
      "\u001b[0;31mType:\u001b[0m      function"
     ]
    }
   ],
   "source": [
    "??change_name"
   ]
  },
  {
   "cell_type": "code",
   "execution_count": 16,
   "id": "95dce80f-56b8-4603-8760-1645e35ed7ed",
   "metadata": {},
   "outputs": [
    {
     "data": {
      "text/plain": [
       "6.2"
      ]
     },
     "execution_count": 16,
     "metadata": {},
     "output_type": "execute_result"
    }
   ],
   "source": [
    "def my_average(*gpa):\n",
    "    return(sum(gpa)/len(gpa))\n",
    "\n",
    "my_average(3,5,6,8,9)\n"
   ]
  },
  {
   "cell_type": "code",
   "execution_count": 17,
   "id": "e74c2170-55ae-47b3-a9f4-b229ab5bd404",
   "metadata": {},
   "outputs": [
    {
     "data": {
      "text/plain": [
       "'_Johns_Hopkins_University'"
      ]
     },
     "execution_count": 17,
     "metadata": {},
     "output_type": "execute_result"
    }
   ],
   "source": [
    "def concat(*word):\n",
    "    output= \"\"\n",
    "    for item in word:\n",
    "        output = output + \"_\" + item\n",
    "    return(output)\n",
    "\n",
    "\n",
    "concat(\"Johns\", \"Hopkins\", \"University\")"
   ]
  },
  {
   "cell_type": "code",
   "execution_count": 18,
   "id": "29ccc057-65e5-4482-a822-51878efaa685",
   "metadata": {},
   "outputs": [
    {
     "name": "stdout",
     "output_type": "stream",
     "text": [
      "('Baltimore, MD', 'Washington, DC')\n"
     ]
    }
   ],
   "source": [
    "def get_campuses(*campus):\n",
    "    print(campus)\n",
    "\n",
    "get_campuses(\"Baltimore, MD\", \"Washington, DC\")"
   ]
  },
  {
   "cell_type": "code",
   "execution_count": 19,
   "id": "1963e12b-476c-4852-8ea7-b285ddbdd313",
   "metadata": {},
   "outputs": [],
   "source": [
    "def stat_summary(num1, num2):\n",
    "    try:\n",
    "        sum1 = num1+num2\n",
    "        dif= num1 - num2\n",
    "        mul = num1*num2\n",
    "        div = num1/num2    \n",
    "        return((sum1, dif, mul, div))\n",
    "    except Exception as instant:\n",
    "        return(instant)\n",
    "        \n",
    "\n",
    "sum1, dif, mul, div = stat_summary(8,5)\n",
    "\n"
   ]
  },
  {
   "cell_type": "code",
   "execution_count": 20,
   "id": "cf5421e2-ec31-4d01-93e2-d9716a116072",
   "metadata": {},
   "outputs": [
    {
     "data": {
      "text/plain": [
       "ZeroDivisionError('division by zero')"
      ]
     },
     "execution_count": 20,
     "metadata": {},
     "output_type": "execute_result"
    }
   ],
   "source": [
    "stat_summary(8,0)"
   ]
  },
  {
   "cell_type": "code",
   "execution_count": 21,
   "id": "fca4080e-a14e-4f92-8d47-de007463a439",
   "metadata": {},
   "outputs": [],
   "source": [
    "def my_sum(a , b):\n",
    "    return(a+b)\n",
    "\n",
    "# my_sum(5,\"a\")"
   ]
  },
  {
   "cell_type": "code",
   "execution_count": 22,
   "id": "c2d0f363-2641-434d-93d2-4f73f0b53621",
   "metadata": {},
   "outputs": [
    {
     "data": {
      "text/plain": [
       "11.2"
      ]
     },
     "execution_count": 22,
     "metadata": {},
     "output_type": "execute_result"
    }
   ],
   "source": [
    "def my_sum(a , b):\n",
    "    cond1 = isinstance(a, (float, int))\n",
    "    cond2 = isinstance(b, (float, int))\n",
    "    both_cond =  all([cond1, cond2])\n",
    "    \n",
    "    if(both_cond):\n",
    "        return(a+b)\n",
    "    else:\n",
    "        return(\"Try again with real numbers\")\n",
    "\n",
    "my_sum(5,6.2)\n",
    "\n"
   ]
  },
  {
   "cell_type": "code",
   "execution_count": 26,
   "id": "5a75f3a8-42be-4c67-a88d-79e6bd5e19a1",
   "metadata": {},
   "outputs": [
    {
     "data": {
      "text/plain": [
       "11.2"
      ]
     },
     "execution_count": 26,
     "metadata": {},
     "output_type": "execute_result"
    }
   ],
   "source": [
    "def my_sum(a , b):\n",
    "    return(a+b)\n",
    "\n",
    "\n",
    "\n",
    "(lambda a, b:a+b) (5, 6.2)"
   ]
  },
  {
   "cell_type": "code",
   "execution_count": 27,
   "id": "3af3fe7e-06ca-4c70-9d65-ee31d5dc8a2e",
   "metadata": {},
   "outputs": [
    {
     "data": {
      "text/plain": [
       "11"
      ]
     },
     "execution_count": 27,
     "metadata": {},
     "output_type": "execute_result"
    }
   ],
   "source": [
    "(lambda a, b: a+b) (5,6)"
   ]
  },
  {
   "cell_type": "code",
   "execution_count": 28,
   "id": "0f7657e2-781d-40d3-b784-d7f0fb0ad0ff",
   "metadata": {},
   "outputs": [
    {
     "data": {
      "text/plain": [
       "[('Sunday', 1),\n",
       " ('Monday', 2),\n",
       " ('Thusday', 3),\n",
       " ('Wednesday', 4),\n",
       " ('Thursday', 5),\n",
       " ('Friday', 6),\n",
       " ('Saturday', 7)]"
      ]
     },
     "execution_count": 28,
     "metadata": {},
     "output_type": "execute_result"
    }
   ],
   "source": [
    "o_days= [(\"Saturday\",7), (\"Thusday\",3), \n",
    "         (\"Monday\",2), (\"Wednesday\",4), \n",
    "         (\"Friday\",6), (\"Sunday\",1), (\"Thursday\",5)]\n",
    "\n",
    "\n",
    "sorted(o_days, key = lambda item: item[1])"
   ]
  },
  {
   "cell_type": "code",
   "execution_count": 29,
   "id": "c7246047-fd67-4289-b285-188c0bdd3737",
   "metadata": {},
   "outputs": [
    {
     "data": {
      "text/plain": [
       "2"
      ]
     },
     "execution_count": 29,
     "metadata": {},
     "output_type": "execute_result"
    }
   ],
   "source": [
    "import math \n",
    "\n",
    "math.floor(2.8)"
   ]
  },
  {
   "cell_type": "code",
   "execution_count": 30,
   "id": "730f30e1-fd8d-4614-ae3f-6ea2ab993335",
   "metadata": {},
   "outputs": [
    {
     "name": "stdout",
     "output_type": "stream",
     "text": [
      "<built-in function floor>\n"
     ]
    }
   ],
   "source": [
    "round =\" kuakguas\"\n",
    "\n",
    "from math import *\n",
    "\n",
    "floor(2.8)\n",
    "\n",
    "print(floor)"
   ]
  },
  {
   "cell_type": "code",
   "execution_count": 31,
   "id": "e6795559-a3c3-47d9-9c63-62d870953d9e",
   "metadata": {},
   "outputs": [
    {
     "name": "stdout",
     "output_type": "stream",
     "text": [
      " kuakguas\n"
     ]
    }
   ],
   "source": [
    "pi =\" kuakguas\"\n",
    "import math \n",
    "\n",
    "math.pi\n",
    "\n",
    "print(pi)"
   ]
  }
 ],
 "metadata": {
  "kernelspec": {
   "display_name": ".venv",
   "language": "python",
   "name": "python3"
  },
  "language_info": {
   "codemirror_mode": {
    "name": "ipython",
    "version": 3
   },
   "file_extension": ".py",
   "mimetype": "text/x-python",
   "name": "python",
   "nbconvert_exporter": "python",
   "pygments_lexer": "ipython3",
   "version": "3.9.6"
  }
 },
 "nbformat": 4,
 "nbformat_minor": 5
}
