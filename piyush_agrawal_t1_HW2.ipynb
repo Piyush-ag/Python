{
 "cells": [
  {
   "cell_type": "markdown",
   "metadata": {},
   "source": [
    "# Week 2 Homework\n",
    "\n",
    "Before starting to work on this assignment, read the first two handouts.\n",
    "\n",
    "Once you are done, save your file as: `YourFirstName_YourLastName_SectionNumber_HW2.ipynb`.\n",
    "\n",
    "I provided a sample output below each question."
   ]
  },
  {
   "cell_type": "markdown",
   "metadata": {},
   "source": [
    "## Question 1\n",
    "\n",
    "Define `list_2 = [10, 20, 30, 40, 50, 60]`. Write a snippet that prints the following sequentially:\n",
    " - item at index number 1\n",
    " - item in the last index ( you can use positive or negative index)\n",
    " - length of `list_2`\n"
   ]
  },
  {
   "cell_type": "code",
   "execution_count": 30,
   "metadata": {},
   "outputs": [
    {
     "name": "stdout",
     "output_type": "stream",
     "text": [
      "Item at index 1: 20\n",
      "Item at the last index: 60\n",
      "Length of list_2: 6\n"
     ]
    }
   ],
   "source": [
    "## Solution to Question 1:\n",
    "\n",
    "list_2 = [10, 20, 30, 40, 50, 60]\n",
    "\n",
    "# Print the item at index number 1\n",
    "print(\"Item at index 1:\", list_2[1])\n",
    "\n",
    "# Print the item in the last index\n",
    "print(\"Item at the last index:\", list_2[-1])\n",
    "\n",
    "# Print the length of list_2\n",
    "print(\"Length of list_2:\", len(list_2))\n"
   ]
  },
  {
   "cell_type": "markdown",
   "metadata": {},
   "source": [
    "## Question 2\n",
    "\n",
    "Define `list_2 = [10, 20, 30, 40, 50, 60]`. try `list_2[len(list_2)]`. Why do you think you are getting an error?\n"
   ]
  },
  {
   "cell_type": "code",
   "execution_count": 31,
   "metadata": {},
   "outputs": [
    {
     "data": {
      "text/plain": [
       "'\\n\\tIndex Out of Range: List indices in Python start from 0, \\n    so the valid indices for list_2 (with 6 elements) are 0, 1, 2, 3, 4, and 5. \\n    However, list_2[len(list_2)] is equivalent to list_2[6],\\n      which attempts to access the 7th element in the list, an index that doesn’t exist.\\n'"
      ]
     },
     "execution_count": 31,
     "metadata": {},
     "output_type": "execute_result"
    }
   ],
   "source": [
    "## Solution to Question 2:\n",
    "\n",
    "list_2 = [10, 20, 30, 40, 50, 60]\n",
    "# list_2[len(list_2)]\n",
    "\n",
    "'''\n",
    "\tIndex Out of Range: List indices in Python start from 0, \n",
    "    so the valid indices for list_2 (with 6 elements) are 0, 1, 2, 3, 4, and 5. \n",
    "    However, list_2[len(list_2)] is equivalent to list_2[6],\n",
    "      which attempts to access the 7th element in the list, an index that doesn’t exist.\n",
    "'''"
   ]
  },
  {
   "cell_type": "markdown",
   "metadata": {},
   "source": [
    "## Question 3\n",
    "\n",
    "This question will help you practice `count` method of `list` class. `my_list.count(value)` returns number of times `value` appears in `my_list`. Here is an example:\n",
    "\n",
    "Use `range()`, `for` loop, and `count()` method to print number of times numbers 1 to 6 appears in `list_A = [2, 3, 2, 5, 1, 5, 2, 2]`."
   ]
  },
  {
   "cell_type": "code",
   "execution_count": 32,
   "metadata": {},
   "outputs": [
    {
     "name": "stdout",
     "output_type": "stream",
     "text": [
      "Number 1 appears 1 times in list_A.\n",
      "Number 2 appears 4 times in list_A.\n",
      "Number 3 appears 1 times in list_A.\n",
      "Number 4 appears 0 times in list_A.\n",
      "Number 5 appears 2 times in list_A.\n",
      "Number 6 appears 0 times in list_A.\n"
     ]
    }
   ],
   "source": [
    "## Solution to Question 3:\n",
    "\n",
    "list_A = [2, 3, 2, 5, 1, 5, 2, 2]\n",
    "\n",
    "# Loop through numbers 1 to 6\n",
    "for i in range(1, 7):\n",
    "    # Use count() to find the occurrences of each number\n",
    "    count = list_A.count(i)\n",
    "    print(f\"Number {i} appears {count} times in list_A.\")"
   ]
  },
  {
   "cell_type": "markdown",
   "metadata": {},
   "source": [
    "## Question 4\n",
    "\n",
    "Learn about Fibonacci numbers from wikipedia (https://en.wikipedia.org/wiki/Fibonacci_number). You just need to know how they are being created. Store the first 10 Fibonacci numbers in the list `fib_num`. \n",
    "\n",
    "**Hint:** you can start with:\n",
    ">\n",
    ">```python\n",
    ">fib_num = []\n",
    ">fib_num[0] = 0\n",
    ">fib_num[1] = 1\n",
    ">```\n",
    ">\n",
    "\n",
    "and then use `append()` and a `for` loop for the rest."
   ]
  },
  {
   "cell_type": "code",
   "execution_count": 33,
   "metadata": {},
   "outputs": [
    {
     "name": "stdout",
     "output_type": "stream",
     "text": [
      "[0, 1, 1, 2, 3, 5, 8, 13, 21, 34]\n"
     ]
    }
   ],
   "source": [
    "## Solution to Question 4:\n",
    "\n",
    "# Initialize the list with the first two Fibonacci numbers\n",
    "fib_num = [0, 1]\n",
    "\n",
    "# Use a for loop to generate the next 8 Fibonacci numbers (since we already have the first 2)\n",
    "for i in range(2, 10):\n",
    "    # Append the sum of the last two numbers to the list\n",
    "    fib_num.append(fib_num[i - 1] + fib_num[i - 2])\n",
    "\n",
    "# Print the list of the first 10 Fibonacci numbers\n",
    "print(fib_num)"
   ]
  },
  {
   "cell_type": "markdown",
   "metadata": {},
   "source": [
    "## Question 5\n",
    "\n",
    "Define `a = 2, 5`. What kind of data type does `a` have?\n"
   ]
  },
  {
   "cell_type": "code",
   "execution_count": 34,
   "metadata": {},
   "outputs": [
    {
     "name": "stdout",
     "output_type": "stream",
     "text": [
      "<class 'tuple'>\n"
     ]
    }
   ],
   "source": [
    "## Solution to Question 5:\n",
    "a = 2,5\n",
    "print(type(a))\n"
   ]
  },
  {
   "cell_type": "markdown",
   "metadata": {},
   "source": [
    "## Question 6:\n",
    "\n",
    "`split()` method splits a string into a list where each word is a list item. \n",
    "Use `split()` to extract words from the string `stringA = 'I never thought I would like Python this much'`. Call your new list `words`.\n",
    "\n",
    "Then, use **list comprehension** to build a list from the above list `words`. Make sure to exclude words `I` from your new list. Call your new list `updated_words`"
   ]
  },
  {
   "cell_type": "code",
   "execution_count": 35,
   "metadata": {},
   "outputs": [
    {
     "name": "stdout",
     "output_type": "stream",
     "text": [
      "words: ['I', 'never', 'thought', 'I', 'would', 'like', 'Python', 'this', 'much']\n",
      "updated_words: ['never', 'thought', 'would', 'like', 'Python', 'this', 'much']\n"
     ]
    }
   ],
   "source": [
    "## Solution to Question 6:\n",
    "# Initial string\n",
    "stringA = 'I never thought I would like Python this much'\n",
    "\n",
    "# Use split() to extract words into a list\n",
    "words = stringA.split()\n",
    "\n",
    "# Use list comprehension to exclude the word 'I' from the new list\n",
    "updated_words = [word for word in words if word != 'I']\n",
    "\n",
    "# Print the results\n",
    "print(\"words:\", words)\n",
    "print(\"updated_words:\", updated_words)"
   ]
  },
  {
   "cell_type": "markdown",
   "metadata": {},
   "source": [
    "## Question 7\n",
    "\n",
    "Define a list  of even numbers less than 10 (call it `list_even`) . Define a list of odd numbers less than 10 (call it `list_odd`). Concatenate `list_even` and `list_odd` using `+=`."
   ]
  },
  {
   "cell_type": "code",
   "execution_count": 36,
   "metadata": {},
   "outputs": [
    {
     "name": "stdout",
     "output_type": "stream",
     "text": [
      "list_even: [0, 2, 4, 6, 8]\n",
      "list_odd: [1, 3, 5, 7, 9]\n",
      "Concatenated list: [0, 2, 4, 6, 8, 1, 3, 5, 7, 9]\n"
     ]
    }
   ],
   "source": [
    "## Solution to Question 7:\n",
    "\n",
    "# Define list of even numbers less than 10\n",
    "list_even = [0, 2, 4, 6, 8]\n",
    "print(\"list_even:\", list_even)\n",
    "\n",
    "# Define list of odd numbers less than 10\n",
    "list_odd = [1, 3, 5, 7, 9]\n",
    "print(\"list_odd:\", list_odd)\n",
    "# Concatenate list_odd to list_even using +=\n",
    "list_even += list_odd\n",
    "\n",
    "# Print the concatenated list\n",
    "print(\"Concatenated list:\", list_even)\n"
   ]
  },
  {
   "cell_type": "markdown",
   "metadata": {},
   "source": [
    "## Question 8\n",
    "\n",
    "Create a list called `myNumbers` containing the values from 1 to 20, then use slices to perform the following operations sequentially:\n",
    "\n",
    " - Select even numbers\n",
    " - Replace the elements at indices 5 through 9 with 0s. Print the resulting list.\n",
    " \n",
    "Remember that each step needs to be done using slices."
   ]
  },
  {
   "cell_type": "code",
   "execution_count": 37,
   "metadata": {},
   "outputs": [
    {
     "name": "stdout",
     "output_type": "stream",
     "text": [
      "Even numbers: [2, 4, 6, 8, 10, 12, 14, 16, 18, 20]\n",
      "List after replacing indices 5 through 9 with 0s: [1, 2, 3, 4, 5, 0, 0, 0, 0, 0, 11, 12, 13, 14, 15, 16, 17, 18, 19, 20]\n"
     ]
    }
   ],
   "source": [
    "## Solution to Question 8:\n",
    "\n",
    "# Create a list containing values from 1 to 20\n",
    "myNumbers = list(range(1, 21))\n",
    "\n",
    "# Select even numbers using slicing\n",
    "even_numbers = myNumbers[1::2]  # Start from index 1 (the second element) and step by 2 to get even numbers\n",
    "print(\"Even numbers:\", even_numbers)\n",
    "\n",
    "# Replace elements at indices 5 through 9 with 0s\n",
    "myNumbers[5:10] = [0] * 5\n",
    "print(\"List after replacing indices 5 through 9 with 0s:\", myNumbers)\n"
   ]
  },
  {
   "cell_type": "markdown",
   "metadata": {},
   "source": [
    "## Question 9\n",
    "\n",
    "What is wrong with this snippet and how can you fix the above snippet\n",
    "\n",
    ">```python\n",
    ">a = []\n",
    ">for i in range(4):\n",
    ">     a[i] = i * i\n",
    ">```"
   ]
  },
  {
   "cell_type": "code",
   "execution_count": 38,
   "metadata": {},
   "outputs": [],
   "source": [
    "## Solution to Question 9:\n",
    "a = []\n",
    "# for i in range(4):\n",
    "#     a[i] = i * i\n",
    "\n",
    "# IndexError caused by trying to assign values to non-existent indices in an empty list\n",
    "\n",
    "a = []\n",
    "for i in range(4):\n",
    "    a.append(i * i)"
   ]
  },
  {
   "cell_type": "markdown",
   "metadata": {},
   "source": [
    "## Question 10\n",
    "\n",
    "Define `sample_1= {0: 10, 1: 20, 3:30}`. Write a code snippet that removes `3:30` first and then add `4:40`. It should return `{0: 10, 1: 20, 4: 40}`"
   ]
  },
  {
   "cell_type": "code",
   "execution_count": 39,
   "metadata": {},
   "outputs": [
    {
     "name": "stdout",
     "output_type": "stream",
     "text": [
      "{0: 10, 1: 20, 4: 40}\n"
     ]
    }
   ],
   "source": [
    "# Solution to Question 10\n",
    "# Define the dictionary\n",
    "sample_1 = {0: 10, 1: 20, 3: 30}\n",
    "\n",
    "# Remove the key-value pair with key 3\n",
    "sample_1.pop(3)\n",
    "\n",
    "# Add the new key-value pair 4: 40\n",
    "sample_1[4] = 40\n",
    "\n",
    "# Print the resulting dictionary\n",
    "print(sample_1)\n"
   ]
  },
  {
   "cell_type": "markdown",
   "metadata": {},
   "source": [
    "## Question 11\n",
    "\n",
    "Write a Python script to concatenate following dictionaries: `dict_1 = {1:10, 2:20}`, `dict_2={3:30, 4:40}`, and `dict_3={5:50, 6:60}`. \n",
    "\n",
    "The desired output would be `results= {1: 10, 2: 20, 3: 30, 4: 40, 5: 50, 6: 60}`.\n"
   ]
  },
  {
   "cell_type": "code",
   "execution_count": 40,
   "metadata": {},
   "outputs": [
    {
     "name": "stdout",
     "output_type": "stream",
     "text": [
      "{1: 10, 2: 20, 3: 30, 4: 40, 5: 50, 6: 60}\n"
     ]
    }
   ],
   "source": [
    "# Solution to Question 11\n",
    "# Define the dictionaries\n",
    "dict_1 = {1: 10, 2: 20}\n",
    "dict_2 = {3: 30, 4: 40}\n",
    "dict_3 = {5: 50, 6: 60}\n",
    "\n",
    "dict_1.update(dict_2)\n",
    "dict_1.update(dict_3)\n",
    "\n",
    "print(dict_1)"
   ]
  },
  {
   "cell_type": "markdown",
   "metadata": {},
   "source": [
    "## Question 12\n",
    "\n",
    "Consider `dict_A = {1: 10, 2: 20, 3: 30, 4: 40, 5: 50, 6: 60}`. Write a Python snippet to check if a certain `key`  already exists in a dictionary. Your snippet must accept the `key` from the user using `input` function and print whether the key exists. \n"
   ]
  },
  {
   "cell_type": "code",
   "execution_count": 41,
   "metadata": {},
   "outputs": [
    {
     "name": "stdout",
     "output_type": "stream",
     "text": [
      "Key 5 exists in the dictionary.\n"
     ]
    }
   ],
   "source": [
    "# Solution to Question 12\n",
    "# Define the dictionary\n",
    "dict_A = {1: 10, 2: 20, 3: 30, 4: 40, 5: 50, 6: 60}\n",
    "\n",
    "# Accept key input from the user\n",
    "key = int(input(\"Enter the key to check: \"))\n",
    "\n",
    "# Check if the key exists in the dictionary\n",
    "if key in dict_A:\n",
    "    print(f\"Key {key} exists in the dictionary.\")\n",
    "else:\n",
    "    print(f\"Key {key} does not exist in the dictionary.\")"
   ]
  },
  {
   "cell_type": "markdown",
   "metadata": {},
   "source": [
    "## Question 13\n",
    "\n",
    "Consider `dict_A = {0: 1, 1: 2, 2: 3, 3: 4, 4: 5, 5: 6, 6: 7}`. Write a Python snippet to iterate over this dictionaries `keys` and `values` and print them. You need to use `for` loop. Each key, value pair must be printed in a separate line. \n",
    "\n"
   ]
  },
  {
   "cell_type": "code",
   "execution_count": 42,
   "metadata": {},
   "outputs": [
    {
     "name": "stdout",
     "output_type": "stream",
     "text": [
      "Key: 0, Value: 1\n",
      "Key: 1, Value: 2\n",
      "Key: 2, Value: 3\n",
      "Key: 3, Value: 4\n",
      "Key: 4, Value: 5\n",
      "Key: 5, Value: 6\n",
      "Key: 6, Value: 7\n"
     ]
    }
   ],
   "source": [
    "# Solution to Question 13\n",
    "# Define the dictionary\n",
    "dict_A = {0: 1, 1: 2, 2: 3, 3: 4, 4: 5, 5: 6, 6: 7}\n",
    "\n",
    "# Iterate over the dictionary's keys and values\n",
    "for key, value in dict_A.items():\n",
    "    print(f\"Key: {key}, Value: {value}\")"
   ]
  },
  {
   "cell_type": "markdown",
   "metadata": {},
   "source": [
    "## Question 14\n",
    "\n",
    "**Without using dictionary comprehension**, write a Python snippet that accepts an integer number `n` from the user, generates and print a dictionary that contains `key, value` pair in the form of `x: x*x`.\n"
   ]
  },
  {
   "cell_type": "code",
   "execution_count": 43,
   "metadata": {},
   "outputs": [
    {
     "name": "stdout",
     "output_type": "stream",
     "text": [
      "{1: 1, 2: 4, 3: 9, 4: 16, 5: 25}\n"
     ]
    }
   ],
   "source": [
    "# Solution to Question 14\n",
    "# Accept input from the user\n",
    "n = int(input(\"Enter an integer number: \"))\n",
    "\n",
    "# Initialize an empty dictionary\n",
    "result = {}\n",
    "\n",
    "# Use a for loop to populate the dictionary with key-value pairs\n",
    "for x in range(1, n + 1):\n",
    "    result[x] = x * x\n",
    "\n",
    "# Print the resulting dictionary\n",
    "print(result)"
   ]
  },
  {
   "cell_type": "markdown",
   "metadata": {},
   "source": [
    "## Question 15\n",
    "\n",
    "**Using dictionary comprehension**, write a Python snippet that generates and print a dictionary that contains `key, value` pair in the form of `x: x*x*x`. Your dictionary must contain only even numbers as keys starting 2 and ending at 12.\n"
   ]
  },
  {
   "cell_type": "code",
   "execution_count": 44,
   "metadata": {},
   "outputs": [
    {
     "name": "stdout",
     "output_type": "stream",
     "text": [
      "{2: 8, 4: 64, 6: 216, 8: 512, 10: 1000, 12: 1728}\n"
     ]
    }
   ],
   "source": [
    "# Solution to Question 15\n",
    "\n",
    "# Generate the dictionary using dictionary comprehension\n",
    "result = {x: x**3 for x in range(2, 13, 2)}\n",
    "\n",
    "# Print the resulting dictionary\n",
    "print(result)"
   ]
  },
  {
   "cell_type": "markdown",
   "metadata": {},
   "source": [
    "## Question 16\n",
    "\n",
    "**Using dictionary comprehension**, write a Python snippet that generates and print a dictionary that contains `key, value` pair in the form of `x: xx`.  Your dictionary must contain `keys` from characters from \"Python\". The desired output looks like: `{'P': 'PP', 'y': 'yy', 't': 'tt', 'h': 'hh', 'o': 'oo', 'n': 'nn'}`"
   ]
  },
  {
   "cell_type": "code",
   "execution_count": 45,
   "metadata": {},
   "outputs": [
    {
     "name": "stdout",
     "output_type": "stream",
     "text": [
      "{'P': 'PP', 'y': 'yy', 't': 'tt', 'h': 'hh', 'o': 'oo', 'n': 'nn'}\n"
     ]
    }
   ],
   "source": [
    "# Solution to Question 16\n",
    "# Define the string\n",
    "word = \"Python\"\n",
    "\n",
    "# Generate the dictionary using dictionary comprehension\n",
    "result = {x: x * 2 for x in word}\n",
    "\n",
    "# Print the resulting dictionary\n",
    "print(result)"
   ]
  },
  {
   "cell_type": "markdown",
   "metadata": {},
   "source": [
    "## Question 17:\n",
    "\n",
    "Given set `{10, 20, 30, 40, 50, 60}`, remove `60` from the set and add `80` into the set."
   ]
  },
  {
   "cell_type": "code",
   "execution_count": 46,
   "metadata": {},
   "outputs": [
    {
     "name": "stdout",
     "output_type": "stream",
     "text": [
      "{80, 50, 20, 40, 10, 30}\n"
     ]
    }
   ],
   "source": [
    "# Solution to Question 17:\n",
    "# Define the set\n",
    "my_set = {10, 20, 30, 40, 50, 60}\n",
    "\n",
    "# Remove 60 from the set\n",
    "my_set.remove(60)\n",
    "\n",
    "# Add 80 to the set\n",
    "my_set.add(80)\n",
    "\n",
    "# Print the resulting set\n",
    "print(my_set)"
   ]
  },
  {
   "cell_type": "markdown",
   "metadata": {},
   "source": [
    "## Question 18:\n",
    "\n",
    "Why does the following code has problem? What method would you use instead of `remove`?\n",
    "\n",
    "> **Example**\n",
    ">>```python\n",
    ">>set_4 = {10, 20, 30, 40, 50}\n",
    "set_4.remove(60)\n",
    "set_4\n",
    ">>```\n",
    "\n"
   ]
  },
  {
   "cell_type": "code",
   "execution_count": 47,
   "metadata": {},
   "outputs": [
    {
     "data": {
      "text/plain": [
       "{10, 20, 30, 40, 50}"
      ]
     },
     "execution_count": 47,
     "metadata": {},
     "output_type": "execute_result"
    }
   ],
   "source": [
    "# Solution to Question 18:\n",
    "set_4 = {10, 20, 30, 40, 50}\n",
    "# set_4.remove(60)\n",
    "# The problem with the code is that set_4.remove(60) will raise a KeyError because 60 is not an element in set_4. When you use the remove() method on a set with an element that doesn’t exist, Python raises an error.\n",
    "\n",
    "\n",
    "set_4 = {10, 20, 30, 40, 50}\n",
    "set_4.discard(60)  # No error if 60 is not in the set\n",
    "set_4"
   ]
  },
  {
   "cell_type": "markdown",
   "metadata": {},
   "source": [
    "## Question 19:\n",
    "\n",
    "Remove ALL values from a given set `{10, 20, 30, 40, 50}`.\n",
    "\n",
    "\n",
    "\n"
   ]
  },
  {
   "cell_type": "code",
   "execution_count": 48,
   "metadata": {},
   "outputs": [
    {
     "name": "stdout",
     "output_type": "stream",
     "text": [
      "set()\n"
     ]
    }
   ],
   "source": [
    "# Solution to Question 19:\n",
    "\n",
    "\n",
    "set_5 = {10, 20, 30, 40, 50}\n",
    "set_5.clear() # Clear all values\n",
    "print(set_5)\n"
   ]
  },
  {
   "cell_type": "markdown",
   "metadata": {},
   "source": [
    "## Question 20:\n",
    "\n",
    "Transform set `{40, 30, 20, 50, 10}` to a ASCENDING SORTED list.\n",
    "\n",
    "\n"
   ]
  },
  {
   "cell_type": "code",
   "execution_count": 49,
   "metadata": {},
   "outputs": [
    {
     "name": "stdout",
     "output_type": "stream",
     "text": [
      "[10, 20, 30, 40, 50]\n"
     ]
    }
   ],
   "source": [
    "# Solution to Question 20:\n",
    "# Define the set\n",
    "my_set = {40, 30, 20, 50, 10}\n",
    "\n",
    "# Convert the set to an ascending sorted list\n",
    "sorted_list = sorted(my_set)\n",
    "\n",
    "# Print the resulting list\n",
    "print(sorted_list)"
   ]
  }
 ],
 "metadata": {
  "kernelspec": {
   "display_name": ".venv",
   "language": "python",
   "name": "python3"
  },
  "language_info": {
   "codemirror_mode": {
    "name": "ipython",
    "version": 3
   },
   "file_extension": ".py",
   "mimetype": "text/x-python",
   "name": "python",
   "nbconvert_exporter": "python",
   "pygments_lexer": "ipython3",
   "version": "3.9.6"
  }
 },
 "nbformat": 4,
 "nbformat_minor": 4
}
