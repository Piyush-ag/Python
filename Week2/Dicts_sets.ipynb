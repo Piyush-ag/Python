{
 "cells": [
  {
   "cell_type": "code",
   "execution_count": 7,
   "id": "831880ba-2a7c-4f00-9404-91190e0b84a0",
   "metadata": {},
   "outputs": [],
   "source": [
    "my_dict = {}"
   ]
  },
  {
   "cell_type": "code",
   "execution_count": 8,
   "id": "ec9217cb-f387-451f-bb82-3102be03b6c1",
   "metadata": {},
   "outputs": [],
   "source": [
    "my_dict = { \"BARM\": \"Business Analytics and Risk Management\", \"IS\": \"Inofrmation Systems\"}"
   ]
  },
  {
   "cell_type": "code",
   "execution_count": 9,
   "id": "2b3bac00-9784-4397-832a-eae4c9b76ea0",
   "metadata": {},
   "outputs": [
    {
     "data": {
      "text/plain": [
       "'Inofrmation Systems'"
      ]
     },
     "execution_count": 9,
     "metadata": {},
     "output_type": "execute_result"
    }
   ],
   "source": [
    "my_dict[\"IS\"]"
   ]
  },
  {
   "cell_type": "code",
   "execution_count": 10,
   "id": "93515293-877c-4d9c-96a2-3c9ade9dde91",
   "metadata": {},
   "outputs": [
    {
     "data": {
      "text/plain": [
       "{'BARM': 'Business Analytics and Risk Management', 'IS': 'Information Systems'}"
      ]
     },
     "execution_count": 10,
     "metadata": {},
     "output_type": "execute_result"
    }
   ],
   "source": [
    "my_dict[\"IS\"] = \"Information Systems\"\n",
    "my_dict"
   ]
  },
  {
   "cell_type": "code",
   "execution_count": 11,
   "id": "d040d52c-23c9-436a-9ca1-f84c5841fd40",
   "metadata": {},
   "outputs": [
    {
     "data": {
      "text/plain": [
       "'Business Analytics and Risk Management'"
      ]
     },
     "execution_count": 11,
     "metadata": {},
     "output_type": "execute_result"
    }
   ],
   "source": [
    "my_dict['BARM']"
   ]
  },
  {
   "cell_type": "code",
   "execution_count": 12,
   "id": "faae867c-27eb-46c3-9a97-25de8c575dd8",
   "metadata": {},
   "outputs": [
    {
     "data": {
      "text/plain": [
       "2"
      ]
     },
     "execution_count": 12,
     "metadata": {},
     "output_type": "execute_result"
    }
   ],
   "source": [
    "len(my_dict)"
   ]
  },
  {
   "cell_type": "code",
   "execution_count": 13,
   "id": "8494b1a6-00af-4c3f-ab38-07449eabc1b2",
   "metadata": {},
   "outputs": [
    {
     "data": {
      "text/plain": [
       "'Business Analytics and Risk Management'"
      ]
     },
     "execution_count": 13,
     "metadata": {},
     "output_type": "execute_result"
    }
   ],
   "source": [
    "my_dict['BARM']"
   ]
  },
  {
   "cell_type": "code",
   "execution_count": 14,
   "id": "645f53bb-1d2a-4d54-bc42-317bbabb9919",
   "metadata": {},
   "outputs": [
    {
     "name": "stdout",
     "output_type": "stream",
     "text": [
      "Not in the DB\n"
     ]
    }
   ],
   "source": [
    "if 'MKT' in my_dict:\n",
    "    print(my_dict['MKT'])\n",
    "else:\n",
    "    print('Not in the DB')"
   ]
  },
  {
   "cell_type": "code",
   "execution_count": 15,
   "id": "451252e8-d877-48d2-8a22-027f705285cb",
   "metadata": {},
   "outputs": [
    {
     "name": "stdout",
     "output_type": "stream",
     "text": [
      "Not in the DB\n"
     ]
    }
   ],
   "source": [
    "print(my_dict.get('MKT', 'Not in the DB'))"
   ]
  },
  {
   "cell_type": "code",
   "execution_count": 16,
   "id": "272e6798-c40c-40d1-b168-329a91f99585",
   "metadata": {},
   "outputs": [
    {
     "data": {
      "text/plain": [
       "'Information Systems'"
      ]
     },
     "execution_count": 16,
     "metadata": {},
     "output_type": "execute_result"
    }
   ],
   "source": [
    "my_dict.get('IS')"
   ]
  },
  {
   "cell_type": "code",
   "execution_count": 17,
   "id": "fc2e700a-2fc5-443a-a7d1-34741c510b14",
   "metadata": {},
   "outputs": [
    {
     "data": {
      "text/plain": [
       "{'BARM': 'Business Analytics and Risk Management', 'IS': 'Inofrmation Systems'}"
      ]
     },
     "execution_count": 17,
     "metadata": {},
     "output_type": "execute_result"
    }
   ],
   "source": [
    "my_dict = { \"BARM\": \"Business Analytics and Risk Management\", \n",
    "           \"IS\": \"skdufgi uf\",           \n",
    "           \"IS\": \"Inofrmation Systems\"}\n",
    "\n",
    "my_dict"
   ]
  },
  {
   "cell_type": "code",
   "execution_count": 18,
   "id": "efb30dde-826d-4d6c-9b34-e2ffa8db4420",
   "metadata": {},
   "outputs": [
    {
     "data": {
      "text/plain": [
       "dict_keys(['BARM', 'IS'])"
      ]
     },
     "execution_count": 18,
     "metadata": {},
     "output_type": "execute_result"
    }
   ],
   "source": [
    "my_dict.keys()"
   ]
  },
  {
   "cell_type": "code",
   "execution_count": 19,
   "id": "9ddb5a34-ee03-4309-9b47-dfa2cda85c10",
   "metadata": {},
   "outputs": [
    {
     "data": {
      "text/plain": [
       "dict_values(['Business Analytics and Risk Management', 'Inofrmation Systems'])"
      ]
     },
     "execution_count": 19,
     "metadata": {},
     "output_type": "execute_result"
    }
   ],
   "source": [
    "my_dict.values()"
   ]
  },
  {
   "cell_type": "code",
   "execution_count": 20,
   "id": "cc184b61-0344-4113-8277-e9fff3aeab63",
   "metadata": {},
   "outputs": [
    {
     "data": {
      "text/plain": [
       "False"
      ]
     },
     "execution_count": 20,
     "metadata": {},
     "output_type": "execute_result"
    }
   ],
   "source": [
    "\"MKT\" in my_dict.keys()"
   ]
  },
  {
   "cell_type": "code",
   "execution_count": 21,
   "id": "d7347d49-06d1-442e-96c5-e4c8b346dcc4",
   "metadata": {},
   "outputs": [
    {
     "name": "stdout",
     "output_type": "stream",
     "text": [
      "Key is BARM and value is Business Analytics and Risk Management\n",
      "Key is IS and value is Inofrmation Systems\n"
     ]
    }
   ],
   "source": [
    "# Nice way to iterate over map entries\n",
    "for k, v in my_dict.items():\n",
    "    print(f'Key is {k} and value is {v}')"
   ]
  },
  {
   "cell_type": "code",
   "execution_count": 22,
   "id": "c8928082-f0a7-4063-abb3-dc5e8b950964",
   "metadata": {},
   "outputs": [
    {
     "name": "stdout",
     "output_type": "stream",
     "text": [
      "{'BARM': 'Business Analytics and Risk Management', 'IS': 'something'}\n",
      "{'BARM': 'Business Analytics and Risk Management', 'IS': 'something'}\n"
     ]
    }
   ],
   "source": [
    "my_dict1 = my_dict\n",
    "my_dict1['IS']=\"something\"\n",
    "\n",
    "print(my_dict)\n",
    "print(my_dict1)\n"
   ]
  },
  {
   "cell_type": "code",
   "execution_count": 23,
   "id": "96e72c74-995b-48c5-9289-e7482d078190",
   "metadata": {},
   "outputs": [
    {
     "name": "stdout",
     "output_type": "stream",
     "text": [
      "{'BARM': 'Business Analytics and Risk Management', 'IS': 'something'}\n",
      "{'BARM': 'Business Analytics and Risk Management', 'IS': 'something else'}\n"
     ]
    }
   ],
   "source": [
    "my_dict1 = my_dict.copy()\n",
    "my_dict1['IS']=\"something else\"\n",
    "\n",
    "print(my_dict)\n",
    "print(my_dict1)\n"
   ]
  },
  {
   "cell_type": "code",
   "execution_count": 24,
   "id": "9403fe28-c0ef-431f-bde4-d27111ef85c5",
   "metadata": {},
   "outputs": [
    {
     "data": {
      "text/plain": [
       "{'BARM': 'Business Analytics and Risk Management',\n",
       " 'IS': 'something',\n",
       " 'MKT': 'Marketing'}"
      ]
     },
     "execution_count": 24,
     "metadata": {},
     "output_type": "execute_result"
    }
   ],
   "source": [
    "my_dict['MKT'] = 'Marketing'\n",
    "my_dict"
   ]
  },
  {
   "cell_type": "code",
   "execution_count": 25,
   "id": "705c1a95-8647-4d34-a099-bb8e4d94a1b9",
   "metadata": {},
   "outputs": [],
   "source": [
    "my_dict['MKT'] = 'Marketing Program'\n",
    "my_dict.update()\n"
   ]
  }
 ],
 "metadata": {
  "kernelspec": {
   "display_name": ".venv",
   "language": "python",
   "name": "python3"
  },
  "language_info": {
   "codemirror_mode": {
    "name": "ipython",
    "version": 3
   },
   "file_extension": ".py",
   "mimetype": "text/x-python",
   "name": "python",
   "nbconvert_exporter": "python",
   "pygments_lexer": "ipython3",
   "version": "3.9.6"
  }
 },
 "nbformat": 4,
 "nbformat_minor": 5
}
