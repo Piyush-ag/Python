{
 "cells": [
  {
   "cell_type": "code",
   "execution_count": 1,
   "id": "02214fc1-e158-4676-9401-916cf96b1249",
   "metadata": {},
   "outputs": [
    {
     "name": "stdout",
     "output_type": "stream",
     "text": [
      "0\n",
      "1\n",
      "2\n",
      "3\n",
      "4\n"
     ]
    }
   ],
   "source": [
    "my_range = range(5)\n",
    "for i in my_range:\n",
    "    print(i)"
   ]
  },
  {
   "cell_type": "code",
   "execution_count": 2,
   "id": "6f66d12b-5dc6-4529-b9f8-f4fa943d6f02",
   "metadata": {},
   "outputs": [
    {
     "name": "stdout",
     "output_type": "stream",
     "text": [
      "C\n",
      "a\n",
      "r\n",
      "e\n",
      "y\n"
     ]
    }
   ],
   "source": [
    "my_str = \"Carey\"\n",
    "for i in my_str:\n",
    "    print(i)"
   ]
  },
  {
   "cell_type": "markdown",
   "id": "5d34da7d",
   "metadata": {},
   "source": [
    "# List"
   ]
  },
  {
   "cell_type": "code",
   "execution_count": 3,
   "id": "d81cf98d-f644-4157-b46d-b840c87f6e17",
   "metadata": {},
   "outputs": [
    {
     "name": "stdout",
     "output_type": "stream",
     "text": [
      "\n",
      "[]\n"
     ]
    }
   ],
   "source": [
    "\n",
    "name = \"\"\n",
    "\n",
    "my_list = []\n",
    "\n",
    "print(name)\n",
    "print(my_list)"
   ]
  },
  {
   "cell_type": "code",
   "execution_count": 4,
   "id": "d4d4c4de-8629-49e9-aabd-9fa23f920d14",
   "metadata": {},
   "outputs": [
    {
     "name": "stdout",
     "output_type": "stream",
     "text": [
      "John\n",
      "[20, 30, 25]\n"
     ]
    }
   ],
   "source": [
    "name = \"John\"\n",
    "\n",
    "my_list = [20, 30, 25]\n",
    "\n",
    "print(name)\n",
    "print(my_list)"
   ]
  },
  {
   "cell_type": "code",
   "execution_count": 5,
   "id": "54d94c77-974b-4750-932d-163ee607c964",
   "metadata": {},
   "outputs": [
    {
     "name": "stdout",
     "output_type": "stream",
     "text": [
      "John Smith\n",
      "[20, 30, 25, 12, 18]\n"
     ]
    }
   ],
   "source": [
    "last_name = \"Smith\"\n",
    "print(name + \" \" + last_name)\n",
    "\n",
    "my_list_2 = [12, 18] \n",
    "print(my_list + my_list_2)\n"
   ]
  },
  {
   "cell_type": "code",
   "execution_count": 6,
   "id": "64ef6a39-04f7-41d1-a2da-33a8483b7897",
   "metadata": {},
   "outputs": [
    {
     "name": "stdout",
     "output_type": "stream",
     "text": [
      "[20, 30, 25, 12, 18]\n"
     ]
    }
   ],
   "source": [
    "last_name = \"Smith\"\n",
    "name += \" \" + last_name\n",
    "\n",
    "my_list_2 = [12, 18] \n",
    "\n",
    "my_list += my_list_2\n",
    "\n",
    "print(my_list)\n"
   ]
  },
  {
   "cell_type": "code",
   "execution_count": 7,
   "id": "d399f355-7fa4-4b3c-a5bf-64b063edc48b",
   "metadata": {},
   "outputs": [
    {
     "data": {
      "text/plain": [
       "True"
      ]
     },
     "execution_count": 7,
     "metadata": {},
     "output_type": "execute_result"
    }
   ],
   "source": [
    "'S' in name"
   ]
  },
  {
   "cell_type": "code",
   "execution_count": 8,
   "id": "411f5104-10f6-4d97-97b4-43c9618192db",
   "metadata": {},
   "outputs": [
    {
     "data": {
      "text/plain": [
       "True"
      ]
     },
     "execution_count": 8,
     "metadata": {},
     "output_type": "execute_result"
    }
   ],
   "source": [
    "18 in my_list"
   ]
  },
  {
   "cell_type": "code",
   "execution_count": 9,
   "id": "2f141872-d2f7-4ff4-9358-ad0a7989d827",
   "metadata": {},
   "outputs": [
    {
     "data": {
      "text/plain": [
       "True"
      ]
     },
     "execution_count": 9,
     "metadata": {},
     "output_type": "execute_result"
    }
   ],
   "source": [
    "'Smi' in name"
   ]
  },
  {
   "cell_type": "code",
   "execution_count": 10,
   "id": "bb2f65f3-09d4-4944-96b9-19d3102c85c7",
   "metadata": {},
   "outputs": [
    {
     "data": {
      "text/plain": [
       "False"
      ]
     },
     "execution_count": 10,
     "metadata": {},
     "output_type": "execute_result"
    }
   ],
   "source": [
    "[12, 18] in my_list"
   ]
  },
  {
   "cell_type": "code",
   "execution_count": 11,
   "id": "a4a9cfa7-1847-463b-b1e6-3787a4b05f16",
   "metadata": {},
   "outputs": [
    {
     "data": {
      "text/plain": [
       "True"
      ]
     },
     "execution_count": 11,
     "metadata": {},
     "output_type": "execute_result"
    }
   ],
   "source": [
    "temp = [20, 30, 25, [12, 18]]\n",
    "[12, 18] in temp"
   ]
  },
  {
   "cell_type": "code",
   "execution_count": 12,
   "id": "2bc2ce8a-e780-4920-a3fd-6a5e91589252",
   "metadata": {},
   "outputs": [
    {
     "data": {
      "text/plain": [
       "[20, 30, 25, 12, 18]"
      ]
     },
     "execution_count": 12,
     "metadata": {},
     "output_type": "execute_result"
    }
   ],
   "source": [
    "my_list"
   ]
  },
  {
   "cell_type": "code",
   "execution_count": 13,
   "id": "8709dbab-dc92-42ce-961c-477006afa292",
   "metadata": {},
   "outputs": [],
   "source": [
    "my_list.append(100)"
   ]
  },
  {
   "cell_type": "code",
   "execution_count": 14,
   "id": "b6518e68-323f-498b-b437-6481dc5a77ad",
   "metadata": {},
   "outputs": [
    {
     "data": {
      "text/plain": [
       "[20, 30, 25, 12, 18, 100]"
      ]
     },
     "execution_count": 14,
     "metadata": {},
     "output_type": "execute_result"
    }
   ],
   "source": [
    "my_list"
   ]
  },
  {
   "cell_type": "code",
   "execution_count": 17,
   "id": "a07e978e-fb2a-4132-a13c-d4d8bf7f856f",
   "metadata": {},
   "outputs": [
    {
     "data": {
      "text/plain": [
       "'John Smitha'"
      ]
     },
     "execution_count": 17,
     "metadata": {},
     "output_type": "execute_result"
    }
   ],
   "source": [
    "name + (\"a\")"
   ]
  },
  {
   "cell_type": "code",
   "execution_count": 18,
   "id": "08cab51e-7851-41df-a75f-84fdc9e7ebf9",
   "metadata": {},
   "outputs": [
    {
     "data": {
      "text/plain": [
       "[20, 150, 30, 25, 12, 18, 100]"
      ]
     },
     "execution_count": 18,
     "metadata": {},
     "output_type": "execute_result"
    }
   ],
   "source": [
    "my_list.insert(1, 150)\n",
    "my_list"
   ]
  },
  {
   "cell_type": "code",
   "execution_count": 19,
   "id": "bc202455-e1d1-48d4-9167-25d5f2e8d526",
   "metadata": {},
   "outputs": [
    {
     "data": {
      "text/plain": [
       "[20, [7, 8], 150, 30, 25, 12, 18, 100]"
      ]
     },
     "execution_count": 19,
     "metadata": {},
     "output_type": "execute_result"
    }
   ],
   "source": [
    "my_list.insert(1, [7,8])\n",
    "my_list"
   ]
  },
  {
   "cell_type": "code",
   "execution_count": 20,
   "id": "a570d9ca-7568-4fd9-afa3-499104817a7a",
   "metadata": {},
   "outputs": [],
   "source": [
    "for item in [7, 8, 12, 14]:\n",
    "    my_list.insert(1, item)"
   ]
  },
  {
   "cell_type": "code",
   "execution_count": 21,
   "id": "2325864b-5618-45ad-89aa-3e478b42302b",
   "metadata": {},
   "outputs": [
    {
     "data": {
      "text/plain": [
       "[20, 14, 12, 8, 7, [7, 8], 150, 30, 25, 12, 18, 100]"
      ]
     },
     "execution_count": 21,
     "metadata": {},
     "output_type": "execute_result"
    }
   ],
   "source": [
    "my_list"
   ]
  },
  {
   "cell_type": "code",
   "execution_count": 22,
   "id": "93a39c9f-637a-4990-9e5a-9e5913cfb723",
   "metadata": {},
   "outputs": [
    {
     "data": {
      "text/plain": [
       "[20, 30, 25]"
      ]
     },
     "execution_count": 22,
     "metadata": {},
     "output_type": "execute_result"
    }
   ],
   "source": [
    "my_list = [20, 30, 25]\n",
    "my_list"
   ]
  },
  {
   "cell_type": "code",
   "execution_count": 23,
   "id": "8c817579-bccc-4179-83d1-7fb88bf342c9",
   "metadata": {},
   "outputs": [
    {
     "name": "stdout",
     "output_type": "stream",
     "text": [
      "10\n",
      "3\n"
     ]
    }
   ],
   "source": [
    "print(len(name))\n",
    "print(len(my_list))"
   ]
  },
  {
   "cell_type": "code",
   "execution_count": 24,
   "id": "0b11a287-80fd-444c-bf03-5172a13434c8",
   "metadata": {},
   "outputs": [
    {
     "data": {
      "text/plain": [
       "[20, 30, 25, 12, 18]"
      ]
     },
     "execution_count": 24,
     "metadata": {},
     "output_type": "execute_result"
    }
   ],
   "source": [
    "my_list.extend(my_list_2)\n",
    "my_list"
   ]
  },
  {
   "cell_type": "code",
   "execution_count": null,
   "id": "1f1fe94c-7ba6-48f7-a3be-69bb3c89a188",
   "metadata": {},
   "outputs": [
    {
     "name": "stdout",
     "output_type": "stream",
     "text": [
      "4426681904\n",
      "C\n",
      "HAREY\n",
      "4426679856\n",
      "4337035696\n",
      "4337035632\n"
     ]
    }
   ],
   "source": [
    "name\n",
    "carey = 'CAREY'\n",
    "print(id(carey))\n",
    "print(carey[0])\n",
    "carey ='H'+carey[1:]\n",
    "print(carey)\n",
    "print(id(carey))\n",
    "\n",
    "\n",
    "num1 = 5\n",
    "print(id(num1))\n",
    "num1=3\n",
    "print(id(num1))\n",
    "\n",
    "\n"
   ]
  },
  {
   "cell_type": "code",
   "execution_count": 26,
   "id": "daf57918-5641-4321-8251-236f7295f9d4",
   "metadata": {},
   "outputs": [
    {
     "data": {
      "text/plain": [
       "'John '"
      ]
     },
     "execution_count": 26,
     "metadata": {},
     "output_type": "execute_result"
    }
   ],
   "source": [
    "name[0:5]"
   ]
  },
  {
   "cell_type": "code",
   "execution_count": 27,
   "id": "817be07f-b7e8-413c-8d1d-c438e450a8c2",
   "metadata": {},
   "outputs": [
    {
     "data": {
      "text/plain": [
       "'Jh '"
      ]
     },
     "execution_count": 27,
     "metadata": {},
     "output_type": "execute_result"
    }
   ],
   "source": [
    "name[0:5:2]"
   ]
  },
  {
   "cell_type": "code",
   "execution_count": 40,
   "id": "f4603a5d-f3d5-4edb-9d26-616a58a08ffa",
   "metadata": {},
   "outputs": [
    {
     "data": {
      "text/plain": [
       "'Jh mt'"
      ]
     },
     "execution_count": 40,
     "metadata": {},
     "output_type": "execute_result"
    }
   ],
   "source": [
    "name[::2]\n"
   ]
  },
  {
   "cell_type": "code",
   "execution_count": 41,
   "id": "1e34a262-0554-4b6f-a3fe-3e4c08d8a803",
   "metadata": {},
   "outputs": [
    {
     "data": {
      "text/plain": [
       "'n Smith'"
      ]
     },
     "execution_count": 41,
     "metadata": {},
     "output_type": "execute_result"
    }
   ],
   "source": [
    "name[3:]"
   ]
  },
  {
   "cell_type": "code",
   "execution_count": 42,
   "id": "27c4e7b0-0d65-4004-9bbe-2a067c3d0ae2",
   "metadata": {},
   "outputs": [
    {
     "data": {
      "text/plain": [
       "'John Smi'"
      ]
     },
     "execution_count": 42,
     "metadata": {},
     "output_type": "execute_result"
    }
   ],
   "source": [
    "name[:8]"
   ]
  },
  {
   "cell_type": "code",
   "execution_count": 43,
   "id": "d303c195-06b2-4d7a-9a5a-c0144dc62c3b",
   "metadata": {},
   "outputs": [
    {
     "data": {
      "text/plain": [
       "'John Smith'"
      ]
     },
     "execution_count": 43,
     "metadata": {},
     "output_type": "execute_result"
    }
   ],
   "source": [
    "name[:]"
   ]
  },
  {
   "cell_type": "code",
   "execution_count": 44,
   "id": "07b3269b-74c7-4bf1-afcd-0a041c417a26",
   "metadata": {},
   "outputs": [
    {
     "data": {
      "text/plain": [
       "[30, 12]"
      ]
     },
     "execution_count": 44,
     "metadata": {},
     "output_type": "execute_result"
    }
   ],
   "source": [
    "my_list[1:5:2]"
   ]
  },
  {
   "cell_type": "code",
   "execution_count": 45,
   "id": "d94abb9c-6f3e-4ac2-90b4-ada8f1f077e2",
   "metadata": {},
   "outputs": [],
   "source": [
    "my_num =list(range(0,100))"
   ]
  },
  {
   "cell_type": "code",
   "execution_count": 46,
   "id": "7f5f3870-2fa8-4040-8840-d191a6b5376f",
   "metadata": {},
   "outputs": [
    {
     "data": {
      "text/plain": [
       "[1, 3, 5, 7, 9]"
      ]
     },
     "execution_count": 46,
     "metadata": {},
     "output_type": "execute_result"
    }
   ],
   "source": [
    "my_num[1:10:2]"
   ]
  },
  {
   "cell_type": "code",
   "execution_count": 56,
   "id": "e591ac10-061a-4dea-afe8-8c97786a951c",
   "metadata": {},
   "outputs": [
    {
     "data": {
      "text/plain": [
       "[30, 25, 18, 12]"
      ]
     },
     "execution_count": 56,
     "metadata": {},
     "output_type": "execute_result"
    }
   ],
   "source": [
    "my_list"
   ]
  },
  {
   "cell_type": "code",
   "execution_count": 48,
   "id": "7924f705-c0d2-485a-bb38-4269a515553b",
   "metadata": {},
   "outputs": [
    {
     "data": {
      "text/plain": [
       "[12, 18, 20, 25, 30]"
      ]
     },
     "execution_count": 48,
     "metadata": {},
     "output_type": "execute_result"
    }
   ],
   "source": [
    "my_list.sort()\n",
    "my_list"
   ]
  },
  {
   "cell_type": "code",
   "execution_count": 49,
   "id": "2340f2bc-9e2e-4905-944b-df8e7621c134",
   "metadata": {},
   "outputs": [
    {
     "data": {
      "text/plain": [
       "[30, 25, 20, 18, 12]"
      ]
     },
     "execution_count": 49,
     "metadata": {},
     "output_type": "execute_result"
    }
   ],
   "source": [
    "my_list.sort(reverse=True)\n",
    "my_list"
   ]
  },
  {
   "cell_type": "code",
   "execution_count": 50,
   "id": "60cf7671-1865-4945-bf8b-c66fecfcbb13",
   "metadata": {},
   "outputs": [
    {
     "data": {
      "text/plain": [
       "1"
      ]
     },
     "execution_count": 50,
     "metadata": {},
     "output_type": "execute_result"
    }
   ],
   "source": [
    "name.index(\"o\")"
   ]
  },
  {
   "cell_type": "code",
   "execution_count": 52,
   "id": "d120ca77-74dd-4d69-bede-58c547e2ee27",
   "metadata": {},
   "outputs": [
    {
     "name": "stdout",
     "output_type": "stream",
     "text": [
      "John Smith\n"
     ]
    },
    {
     "data": {
      "text/plain": [
       "7"
      ]
     },
     "execution_count": 52,
     "metadata": {},
     "output_type": "execute_result"
    }
   ],
   "source": [
    "print(name)\n",
    "name.index(\"i\")"
   ]
  },
  {
   "cell_type": "code",
   "execution_count": 53,
   "id": "73f62741-7725-428e-9297-891e8f648b18",
   "metadata": {},
   "outputs": [
    {
     "data": {
      "text/plain": [
       "2"
      ]
     },
     "execution_count": 53,
     "metadata": {},
     "output_type": "execute_result"
    }
   ],
   "source": [
    "my_list.index(20)"
   ]
  },
  {
   "cell_type": "code",
   "execution_count": 54,
   "id": "ed7fc986-305f-4510-a887-f4aa18c19513",
   "metadata": {},
   "outputs": [],
   "source": [
    "my_list.remove(20)"
   ]
  },
  {
   "cell_type": "code",
   "execution_count": 55,
   "id": "ea20d5fb-f1c1-46e4-a62f-a91dd3e49463",
   "metadata": {},
   "outputs": [
    {
     "data": {
      "text/plain": [
       "[30, 25, 18, 12]"
      ]
     },
     "execution_count": 55,
     "metadata": {},
     "output_type": "execute_result"
    }
   ],
   "source": [
    "my_list"
   ]
  },
  {
   "cell_type": "code",
   "execution_count": 57,
   "id": "da1e181c-2542-44f3-9e5c-2eced259b606",
   "metadata": {},
   "outputs": [
    {
     "data": {
      "text/plain": [
       "[25, 18, 12]"
      ]
     },
     "execution_count": 57,
     "metadata": {},
     "output_type": "execute_result"
    }
   ],
   "source": [
    "del my_list[0]\n",
    "my_list"
   ]
  },
  {
   "cell_type": "code",
   "execution_count": 58,
   "id": "c6d564b0-686e-478f-b404-872922e780b1",
   "metadata": {},
   "outputs": [],
   "source": [
    "my_list.clear()\n",
    "my_list\n",
    "\n",
    "my_list = []"
   ]
  },
  {
   "cell_type": "code",
   "execution_count": 59,
   "id": "e67c0b7b-9bff-42aa-b264-0976586fc420",
   "metadata": {},
   "outputs": [
    {
     "data": {
      "text/plain": [
       "[20, 30, 25]"
      ]
     },
     "execution_count": 59,
     "metadata": {},
     "output_type": "execute_result"
    }
   ],
   "source": [
    "my_list = [20, 30, 25]\n",
    "my_list"
   ]
  },
  {
   "cell_type": "code",
   "execution_count": 60,
   "id": "365ce2e5-be11-414d-a2cd-b47b62747522",
   "metadata": {},
   "outputs": [
    {
     "name": "stdout",
     "output_type": "stream",
     "text": [
      "[20, 30, 25]\n",
      "[20, 30, 25]\n"
     ]
    }
   ],
   "source": [
    "my_list_5 = my_list\n",
    "print(my_list)\n",
    "print(my_list_5)"
   ]
  },
  {
   "cell_type": "code",
   "execution_count": 61,
   "id": "15b0b6d8-71ac-438e-86d7-f563634be76e",
   "metadata": {},
   "outputs": [
    {
     "name": "stdout",
     "output_type": "stream",
     "text": [
      "[20, 30, 25, 156]\n",
      "[20, 30, 25, 156]\n"
     ]
    }
   ],
   "source": [
    "my_list.append(156)\n",
    "print(my_list)\n",
    "print(my_list_5)"
   ]
  },
  {
   "cell_type": "code",
   "execution_count": 62,
   "id": "f1ce53a4-2c12-4584-be8c-fcd7ed57bd00",
   "metadata": {},
   "outputs": [
    {
     "name": "stdout",
     "output_type": "stream",
     "text": [
      "[20, 30, 25, 156]\n",
      "[20, 30, 25]\n"
     ]
    }
   ],
   "source": [
    "my_list = [20, 30, 25]\n",
    "my_list_5 = my_list.copy()\n",
    "my_list.append(156)\n",
    "print(my_list)\n",
    "print(my_list_5)"
   ]
  },
  {
   "cell_type": "code",
   "execution_count": 63,
   "id": "964ebf6c-aebd-425c-aadf-940b553f2c01",
   "metadata": {},
   "outputs": [],
   "source": [
    "name = \"John Smeth\""
   ]
  },
  {
   "cell_type": "code",
   "execution_count": 64,
   "id": "7eb03609-d02e-4c00-9415-f20ee70ea53b",
   "metadata": {},
   "outputs": [
    {
     "data": {
      "text/plain": [
       "[20, 31, 25, 156]"
      ]
     },
     "execution_count": 64,
     "metadata": {},
     "output_type": "execute_result"
    }
   ],
   "source": [
    "my_list[1] = 31\n",
    "my_list"
   ]
  },
  {
   "cell_type": "code",
   "execution_count": 65,
   "id": "f5a9d433-d163-4e0e-92b1-5af72e32be24",
   "metadata": {},
   "outputs": [
    {
     "data": {
      "text/plain": [
       "['J', 'o', 'h', 'n', ' ', 'S', 'm', 'e', 't', 'h']"
      ]
     },
     "execution_count": 65,
     "metadata": {},
     "output_type": "execute_result"
    }
   ],
   "source": [
    "list(name)"
   ]
  },
  {
   "cell_type": "code",
   "execution_count": 66,
   "id": "4bfe6c3c-98f1-45d0-9067-d60d690a2214",
   "metadata": {},
   "outputs": [
    {
     "name": "stdout",
     "output_type": "stream",
     "text": [
      "['J', 'o', 'h', 'n', ' ', 'S', 'm', 'i', 't', 'h']\n"
     ]
    }
   ],
   "source": [
    "name_temp = list(name)\n",
    "name_temp[7] = 'i'\n",
    "print(name_temp)"
   ]
  },
  {
   "cell_type": "code",
   "execution_count": 67,
   "id": "5f40899a-de1b-4f69-a2d2-fbad6e88fb30",
   "metadata": {},
   "outputs": [
    {
     "data": {
      "text/plain": [
       "'John Smith'"
      ]
     },
     "execution_count": 67,
     "metadata": {},
     "output_type": "execute_result"
    }
   ],
   "source": [
    "name = \"\".join(name_temp)\n",
    "name"
   ]
  },
  {
   "cell_type": "code",
   "execution_count": 74,
   "id": "91b68756-2079-4c07-957d-e3ee766616f8",
   "metadata": {},
   "outputs": [
    {
     "name": "stdout",
     "output_type": "stream",
     "text": [
      "{25, 20, 156, 31}\n",
      "That was easy! Here is your list of names ['Mohammad', 'Ali', 'John', 'Smith']\n"
     ]
    }
   ],
   "source": [
    "names  = [\"Mohammad\", \"Ali\", \"John\", \"Smith\", \"John\", \"John\", \"Ali\"]\n",
    "uniq_names = []\n",
    "\n",
    "res =  set()\n",
    "res.update(my_list)\n",
    "print(res)\n",
    "\n",
    "for name in names:\n",
    "    if(name not in uniq_names):\n",
    "        uniq_names.append(name)\n",
    "\n",
    "print(f'That was easy! Here is your list of names {uniq_names}')"
   ]
  },
  {
   "cell_type": "code",
   "execution_count": 75,
   "id": "b676670a-a936-4454-b422-a43044ad074c",
   "metadata": {},
   "outputs": [
    {
     "data": {
      "text/plain": [
       "[20, 60]"
      ]
     },
     "execution_count": 75,
     "metadata": {},
     "output_type": "execute_result"
    }
   ],
   "source": [
    "numbers= [10, 20, 30]\n",
    "double_names = []\n",
    "for item in numbers:\n",
    "    if(item !=20):\n",
    "        double_names.append(2*item)\n",
    "double_names"
   ]
  },
  {
   "cell_type": "code",
   "execution_count": 76,
   "id": "37d331f0-dd5f-4f35-bbc0-0c2ecba73f04",
   "metadata": {},
   "outputs": [
    {
     "data": {
      "text/plain": [
       "[20, 60]"
      ]
     },
     "execution_count": 76,
     "metadata": {},
     "output_type": "execute_result"
    }
   ],
   "source": [
    "numbers= [10, 20, 30]\n",
    "double_names = [2*item for item in numbers if item !=20]\n",
    "\n",
    "double_names"
   ]
  },
  {
   "cell_type": "code",
   "execution_count": 77,
   "id": "c1c5600e-02dd-4ac2-826e-c780e4702f8a",
   "metadata": {},
   "outputs": [
    {
     "data": {
      "text/plain": [
       "'aaaaaaaaaa'"
      ]
     },
     "execution_count": 77,
     "metadata": {},
     "output_type": "execute_result"
    }
   ],
   "source": [
    "'a'*10"
   ]
  },
  {
   "cell_type": "code",
   "execution_count": 78,
   "id": "9ead5525-d1d2-4c67-b700-136a7b19d833",
   "metadata": {},
   "outputs": [
    {
     "data": {
      "text/plain": [
       "[0, 0, 0, 0, 0, 0, 0, 0, 0, 0]"
      ]
     },
     "execution_count": 78,
     "metadata": {},
     "output_type": "execute_result"
    }
   ],
   "source": [
    "[0]*10"
   ]
  },
  {
   "cell_type": "code",
   "execution_count": 79,
   "id": "7c091f76-6b72-449d-83eb-292f0961fa27",
   "metadata": {},
   "outputs": [],
   "source": [
    "a = ['ayswgv fad', 132323, True, [1231,4,676,\"dkjfb gsf\"]] "
   ]
  },
  {
   "cell_type": "code",
   "execution_count": 80,
   "id": "a73208af-bf3e-4613-8cdc-9532d554b650",
   "metadata": {},
   "outputs": [
    {
     "name": "stdout",
     "output_type": "stream",
     "text": [
      "[[0, 0, 0], [0, 0, 0], [0, 0, 0], [0, 0, 0]]\n"
     ]
    }
   ],
   "source": [
    "b = [[0,0,0], [0,0,0], [0,0,0], [0,0,0]]\n",
    "print(b)"
   ]
  },
  {
   "cell_type": "code",
   "execution_count": 81,
   "id": "541b5863-2fcf-427f-adf6-79885d326248",
   "metadata": {},
   "outputs": [
    {
     "data": {
      "text/plain": [
       "[0, 0, 0, 0, 0, 0, 0, 0, 0, 0, 0, 0]"
      ]
     },
     "execution_count": 81,
     "metadata": {},
     "output_type": "execute_result"
    }
   ],
   "source": [
    "[0,0,0]*4"
   ]
  },
  {
   "cell_type": "code",
   "execution_count": 82,
   "id": "a6b875fa-c3a9-4362-80ec-b72fbf7aca8a",
   "metadata": {},
   "outputs": [
    {
     "name": "stdout",
     "output_type": "stream",
     "text": [
      "[[0, 0, 0], [0, 0, 0], [0, 0, 0], [0, 0, 0]]\n"
     ]
    }
   ],
   "source": [
    "c= [[0,0,0]]*4\n",
    "print(c)"
   ]
  },
  {
   "cell_type": "code",
   "execution_count": 83,
   "id": "e0eee50d-df71-42a8-b63d-21d1a13d9aec",
   "metadata": {},
   "outputs": [],
   "source": [
    "c[1][0]=5"
   ]
  },
  {
   "cell_type": "code",
   "execution_count": 84,
   "id": "de77710f-616c-4483-aafb-2d2a7af67386",
   "metadata": {},
   "outputs": [
    {
     "name": "stdout",
     "output_type": "stream",
     "text": [
      "[[5, 0, 0], [5, 0, 0], [5, 0, 0], [5, 0, 0]]\n"
     ]
    }
   ],
   "source": [
    "print(c)"
   ]
  },
  {
   "cell_type": "code",
   "execution_count": 85,
   "id": "77c24f83-9750-4032-a9e9-306632981c3a",
   "metadata": {},
   "outputs": [],
   "source": [
    "c[1][0]=6"
   ]
  },
  {
   "cell_type": "code",
   "execution_count": 86,
   "id": "12cf104f-2945-4b95-b333-e6049c06673d",
   "metadata": {},
   "outputs": [
    {
     "name": "stdout",
     "output_type": "stream",
     "text": [
      "[[6, 0, 0], [6, 0, 0], [6, 0, 0], [6, 0, 0]]\n"
     ]
    }
   ],
   "source": [
    "print(c)"
   ]
  },
  {
   "cell_type": "code",
   "execution_count": 88,
   "id": "c5614b62-7f6b-4ce6-9fa5-33288d1f763b",
   "metadata": {},
   "outputs": [
    {
     "name": "stdout",
     "output_type": "stream",
     "text": [
      "[[0, 0, 0], [0, 0, 0], [0, 0, 0], [0, 0, 0]]\n",
      "[[0, 0, 0], [5, 0, 0], [0, 0, 0], [0, 0, 0]]\n"
     ]
    }
   ],
   "source": [
    "c= [[0, 0, 0], [0, 0, 0], [0, 0, 0], [0, 0, 0]]\n",
    "print(c)\n",
    "c[1][0]=5\n",
    "print(c)"
   ]
  },
  {
   "cell_type": "markdown",
   "id": "ee19e5fc-b88a-41f5-801d-e89b11047487",
   "metadata": {},
   "source": [
    "### TUPLE"
   ]
  },
  {
   "cell_type": "code",
   "execution_count": 89,
   "id": "3c4e4222-5474-4a23-adf5-23a47300dfa0",
   "metadata": {},
   "outputs": [
    {
     "name": "stdout",
     "output_type": "stream",
     "text": [
      "(10, 20)\n"
     ]
    }
   ],
   "source": [
    "tuple_1 = (10, 20)\n",
    "print(tuple_1)"
   ]
  },
  {
   "cell_type": "code",
   "execution_count": 90,
   "id": "2ce266a1-da09-46f7-957a-7e0b6af791fb",
   "metadata": {},
   "outputs": [
    {
     "data": {
      "text/plain": [
       "10"
      ]
     },
     "execution_count": 90,
     "metadata": {},
     "output_type": "execute_result"
    }
   ],
   "source": [
    "tuple_1[0]"
   ]
  },
  {
   "cell_type": "code",
   "execution_count": 91,
   "id": "45af3dc0-6197-43be-a062-aec5fa50e84a",
   "metadata": {},
   "outputs": [
    {
     "data": {
      "text/plain": [
       "10"
      ]
     },
     "execution_count": 91,
     "metadata": {},
     "output_type": "execute_result"
    }
   ],
   "source": [
    "tuple_1[0] # = 15"
   ]
  },
  {
   "cell_type": "code",
   "execution_count": 92,
   "id": "ba64d8a0-abbd-44e6-a816-f7b61ef6a701",
   "metadata": {},
   "outputs": [
    {
     "data": {
      "text/plain": [
       "2"
      ]
     },
     "execution_count": 92,
     "metadata": {},
     "output_type": "execute_result"
    }
   ],
   "source": [
    "len(tuple_1)"
   ]
  },
  {
   "cell_type": "code",
   "execution_count": null,
   "id": "242edecc-9ecf-417b-b0ee-e2a070630a6b",
   "metadata": {},
   "outputs": [],
   "source": [
    "tuple_2 = ()"
   ]
  },
  {
   "cell_type": "code",
   "execution_count": 94,
   "id": "8124d662-1698-40ec-a40e-72b2719281ae",
   "metadata": {},
   "outputs": [
    {
     "name": "stdout",
     "output_type": "stream",
     "text": [
      "()\n"
     ]
    }
   ],
   "source": [
    "print(tuple_2)"
   ]
  },
  {
   "cell_type": "code",
   "execution_count": 95,
   "id": "5247a63e-767c-4710-8a1b-68440dccfd31",
   "metadata": {},
   "outputs": [
    {
     "name": "stdout",
     "output_type": "stream",
     "text": [
      "50\n"
     ]
    }
   ],
   "source": [
    "tuple_3 = (50)\n",
    "\n",
    "print(tuple_3)"
   ]
  },
  {
   "cell_type": "code",
   "execution_count": 96,
   "id": "35935007-6f40-4215-83f3-bcb775299b78",
   "metadata": {},
   "outputs": [
    {
     "name": "stdout",
     "output_type": "stream",
     "text": [
      "(50,)\n",
      "1\n"
     ]
    }
   ],
   "source": [
    "tuple_3 = (50,)\n",
    "# if you dont add commma in the end as in tuple_3 = (50,) it will be treated as a int\n",
    "print(tuple_3)\n",
    "print(len(tuple_3))"
   ]
  },
  {
   "cell_type": "code",
   "execution_count": 98,
   "id": "2bd0490c-a497-4a27-b683-e50f3cd3d7b4",
   "metadata": {},
   "outputs": [],
   "source": [
    "a = [5,6,9]\n",
    "b = (5,6,9)"
   ]
  },
  {
   "cell_type": "code",
   "execution_count": 106,
   "id": "762225fa-6318-4f5d-8d62-443c65b07379",
   "metadata": {},
   "outputs": [
    {
     "name": "stdout",
     "output_type": "stream",
     "text": [
      "6\n"
     ]
    }
   ],
   "source": [
    "num1, num2, num3 = a\n",
    "\n",
    "print(num2)"
   ]
  },
  {
   "cell_type": "code",
   "execution_count": 108,
   "id": "a290e8d7-9780-4cca-bf12-a7b1f236675d",
   "metadata": {},
   "outputs": [],
   "source": [
    "my_range = range(5, 92)\n",
    "\n",
    "st, *mid, en = my_range"
   ]
  },
  {
   "cell_type": "code",
   "execution_count": 109,
   "id": "ec2b0a59-cb38-4c14-8891-9dcf9115cfac",
   "metadata": {},
   "outputs": [
    {
     "name": "stdout",
     "output_type": "stream",
     "text": [
      "5\n",
      "[6, 7, 8, 9, 10, 11, 12, 13, 14, 15, 16, 17, 18, 19, 20, 21, 22, 23, 24, 25, 26, 27, 28, 29, 30, 31, 32, 33, 34, 35, 36, 37, 38, 39, 40, 41, 42, 43, 44, 45, 46, 47, 48, 49, 50, 51, 52, 53, 54, 55, 56, 57, 58, 59, 60, 61, 62, 63, 64, 65, 66, 67, 68, 69, 70, 71, 72, 73, 74, 75, 76, 77, 78, 79, 80, 81, 82, 83, 84, 85, 86, 87, 88, 89, 90]\n",
      "91\n",
      "#1 grade is 100\n",
      "#2 grade is 98\n",
      "#3 grade is 87\n"
     ]
    }
   ],
   "source": [
    "print(st)\n",
    "print(mid)\n",
    "print(en)\n",
    "\n",
    "for i, itr in enumerate([100, 98, 87]):\n",
    "    print(f'#{i+1} grade is {itr}')"
   ]
  },
  {
   "cell_type": "code",
   "execution_count": 104,
   "id": "d2263432-8a46-43ab-b81c-a17b8521aac8",
   "metadata": {},
   "outputs": [
    {
     "data": {
      "text/plain": [
       "[20, 31, 25, 156]"
      ]
     },
     "execution_count": 104,
     "metadata": {},
     "output_type": "execute_result"
    }
   ],
   "source": [
    "my_list\n"
   ]
  },
  {
   "cell_type": "code",
   "execution_count": 110,
   "id": "609cce97-4d44-4b8a-88a2-d0f5652b9b8e",
   "metadata": {},
   "outputs": [
    {
     "name": "stdout",
     "output_type": "stream",
     "text": [
      "#0: 20\n",
      "#1: 31\n",
      "#2: 25\n",
      "#3: 156\n"
     ]
    }
   ],
   "source": [
    "for i in range(len(my_list)):\n",
    "    item = my_list[i]\n",
    "    print(f'#{i}: {item}')"
   ]
  },
  {
   "cell_type": "code",
   "execution_count": 111,
   "id": "405c6b17-4550-4b6a-8130-fc4ac87c6da8",
   "metadata": {},
   "outputs": [
    {
     "data": {
      "text/plain": [
       "<enumerate at 0x107e56180>"
      ]
     },
     "execution_count": 111,
     "metadata": {},
     "output_type": "execute_result"
    }
   ],
   "source": [
    "enumerate(my_list)"
   ]
  },
  {
   "cell_type": "code",
   "execution_count": 112,
   "id": "78486621-d8da-4608-bc77-c0b943464920",
   "metadata": {},
   "outputs": [
    {
     "data": {
      "text/plain": [
       "[(0, 20), (1, 31), (2, 25), (3, 156)]"
      ]
     },
     "execution_count": 112,
     "metadata": {},
     "output_type": "execute_result"
    }
   ],
   "source": [
    "list(enumerate(my_list))"
   ]
  },
  {
   "cell_type": "code",
   "execution_count": 113,
   "id": "4dd82b36-914a-4c6a-aa69-dd0f18514ff7",
   "metadata": {},
   "outputs": [
    {
     "name": "stdout",
     "output_type": "stream",
     "text": [
      "#0: 20\n",
      "#1: 31\n",
      "#2: 25\n",
      "#3: 156\n"
     ]
    }
   ],
   "source": [
    "for i, v in enumerate(my_list):\n",
    "    print(f'#{i}: {v}')"
   ]
  }
 ],
 "metadata": {
  "kernelspec": {
   "display_name": ".venv",
   "language": "python",
   "name": "python3"
  },
  "language_info": {
   "codemirror_mode": {
    "name": "ipython",
    "version": 3
   },
   "file_extension": ".py",
   "mimetype": "text/x-python",
   "name": "python",
   "nbconvert_exporter": "python",
   "pygments_lexer": "ipython3",
   "version": "3.9.6"
  }
 },
 "nbformat": 4,
 "nbformat_minor": 5
}
